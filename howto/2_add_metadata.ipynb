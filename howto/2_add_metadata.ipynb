{
  "cells": [
    {
      "cell_type": "markdown",
      "metadata": {},
      "source": [
        "# Incorporate metadata into profiles\n",
        "\n",
        "A very common task when processing morphological profiles is knowing\n",
        "which ones are treatments and which ones are controls. Here we will\n",
        "explore how we can use broad-babel to accomplish this task."
      ],
      "id": "ec4ac919-ee13-4076-b3b8-db02402058bc"
    },
    {
      "cell_type": "code",
      "execution_count": 1,
      "metadata": {
        "title": "Imports"
      },
      "outputs": [],
      "source": [
        "import polars as pl\n",
        "from broad_babel.query import get_mapper\n",
        "from pyarrow.dataset import dataset\n",
        "from s3fs import S3FileSystem"
      ],
      "id": "5cf057c5"
    },
    {
      "cell_type": "code",
      "execution_count": 2,
      "metadata": {
        "title": "[Markdown] Fetch profiles"
      },
      "outputs": [],
      "source": [
        "# We will be using the CRISPR dataset specificed in our index csv."
      ],
      "id": "c4c8db28"
    },
    {
      "cell_type": "code",
      "execution_count": 3,
      "metadata": {
        "title": "Fetch the CRISPR dataset"
      },
      "outputs": [
        {
          "output_type": "stream",
          "name": "stdout",
          "text": [
            "['Metadata_Source', 'Metadata_Plate', 'Metadata_Well', 'Metadata_JCP2022', 'X_1', 'X_2']"
          ]
        }
      ],
      "source": [
        "INDEX_FILE = \"https://raw.githubusercontent.com/jump-cellpainting/datasets/50cd2ab93749ccbdb0919d3adf9277c14b6343dd/manifests/profile_index.csv\"\n",
        "CRISPR_URL = pl.read_csv(INDEX_FILE).filter(pl.col(\"subset\")==\"crispr\").item(0,\"url\")\n",
        "profiles = pl.scan_parquet(CRISPR_URL)\n",
        "print(profiles.collect_schema().names()[:6])"
      ],
      "id": "32d20f86"
    },
    {
      "cell_type": "markdown",
      "metadata": {},
      "source": [
        "For simplicity the contents of our processed profiles are minimal: “The\n",
        "profile origin” (source, plate and well) and the unique JUMP identifier\n",
        "for that perturbation. We will use broad-babel to further expand on this\n",
        "metadata, but for simplicity’s sake let us sample subset of data."
      ],
      "id": "11c6789b-5e9e-4c03-99a2-692c8a601c30"
    },
    {
      "cell_type": "code",
      "execution_count": 4,
      "metadata": {
        "title": "Subset data"
      },
      "outputs": [
        {
          "output_type": "display_data",
          "metadata": {},
          "data": {
            "text/plain": [
              "('JCP2022_800319',\n",
              " 'JCP2022_805565',\n",
              " 'JCP2022_801787',\n",
              " 'JCP2022_805162',\n",
              " 'JCP2022_807673',\n",
              " 'JCP2022_805816',\n",
              " 'JCP2022_805145',\n",
              " 'JCP2022_801025',\n",
              " 'JCP2022_806826',\n",
              " 'JCP2022_807748',\n",
              " 'JCP2022_800002')"
            ]
          }
        }
      ],
      "source": [
        "jcp_ids = profiles.select(pl.col(\"Metadata_JCP2022\")).unique().collect().to_series()\n",
        "subsample = jcp_ids.sample(10, seed=42)\n",
        "# Add a well-known control\n",
        "subsample = (*subsample, \"JCP2022_800002\")\n",
        "subsample"
      ],
      "id": "9d802326"
    },
    {
      "cell_type": "markdown",
      "metadata": {},
      "source": [
        "We will use these JUMP ids to obtain a mapper that indicates the\n",
        "perturbation type (trt, negcon or, rarely, poscon)"
      ],
      "id": "be88833c-7489-4063-80da-d0dd3e9ac920"
    },
    {
      "cell_type": "code",
      "execution_count": 5,
      "metadata": {
        "title": "Pull mapper"
      },
      "outputs": [
        {
          "output_type": "display_data",
          "metadata": {},
          "data": {
            "text/plain": [
              "{'JCP2022_800319': 'trt',\n",
              " 'JCP2022_806826': 'trt',\n",
              " 'JCP2022_805145': 'trt',\n",
              " 'JCP2022_801025': 'trt',\n",
              " 'JCP2022_801787': 'trt',\n",
              " 'JCP2022_807673': 'trt',\n",
              " 'JCP2022_805565': 'trt',\n",
              " 'JCP2022_807748': 'trt',\n",
              " 'JCP2022_800002': 'negcon',\n",
              " 'JCP2022_805162': 'trt',\n",
              " 'JCP2022_805816': 'trt'}"
            ]
          }
        }
      ],
      "source": [
        "pert_mapper = get_mapper(subsample, input_column=\"JCP2022\", output_columns=\"JCP2022,pert_type\")\n",
        "pert_mapper"
      ],
      "id": "3ee25414"
    },
    {
      "cell_type": "markdown",
      "metadata": {},
      "source": [
        "A couple of important notes about broad_babel’s get mapper and other\n",
        "functions: - these must be fed tuples, as these are cached and provide\n",
        "significant speed-ups for repeated calls - ‘get-mapper’ works for\n",
        "datasets for up to a few tens of thousands of samples. If you try to use\n",
        "it to get a mapper for the entirety of the ‘compounds’ dataset it is\n",
        "likely to fail. For these cases we suggest the more general function\n",
        "‘run_query’. You can read more on this and other use-cases on Babel’s\n",
        "[readme](https://github.com/broadinstitute/monorepo/tree/main/libs/jump_babel).\n",
        "\n",
        "We will now repeat the process to get their ‘standard’ name"
      ],
      "id": "e294b0db-6bac-4fa1-b245-1aa82969c952"
    },
    {
      "cell_type": "code",
      "execution_count": 6,
      "metadata": {
        "title": "Fetch standard name"
      },
      "outputs": [
        {
          "output_type": "display_data",
          "metadata": {},
          "data": {
            "text/plain": [
              "{'JCP2022_801787': 'DHPS',\n",
              " 'JCP2022_805816': 'RAF1',\n",
              " 'JCP2022_807673': 'VWF',\n",
              " 'JCP2022_806826': 'STAT4',\n",
              " 'JCP2022_800002': 'non-targeting',\n",
              " 'JCP2022_805565': 'PRPF18',\n",
              " 'JCP2022_800319': 'AGPS',\n",
              " 'JCP2022_807748': 'ZBTB16',\n",
              " 'JCP2022_805162': 'PIK3R3',\n",
              " 'JCP2022_805145': 'PIGL',\n",
              " 'JCP2022_801025': 'CAMK1G'}"
            ]
          }
        }
      ],
      "source": [
        "name_mapper = get_mapper((*subsample, \"JCP2022_800002\"), input_column=\"JCP2022\", output_columns=\"JCP2022,standard_key\")\n",
        "name_mapper"
      ],
      "id": "715147e8"
    },
    {
      "cell_type": "markdown",
      "metadata": {},
      "source": [
        "To wrap up, we will fetch all the available profiles for these\n",
        "perturbations and use the mappers to add the missing metadata. We also\n",
        "select a few features to showcase how how selection can be performed in\n",
        "polars."
      ],
      "id": "14f08de3-9c52-47c3-b8dc-1a1b41fda8bb"
    },
    {
      "cell_type": "code",
      "execution_count": 7,
      "metadata": {
        "title": "Filter profiles and merge metadata"
      },
      "outputs": [
        {
          "output_type": "display_data",
          "metadata": {},
          "data": {
            "text/html": [
              "</div>"
            ]
          }
        }
      ],
      "source": [
        "subsample_profiles = profiles.filter(pl.col(\"Metadata_JCP2022\").is_in(subsample)).collect()\n",
        "profiles_with_meta = subsample_profiles.with_columns(pl.col(\"Metadata_JCP2022\").replace(pert_mapper).alias(\"pert_type\"),\n",
        "                                pl.col(\"Metadata_JCP2022\").replace(name_mapper).alias(\"name\"))\n",
        "profiles_with_meta.select(pl.col((\"name\",\"pert_type\", \"^Metadata.*$\", \"^X_[0-3]$\"))).sort(by=\"pert_type\")"
      ],
      "id": "93b54b9b"
    }
  ],
  "nbformat": 4,
  "nbformat_minor": 5,
  "metadata": {
    "jupytext": {
      "executable": "/usr/bin/env jupyter",
      "text_representation": {
        "extension": ".qmd",
        "format_name": "quarto",
        "format_version": "1.0",
        "jupytext_version": "1.16.4"
      }
    },
    "kernelspec": {
      "name": "python3",
      "display_name": "Python 3",
      "language": "python"
    },
    "language_info": {
      "name": "python",
      "codemirror_mode": {
        "name": "ipython",
        "version": "3"
      },
      "file_extension": ".py",
      "mimetype": "text/x-python",
      "nbconvert_exporter": "python",
      "pygments_lexer": "ipython3",
      "version": "3.11.8"
    }
  }
}