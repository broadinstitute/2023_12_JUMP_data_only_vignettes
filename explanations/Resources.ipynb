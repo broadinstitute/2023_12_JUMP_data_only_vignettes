{
  "cells": [
    {
      "cell_type": "markdown",
      "metadata": {},
      "source": [
        "# \n",
        "\n",
        "-   [Available resources](#Available%20resources)\n",
        "\n",
        "<a id=\"Available%20resources\"></a>\n",
        "\n",
        "# Available resources\n",
        "\n",
        "-   Home [website](https://jump-cellpainting.broadinstitute.org/):\n",
        "    Access news and related publications.\n",
        "-   We provide Open Source Web “JUMPer” interfaces for all three\n",
        "    datasets:\n",
        "    -   Explore all images with an available morphological profile:\n",
        "        [CRISPR](https://broad.io/crispr_gallery),\n",
        "        [ORF](https://broad.io/orf_gallery),\n",
        "        [Compounds](https://broad.io/compound_gallery).\n",
        "    -   Explore the most similar matches for any given perturbation:\n",
        "        [CRISPR](https://broad.io/crispr), [ORF](https://broad.io/orf)\n",
        "    -   Explore the most distinctive features for any given gene:\n",
        "        [ORF](https://broad.io/orf_feature)\n",
        "\n",
        "Pending interfaces are work in progress. More details can be found\n",
        "[here](https://github.com/broadinstitute/monorepo/tree/main/libs/jump_rr).\n",
        "\n",
        "-   Ardigen provides a\n",
        "    [website](https://phenaid.ardigen.com/jumpcpexplorer/) to explore a\n",
        "    representation (requires creating a free account).\n",
        "-   Spring Science also provides a\n",
        "    [website](https://www.springscience.com/jump-cp) for data\n",
        "    exploration (account needed)."
      ],
      "id": "40f50678-7454-4cd8-9629-1034f5f9141d"
    }
  ],
  "nbformat": 4,
  "nbformat_minor": 5,
  "metadata": {
    "kernelspec": {
      "display_name": "Python 3",
      "language": "python",
      "name": "python3"
    }
  }
}