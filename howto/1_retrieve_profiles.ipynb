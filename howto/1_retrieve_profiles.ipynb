{
  "cells": [
    {
      "cell_type": "markdown",
      "metadata": {},
      "source": [
        "# Retrieve JUMP profiles\n",
        "\n",
        "This is a tutorial on how to access profiles from the [JUMP Cell\n",
        "Painting datasets](https://github.com/jump-cellpainting/datasets). We\n",
        "will use polars to fetch the data frames lazily, with the help of `s3fs`\n",
        "and `pyarrow`. We prefer lazy loading because the data can be too big to\n",
        "be handled in memory."
      ],
      "id": "45888e1a-e51c-40bd-9087-d92e779ff018"
    },
    {
      "cell_type": "code",
      "execution_count": 1,
      "metadata": {
        "title": "Imports"
      },
      "outputs": [],
      "source": [
        "import polars as pl"
      ],
      "id": "5f73989d"
    },
    {
      "cell_type": "markdown",
      "metadata": {},
      "source": [
        "The shapes of the available datasets are:\n",
        "\n",
        "1.  `cpg0016-jump[crispr]`: CRISPR knockouts genetic perturbations.\n",
        "2.  `cpg0016-jump[orf]`: Overexpression genetic perturbations.\n",
        "3.  `cpg0016-jump[compound]`: Chemical perturbations.\n",
        "\n",
        "Their explicit location is determined by the transformations that\n",
        "produce the datasets. The aws paths of the dataframes are built from a\n",
        "prefix below:"
      ],
      "id": "1674ec5c-a8d3-4b6e-94df-d91f6bfbe0b6"
    },
    {
      "cell_type": "code",
      "execution_count": 2,
      "metadata": {
        "title": "Paths"
      },
      "outputs": [],
      "source": [
        "INDEX_FILE = \"https://raw.githubusercontent.com/jump-cellpainting/datasets/50cd2ab93749ccbdb0919d3adf9277c14b6343dd/manifests/profile_index.csv\""
      ],
      "id": "fe75a506"
    },
    {
      "cell_type": "markdown",
      "metadata": {},
      "source": [
        "We use a version-controlled csv to release the latest corrected profiles"
      ],
      "id": "3f93cd37-4e81-4a00-81db-cff40c22b1b9"
    },
    {
      "cell_type": "code",
      "execution_count": 3,
      "metadata": {},
      "outputs": [
        {
          "output_type": "display_data",
          "metadata": {},
          "data": {
            "text/html": [
              "</div>"
            ]
          }
        }
      ],
      "source": [
        "profile_index = pl.read_csv(INDEX_FILE)\n",
        "profile_index.head()"
      ],
      "id": "8d30c792"
    },
    {
      "cell_type": "markdown",
      "metadata": {},
      "source": [
        "We do not need the ‘etag’ (used to check file integrity) column nor the\n",
        "‘interpretable’ (i.e., before major modifications)"
      ],
      "id": "650c68cd-a063-48f4-bf05-e5d13fb6d9a3"
    },
    {
      "cell_type": "code",
      "execution_count": 4,
      "metadata": {},
      "outputs": [
        {
          "output_type": "stream",
          "name": "stdout",
          "text": [
            "{'orf': 'https://cellpainting-gallery.s3.amazonaws.com/cpg0016-jump-assembled/source_all/workspace/profiles/jump-profiling-recipe_2024_a917fa7/ORF/profiles_wellpos_cc_var_mad_outlier_featselect_sphering_harmony/profiles_wellpos_cc_var_mad_outlier_featselect_sphering_harmony.parquet', 'crispr': 'https://cellpainting-gallery.s3.amazonaws.com/cpg0016-jump-assembled/source_all/workspace/profiles/jump-profiling-recipe_2024_a917fa7/CRISPR/profiles_wellpos_cc_var_mad_outlier_featselect_sphering_harmony_PCA_corrected/profiles_wellpos_cc_var_mad_outlier_featselect_sphering_harmony_PCA_corrected.parquet', 'compound': 'https://cellpainting-gallery.s3.amazonaws.com/cpg0016-jump-assembled/source_all/workspace/profiles/jump-profiling-recipe_2024_a917fa7/COMPOUND/profiles_var_mad_int_featselect_harmony/profiles_var_mad_int_featselect_harmony.parquet'}"
          ]
        }
      ],
      "source": [
        "selected_profiles = profile_index.filter(\n",
        "    pl.col(\"subset\").is_in((\"crispr\", \"orf\", \"compound\"))\n",
        ").select(pl.exclude(\"etag\"))\n",
        "filepaths = dict(selected_profiles.iter_rows())\n",
        "print(filepaths)"
      ],
      "id": "deba7131"
    },
    {
      "cell_type": "markdown",
      "metadata": {},
      "source": [
        "We will lazy-load the dataframes and print the number of rows and\n",
        "columns"
      ],
      "id": "53928107-cac6-4230-9e58-fc5f5ba19140"
    },
    {
      "cell_type": "code",
      "execution_count": 5,
      "metadata": {},
      "outputs": [
        {
          "output_type": "display_data",
          "metadata": {},
          "data": {
            "text/html": [
              "</div>"
            ]
          }
        }
      ],
      "source": [
        "info = {k: [] for k in (\"dataset\", \"#rows\", \"#cols\", \"#Metadata cols\", \"Size (MB)\")}\n",
        "for name, path in filepaths.items():\n",
        "    data = pl.scan_parquet(path)\n",
        "    n_rows = data.select(pl.len()).collect().item()\n",
        "    schema = data.collect_schema()\n",
        "    metadata_cols = [col for col in schema.keys() if col.startswith(\"Metadata\")]\n",
        "    n_cols = schema.len()\n",
        "    n_meta_cols = len(metadata_cols)\n",
        "    estimated_size = int(round(4.03 * n_rows * n_cols / 1e6, 0))  # B -> MB\n",
        "    for k, v in zip(info.keys(), (name, n_rows, n_cols, n_meta_cols, estimated_size)):\n",
        "        info[k].append(v)\n",
        "\n",
        "pl.DataFrame(info)"
      ],
      "id": "8c11d4a2"
    },
    {
      "cell_type": "markdown",
      "metadata": {},
      "source": [
        "Let us now focus on the `crispr` dataset and use a regex to select the\n",
        "metadata columns. We will then sample rows and display the overview.\n",
        "Note that the collect() method enforces loading some data into memory."
      ],
      "id": "7841996a-cc03-44b2-802a-2892fc94bd74"
    },
    {
      "cell_type": "code",
      "execution_count": 6,
      "metadata": {},
      "outputs": [
        {
          "output_type": "display_data",
          "metadata": {},
          "data": {
            "text/html": [
              "</div>"
            ]
          }
        }
      ],
      "source": [
        "data = pl.scan_parquet(filepaths[\"crispr\"])\n",
        "data.select(pl.col(\"^Metadata.*$\").sample(n=5, seed=1)).collect()"
      ],
      "id": "c113637c"
    },
    {
      "cell_type": "markdown",
      "metadata": {},
      "source": [
        "The following line excludes the metadata columns:"
      ],
      "id": "34f0d240-e724-4087-8fb4-8790544aa1f9"
    },
    {
      "cell_type": "code",
      "execution_count": 7,
      "metadata": {},
      "outputs": [
        {
          "output_type": "display_data",
          "metadata": {},
          "data": {
            "text/html": [
              "</div>"
            ]
          }
        }
      ],
      "source": [
        "data_only = data.select(pl.all().exclude(\"^Metadata.*$\").sample(n=5, seed=1)).collect()\n",
        "data_only"
      ],
      "id": "8391c01d"
    },
    {
      "cell_type": "markdown",
      "metadata": {},
      "source": [
        "Finally, we can convert this to `pandas` if we want to perform analyses\n",
        "with that tool. Keep in mind that this loads the entire dataframe into\n",
        "memory."
      ],
      "id": "809c4855-f56b-4bc6-b75a-ee58bf2564a7"
    },
    {
      "cell_type": "code",
      "execution_count": 8,
      "metadata": {},
      "outputs": [
        {
          "output_type": "display_data",
          "metadata": {},
          "data": {
            "text/html": [
              "\n",
              "<p>5 rows × 259 columns</p>\n",
              "</div>"
            ]
          }
        }
      ],
      "source": [
        "data_only.to_pandas()"
      ],
      "id": "ca76b128"
    }
  ],
  "nbformat": 4,
  "nbformat_minor": 5,
  "metadata": {
    "jupytext": {
      "executable": "/usr/bin/env jupyter",
      "text_representation": {
        "extension": ".qmd",
        "format_name": "quarto",
        "format_version": "1.0",
        "jupytext_version": "1.16.4"
      }
    },
    "kernelspec": {
      "name": "python3",
      "display_name": "Python 3",
      "language": "python"
    },
    "language_info": {
      "name": "python",
      "codemirror_mode": {
        "name": "ipython",
        "version": "3"
      },
      "file_extension": ".py",
      "mimetype": "text/x-python",
      "nbconvert_exporter": "python",
      "pygments_lexer": "ipython3",
      "version": "3.11.9"
    }
  }
}