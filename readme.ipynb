{
  "cells": [
    {
      "cell_type": "markdown",
      "metadata": {},
      "source": [
        "# \n",
        "\n",
        "-   [Additional uses](#orgea584c6)\n",
        "\n",
        "Focal point for JUMP information and data analysis pipelines.\n",
        "\n",
        "<a id=\"orgea584c6\"></a>\n",
        "\n",
        "# Additional uses\n",
        "\n",
        "This repository can be used as a way to install essential dependencies\n",
        "for an exploratory analysis of JUMP morphological data."
      ],
      "id": "decd3c2b-4a26-414b-9d10-8c1ababfd68c"
    }
  ],
  "nbformat": 4,
  "nbformat_minor": 5,
  "metadata": {
    "kernelspec": {
      "display_name": "Python 3",
      "language": "python",
      "name": "python3"
    }
  }
}