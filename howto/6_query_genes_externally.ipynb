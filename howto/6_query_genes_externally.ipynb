{
  "cells": [
    {
      "cell_type": "markdown",
      "metadata": {},
      "source": [
        "# Query information of genes\n",
        "\n",
        "This how-to focuses on linking gene names outside. Whilst not\n",
        "JUMP-specific, it is useful to fetch more information on perturbations\n",
        "that our analysis deem important without having to manually search them.\n",
        "We will use [Biopython](https://biopython.org/), this only explores a\n",
        "subset of the options, the full Entrez\n",
        "[documentation](https://www.ncbi.nlm.nih.gov/books/NBK25501/), which\n",
        "contains all the options, is a useful reference to keep in hand.."
      ],
      "id": "a7ef8e69-8c19-4da9-b079-36f7fc4a1696"
    },
    {
      "cell_type": "code",
      "execution_count": 1,
      "metadata": {
        "title": "Imports"
      },
      "outputs": [],
      "source": [
        "import polars as pl\n",
        "from Bio import Entrez\n",
        "from broad_babel.query import get_mapper"
      ],
      "id": "53b29e57"
    },
    {
      "cell_type": "markdown",
      "metadata": {},
      "source": [
        "We define"
      ],
      "id": "d6787913-2eab-495d-b811-09f690ffbdf8"
    },
    {
      "cell_type": "code",
      "execution_count": 2,
      "metadata": {},
      "outputs": [],
      "source": [
        "Entrez.email = \"example@email.com\"\n",
        "fields = (\n",
        "    \"Name\",\n",
        "    \"Description\",\n",
        "    \"Summary\",\n",
        "    \"OtherDesignations\",  # This gives us synonyms\n",
        ")"
      ],
      "id": "0591efc8"
    },
    {
      "cell_type": "markdown",
      "metadata": {},
      "source": [
        "We will use a set of genes that we found in a JUMP cluster as an\n",
        "example."
      ],
      "id": "7597b225-5889-4458-a987-465b444c5fc1"
    },
    {
      "cell_type": "code",
      "execution_count": 3,
      "metadata": {},
      "outputs": [],
      "source": [
        "genes = (\"CHRM4\", \"SCAPER\", \"GPR176\", \"LY6K\")"
      ],
      "id": "7527e08b"
    },
    {
      "cell_type": "markdown",
      "metadata": {},
      "source": [
        "Get the"
      ],
      "id": "0af040d0-d88d-4498-8a19-9f56e9e9b455"
    },
    {
      "cell_type": "code",
      "execution_count": 4,
      "metadata": {},
      "outputs": [],
      "source": [
        "# Get a dictionary that maps Gene symbols to Entrez IDs\n",
        "ids = get_mapper(\n",
        "    query=genes,\n",
        "    input_column=\"standard_key\",\n",
        "    output_columns=\"standard_key,NCBI_Gene_ID\",\n",
        ")\n",
        "\n",
        "# Fetch the summaries for these genes\n",
        "entries = []\n",
        "for id_ in ids.values():\n",
        "    stream = Entrez.esummary(db=\"gene\", id=id_)\n",
        "    record = Entrez.read(stream)\n",
        "\n",
        "    entries.append(\n",
        "        {k: record[\"DocumentSummarySet\"][\"DocumentSummary\"][0][k] for k in fields}\n",
        "    )"
      ],
      "id": "652ec850"
    },
    {
      "cell_type": "code",
      "execution_count": 5,
      "metadata": {
        "title": "Show the columns in a nice way"
      },
      "outputs": [
        {
          "output_type": "stream",
          "name": "stdout",
          "text": [
            "shape: (4, 4)\n",
            "┌────────┬─────────────────────────────┬─────────────────────────────┬─────────────────────────────┐\n",
            "│ Name   ┆ Description                 ┆ Summary                     ┆ OtherDesignations           │\n",
            "│ ---    ┆ ---                         ┆ ---                         ┆ ---                         │\n",
            "│ str    ┆ str                         ┆ str                         ┆ str                         │\n",
            "╞════════╪═════════════════════════════╪═════════════════════════════╪═════════════════════════════╡\n",
            "│ GPR176 ┆ G protein-coupled receptor  ┆ Members of the G            ┆ G-protein coupled receptor  │\n",
            "│        ┆ 176                         ┆ protein-coupled receptor    ┆ 176|probable G-protein      │\n",
            "│        ┆                             ┆ family, such as GPR176, are ┆ coupled receptor 176        │\n",
            "│        ┆                             ┆ cell surface receptors      ┆                             │\n",
            "│        ┆                             ┆ involved in responses to    ┆                             │\n",
            "│        ┆                             ┆ hormones, growth factors,   ┆                             │\n",
            "│        ┆                             ┆ and neurotransmitters (Hata ┆                             │\n",
            "│        ┆                             ┆ et al., 1995 [PubMed        ┆                             │\n",
            "│        ┆                             ┆ 7893747]).[supplied by      ┆                             │\n",
            "│        ┆                             ┆ OMIM, Jul 2008]             ┆                             │\n",
            "│ CHRM4  ┆ cholinergic receptor        ┆ The muscarinic cholinergic  ┆ muscarinic acetylcholine    │\n",
            "│        ┆ muscarinic 4                ┆ receptors belong to a       ┆ receptor M4|acetylcholine   │\n",
            "│        ┆                             ┆ larger family of G          ┆ receptor, muscarinic 4      │\n",
            "│        ┆                             ┆ protein-coupled receptors.  ┆                             │\n",
            "│        ┆                             ┆ The functional diversity of ┆                             │\n",
            "│        ┆                             ┆ these receptors is defined  ┆                             │\n",
            "│        ┆                             ┆ by the binding of           ┆                             │\n",
            "│        ┆                             ┆ acetylcholine and includes  ┆                             │\n",
            "│        ┆                             ┆ cellular responses such as  ┆                             │\n",
            "│        ┆                             ┆ adenylate cyclase           ┆                             │\n",
            "│        ┆                             ┆ inhibition,                 ┆                             │\n",
            "│        ┆                             ┆ phosphoinositide            ┆                             │\n",
            "│        ┆                             ┆ degeneration, and potassium ┆                             │\n",
            "│        ┆                             ┆ channel mediation.          ┆                             │\n",
            "│        ┆                             ┆ Muscarinic receptors        ┆                             │\n",
            "│        ┆                             ┆ influence many effects of   ┆                             │\n",
            "│        ┆                             ┆ acetylcholine in the        ┆                             │\n",
            "│        ┆                             ┆ central and peripheral      ┆                             │\n",
            "│        ┆                             ┆ nervous system. The         ┆                             │\n",
            "│        ┆                             ┆ clinical implications of    ┆                             │\n",
            "│        ┆                             ┆ this receptor are unknown;  ┆                             │\n",
            "│        ┆                             ┆ however, mouse studies link ┆                             │\n",
            "│        ┆                             ┆ its function to adenylyl    ┆                             │\n",
            "│        ┆                             ┆ cyclase inhibition.         ┆                             │\n",
            "│        ┆                             ┆ [provided by RefSeq, Jul    ┆                             │\n",
            "│        ┆                             ┆ 2008]                       ┆                             │\n",
            "│ LY6K   ┆ lymphocyte antigen 6 family ┆ Predicted to be involved in ┆ lymphocyte antigen          │\n",
            "│        ┆ member K                    ┆ binding activity of sperm   ┆ 6K|cancer/testis antigen    │\n",
            "│        ┆                             ┆ to zona pellucida.          ┆ 97|lymphocyte antigen 6     │\n",
            "│        ┆                             ┆ Predicted to act upstream   ┆ complex, locus              │\n",
            "│        ┆                             ┆ of or within flagellated    ┆ K|up-regulated in lung      │\n",
            "│        ┆                             ┆ sperm motility. Predicted   ┆ cancer 10                   │\n",
            "│        ┆                             ┆ to be located in cell       ┆                             │\n",
            "│        ┆                             ┆ surface; cytoplasm; and     ┆                             │\n",
            "│        ┆                             ┆ plasma membrane. Predicted  ┆                             │\n",
            "│        ┆                             ┆ to be active in acrosomal   ┆                             │\n",
            "│        ┆                             ┆ vesicle. [provided by       ┆                             │\n",
            "│        ┆                             ┆ Alliance of Genome          ┆                             │\n",
            "│        ┆                             ┆ Resources, Apr 2022]        ┆                             │\n",
            "│ SCAPER ┆ S-phase cyclin A associated ┆ Predicted to enable nucleic ┆ S phase cyclin A-associated │\n",
            "│        ┆ protein in the ER           ┆ acid binding activity and   ┆ protein in the endoplasmic  │\n",
            "│        ┆                             ┆ zinc ion binding activity.  ┆ reticulum|zinc finger       │\n",
            "│        ┆                             ┆ Located in cytosol and      ┆ protein 291                 │\n",
            "│        ┆                             ┆ nuclear speck. [provided by ┆                             │\n",
            "│        ┆                             ┆ Alliance of Genome          ┆                             │\n",
            "│        ┆                             ┆ Resources, Apr 2022]        ┆                             │\n",
            "└────────┴─────────────────────────────┴─────────────────────────────┴─────────────────────────────┘"
          ]
        }
      ],
      "source": [
        "with pl.Config(fmt_str_lengths=1000):\n",
        "    print(pl.DataFrame(entries))"
      ],
      "id": "5969a312"
    }
  ],
  "nbformat": 4,
  "nbformat_minor": 5,
  "metadata": {
    "jupytext": {
      "executable": "/usr/bin/env jupyter",
      "text_representation": {
        "extension": ".qmd",
        "format_name": "quarto",
        "format_version": "1.0",
        "jupytext_version": "1.16.4"
      }
    },
    "kernelspec": {
      "name": "python3",
      "display_name": "Python 3",
      "language": "python"
    },
    "language_info": {
      "name": "python",
      "codemirror_mode": {
        "name": "ipython",
        "version": "3"
      },
      "file_extension": ".py",
      "mimetype": "text/x-python",
      "nbconvert_exporter": "python",
      "pygments_lexer": "ipython3",
      "version": "3.11.9"
    }
  }
}