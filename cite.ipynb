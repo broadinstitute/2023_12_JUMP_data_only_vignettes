{
  "cells": [
    {
      "cell_type": "markdown",
      "metadata": {},
      "source": [
        "# \n",
        "\n",
        "# Citing the JUMP Resources\n",
        "\n",
        "All data is released under the CC0 1.0 Universal (CC0 1.0) license, but\n",
        "academic citation is expected and appreciated, given the effort invested\n",
        "in creating and maintaining this resource.\n",
        "\n",
        "## Citing the Resource as a Whole\n",
        "\n",
        "Please use the following format to cite the JUMP Cell Painting datasets:\n",
        "\n",
        "*We used the JUMP Cell Painting datasets (Chandrasekaran et al., 2023),\n",
        "available from the Cell Painting Gallery (Weisbart et al., 2024) on the\n",
        "Registry of Open Data on AWS\n",
        "(<https://registry.opendata.aws/cellpainting-gallery/>).*\n",
        "\n",
        "Chandrasekaran et al., 2023: doi:10.1101/2023.03.23.534023  \n",
        "Weisbart et al., 2024: doi:10.1038/s41592-024-02399-z\n",
        "\n",
        "## Citing Individual Datasets\n",
        "\n",
        "To cite individual JUMP Cell Painting datasets, follow the guidelines in\n",
        "the [Cell Painting Gallery citation\n",
        "guide](https://broadinstitute.github.io/cellpainting-gallery/citing.html).\n",
        "For example:\n",
        "\n",
        "*We used the dataset cpg0001 (Cimini et al., 2022), available from the\n",
        "Cell Painting Gallery (Weisbart et al., 2024) on the Registry of Open\n",
        "Data on AWS (<https://registry.opendata.aws/cellpainting-gallery/>).*\n",
        "\n",
        "Cimini et al., 2022: doi:10.1038/s41596-023-00840-9  \n",
        "Weisbart et al., 2024: doi:10.1038/s41592-024-02399-z\n",
        "\n",
        "*We used the dataset cpg0000 (Chandrasekaran et al., 2022), available\n",
        "from the Cell Painting Gallery (Weisbart et al., 2024) on the Registry\n",
        "of Open Data on AWS\n",
        "(<https://registry.opendata.aws/cellpainting-gallery/>).*\n",
        "\n",
        "Chandrasekaran et al., 2022: doi:10.1038/s41592-024-02241-6  \n",
        "Weisbart et al., 2024: doi:10.1038/s41592-024-02399-z"
      ],
      "id": "734c39b2-da31-406b-865f-687bbb284b86"
    }
  ],
  "nbformat": 4,
  "nbformat_minor": 5,
  "metadata": {
    "kernelspec": {
      "display_name": "Python 3",
      "language": "python",
      "name": "python3"
    }
  }
}