{
  "cells": [
    {
      "cell_type": "markdown",
      "metadata": {},
      "source": [
        "# \n",
        "\n",
        "# Overview\n",
        "\n",
        "This is work in progress. The purpose of this resource is to concentrate\n",
        "all the useful and up-to-date information necessary to make use of\n",
        "[JUMP](https://jump-cellpainting.broadinstitute.org/). It aims to\n",
        "summarise the most useful information, including examples, guides,\n",
        "know-hows and links to more material for deeper dives into data\n",
        "acquisition, processing, sharing and visualisation.\n",
        "\n",
        "## I just want to access the web tools\n",
        "\n",
        "[Here](https://github.com/broadinstitute/monorepo/tree/main/libs/jump_rr)\n",
        "you can find the up-to-date web tools to explore JUMP from your browser.\n",
        "\n",
        "# I am a developer interested in using and writing programatic tools for JUMP\n",
        "\n",
        "Our [monorepo](https://github.com/broadinstitute/monorepo/tree/main)\n",
        "hosts Python libraries that may help you access JUMP data in a\n",
        "high-throughput manner.\n",
        "\n",
        "## How can I explore the How-To guides in an interactive environment?\n",
        "\n",
        "This table provides direct link to run the guides on your browser.\n",
        "\n",
        "| Google Collab                                                                                                                                                         |\n",
        "|------------------------------------------------------------------------|\n",
        "| [Retrieve JUMP profiles](https://colab.research.google.com/github/broadinstitute/2023_12_JUMP_data_only_vignettes/blob/colab/colab/1_tutorial_basic.ipynb)            |\n",
        "| [Add metadata to profiles](https://colab.research.google.com/github/broadinstitute/2023_12_JUMP_data_only_vignettes/blob/colab/colab/2_add_metadata.ipynb)            |\n",
        "| [Calculate phenotypic activity](https://colab.research.google.com/github/broadinstitute/2023_12_JUMP_data_only_vignettes/blob/colab/colab/3_calculate_activity.ipynb) |\n",
        "| [Display images](https://colab.research.google.com/github/broadinstitute/2023_12_JUMP_data_only_vignettes/blob/colab/colab/display_perturbation_images.ipynb)         |\n",
        "\n",
        "## Why yet another resource?\n",
        "\n",
        "Its secondary (yet highly important purpose) is to minimise friction for\n",
        "developers, technical writers and biologists to produce and access novel\n",
        "insights and tools. We believe complexity is one of the biggest\n",
        "challenges in challenge, hampering collaboration and novel biological\n",
        "insights. We aim to make this the one-stop shop for the vast majority of\n",
        "JUMP questions, be it computational or biological."
      ],
      "id": "9970150a-c805-40b2-8c2b-2396998cb8ce"
    }
  ],
  "nbformat": 4,
  "nbformat_minor": 5,
  "metadata": {
    "kernelspec": {
      "display_name": "Python 3",
      "language": "python",
      "name": "python3"
    }
  }
}