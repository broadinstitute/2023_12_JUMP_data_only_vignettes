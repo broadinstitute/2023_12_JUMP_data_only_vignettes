{
  "cells": [
    {
      "cell_type": "markdown",
      "metadata": {},
      "source": [
        "# Basic JUMP data access\n",
        "\n",
        "Alán F. Muñoz  \n",
        "2024-03-20\n",
        "\n",
        "This is a tutorial on how to access We will use polars to fetch the data\n",
        "frame lazily, with the help of s3fs and pyarrow. We prefer lazy loading\n",
        "because the data can be too big to be handled in memory."
      ],
      "id": "ae9efe01-906d-44de-8569-866743a0612c"
    },
    {
      "cell_type": "code",
      "execution_count": 1,
      "metadata": {
        "title": "Imports"
      },
      "outputs": [],
      "source": [
        "import polars as pl\n",
        "from pyarrow.dataset import dataset\n",
        "from s3fs import S3FileSystem"
      ],
      "id": "8685e336"
    },
    {
      "cell_type": "markdown",
      "metadata": {},
      "source": [
        "The shapes of the available datasets are: - crispr: Knock-out genetic\n",
        "perturbations. - orf: Overexpression genetic perturbations. - compounds:\n",
        "Chemical genetic perturbations.\n",
        "\n",
        "The aws paths of the dataframes are shown below:"
      ],
      "id": "3cc3b3b6-f94e-428f-8bb2-759542ccb25b"
    },
    {
      "cell_type": "code",
      "execution_count": 2,
      "metadata": {
        "title": "Paths"
      },
      "outputs": [],
      "source": [
        "prefix = (\n",
        "    \"s3://cellpainting-gallery/cpg0016-jump-integrated/source_all/workspace/profiles\"\n",
        ")\n",
        "filepaths = dict(\n",
        "    crispr=f\"{prefix}/chandrasekaran_2024_0000000/crispr/wellpos_cellcount_mad_outlier_nan_featselect_harmony.parquet\",\n",
        "    orf=f\"{prefix}/chandrasekaran_2024_0000000/orf/wellpos_cellcount_mad_outlier_nan_featselect_harmony.parquet\",\n",
        "    compound=f\"{prefix}/arevalo_2023_e834481/compound/mad_int_featselect_harmony.parquet/\",\n",
        ")"
      ],
      "id": "20d81739"
    },
    {
      "cell_type": "markdown",
      "metadata": {},
      "source": [
        "We use a S3FileSystem to avoid the need of credentials."
      ],
      "id": "373ba642-4d39-44a9-916f-1ce0491bea2c"
    },
    {
      "cell_type": "code",
      "execution_count": 3,
      "metadata": {},
      "outputs": [],
      "source": [
        "def lazy_load(path: str) -> pl.DataFrame:\n",
        "    fs = S3FileSystem(anon=True)\n",
        "    myds = dataset(path, filesystem=fs)\n",
        "    df = pl.scan_pyarrow_dataset(myds)\n",
        "    return df"
      ],
      "id": "7d80ea10"
    },
    {
      "cell_type": "markdown",
      "metadata": {},
      "source": [
        "We will lazy load the data to visualise its columns"
      ],
      "id": "5ad4c63e-25e5-4d50-a274-f2482fbe3547"
    },
    {
      "cell_type": "code",
      "execution_count": 4,
      "metadata": {},
      "outputs": [
        {
          "output_type": "stream",
          "name": "stdout",
          "text": [
            "Width, or number of columns.\n",
            "crispr: 1119, containing 8 metadata columns\n",
            "orf: 882, containing 20 metadata columns\n",
            "compound: 979, containing 10 metadata columns"
          ]
        }
      ],
      "source": [
        "print(\"Width, or number of columns.\")\n",
        "for name, path in filepaths.items():\n",
        "    data = lazy_load(path)\n",
        "    metadata_cols = [col for col in data.columns if col.startswith(\"Metadata\")]\n",
        "    print(f\"{name}: {data.width}, containing {len(metadata_cols)} metadata columns\")"
      ],
      "id": "3b94da58"
    },
    {
      "cell_type": "markdown",
      "metadata": {},
      "source": [
        "Let us now focus on the crispr dataset and use a regex to select the\n",
        "metadata columns. Note that the collect() method enforces loading some\n",
        "data into memory."
      ],
      "id": "f1ac1682-c708-4ee5-84ec-0814bc122c2a"
    },
    {
      "cell_type": "code",
      "execution_count": 5,
      "metadata": {},
      "outputs": [
        {
          "output_type": "display_data",
          "metadata": {},
          "data": {
            "text/html": [
              "</div>"
            ]
          }
        }
      ],
      "source": [
        "data = lazy_load(filepaths[\"crispr\"])\n",
        "data.select(pl.col(\"^Metadata.*$\").shuffle()).head().collect()"
      ],
      "id": "b2ddf9a1"
    },
    {
      "cell_type": "markdown",
      "metadata": {},
      "source": [
        "The previous block shows that the data frame has 51,850 rows. We can\n",
        "print features The regular expression used here to show the features\n",
        "present alongside the metadata."
      ],
      "id": "919540cb-1eed-4c95-821b-b34283400b66"
    },
    {
      "cell_type": "code",
      "execution_count": 6,
      "metadata": {},
      "outputs": [
        {
          "output_type": "display_data",
          "metadata": {},
          "data": {
            "text/html": [
              "</div>"
            ]
          }
        }
      ],
      "source": [
        "header = data.select(pl.col(\"^X_harmony_000[0-4]$\")).head().collect()\n",
        "header"
      ],
      "id": "cac6724f"
    },
    {
      "cell_type": "markdown",
      "metadata": {},
      "source": [
        "Finally, we can convert this to pandas if we want to analyse it using\n",
        "that way. Note that if we convert the entire dataframe to pandas it will\n",
        "load it all into memory."
      ],
      "id": "377e26c4-f59e-4eb9-a133-54af21fc6699"
    },
    {
      "cell_type": "code",
      "execution_count": 7,
      "metadata": {},
      "outputs": [
        {
          "output_type": "display_data",
          "metadata": {},
          "data": {
            "text/html": [
              "\n",
              "</div>"
            ]
          }
        }
      ],
      "source": [
        "header.to_pandas()"
      ],
      "id": "52144352"
    }
  ],
  "nbformat": 4,
  "nbformat_minor": 5,
  "metadata": {
    "jupytext": {
      "executable": "/usr/bin/env jupyter",
      "text_representation": {
        "extension": ".qmd",
        "format_name": "quarto",
        "format_version": "1.0",
        "jupytext_version": "1.16.1"
      }
    },
    "kernelspec": {
      "name": "python3",
      "display_name": "Python 3",
      "language": "python"
    }
  }
}