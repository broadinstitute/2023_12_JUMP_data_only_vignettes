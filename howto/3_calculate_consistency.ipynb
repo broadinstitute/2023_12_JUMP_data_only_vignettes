{
  "cells": [
    {
      "cell_type": "markdown",
      "metadata": {},
      "source": [
        "# Calculate phenotypic consistency\n",
        "\n",
        "A common first analysis for morphological datasets is the consistency of\n",
        "the cells’ phenotypes. We will use the\n",
        "[copairs](https://github.com/cytomining/copairs) package, which makes\n",
        "use of [mean average\n",
        "precision](https://www.ncbi.nlm.nih.gov/pmc/articles/PMC11014546/) to\n",
        "obtain a metric of replicability for any set of morphological profiles.\n",
        "In other words, it indicates how similar a given set of compounds are,\n",
        "relative to their negative controls, which is usually cells that have\n",
        "experienced no perturbation."
      ],
      "id": "ef0bf1d8-7d25-41b3-95d0-a8fd935f7dbe"
    },
    {
      "cell_type": "code",
      "execution_count": 1,
      "metadata": {
        "title": "Imports"
      },
      "outputs": [],
      "source": [
        "import polars as pl\n",
        "import polars.selectors as cs\n",
        "import seaborn as sns\n",
        "from broad_babel.query import get_mapper\n",
        "from copairs.map import average_precision"
      ],
      "id": "92900df1"
    },
    {
      "cell_type": "markdown",
      "metadata": {},
      "source": [
        "We will be using the CRISPR dataset specificed in our index csv, but we\n",
        "will select a subset of perturbations and the controls present."
      ],
      "id": "6d473233-e03a-4b65-9c1f-ca03feef742c"
    },
    {
      "cell_type": "code",
      "execution_count": 2,
      "metadata": {
        "title": "Fetch the CRISPR dataset"
      },
      "outputs": [],
      "source": [
        "INDEX_FILE = \"https://raw.githubusercontent.com/jump-cellpainting/datasets/50cd2ab93749ccbdb0919d3adf9277c14b6343dd/manifests/profile_index.csv\"\n",
        "CRISPR_URL = pl.read_csv(INDEX_FILE).filter(pl.col(\"subset\")==\"crispr\").item(0,\"url\")\n",
        "profiles = pl.scan_parquet(CRISPR_URL)"
      ],
      "id": "261b44c3"
    },
    {
      "cell_type": "markdown",
      "metadata": {},
      "source": [
        "Sample perturbations and"
      ],
      "id": "68339ee2-8b8f-43b5-b5eb-9e444c044e7e"
    },
    {
      "cell_type": "code",
      "execution_count": 3,
      "metadata": {},
      "outputs": [
        {
          "output_type": "stream",
          "name": "stdout",
          "text": [
            "Shape: (472, 263)"
          ]
        }
      ],
      "source": [
        "jcp_ids = profiles.select(pl.col(\"Metadata_JCP2022\")).unique().collect().to_series().sort()\n",
        "subsample = jcp_ids.sample(10, seed=42)\n",
        "subsample = (*subsample, \"JCP2022_800002\") # Add the only control in CRISPR data\n",
        "profiles_subset = profiles.filter(pl.col(\"Metadata_JCP2022\").is_in(subsample)).collect()\n",
        "unique_plates = profiles_subset.filter(pl.col(\"Metadata_JCP2022\")!=subsample[-1])[\"Metadata_Plate\"].unique()\n",
        "perts_controls = profiles_subset.filter(pl.col(\"Metadata_Plate\").is_in(unique_plates))\n",
        "with pl.Config() as cfg:\n",
        "    cfg.set_tbl_cols(7) # Limit the number of columns printed\n",
        "    print(f\"Shape: {perts_controls.shape}\")\n",
        "    perts_controls.head()"
      ],
      "id": "f028b1af"
    },
    {
      "cell_type": "markdown",
      "metadata": {},
      "source": [
        "Now we create a mapper to label treatments and controls. See the\n",
        "previous tutorial for details on fetching metadata."
      ],
      "id": "423d4e1c-28dd-4319-838b-af27e4bc9ed9"
    },
    {
      "cell_type": "code",
      "execution_count": 4,
      "metadata": {},
      "outputs": [],
      "source": [
        "pert_mapper = get_mapper(subsample, input_column=\"JCP2022\", output_columns=\"JCP2022,pert_type\")\n",
        "perts_controls_annotated = perts_controls.with_columns(pl.col(\"Metadata_JCP2022\").replace(pert_mapper).alias(\"pert_type\"))"
      ],
      "id": "6ced45c3"
    },
    {
      "cell_type": "markdown",
      "metadata": {},
      "source": [
        "Finally we use the parameters from . See the [copairs\n",
        "wiki](https://github.com/cytomining/copairs/wiki/Defining-parameters)\n",
        "for more details on the parameters that copairs requires."
      ],
      "id": "546e8390-b731-448c-800f-cfc9a284a3af"
    },
    {
      "cell_type": "code",
      "execution_count": 5,
      "metadata": {},
      "outputs": [
        {
          "output_type": "display_data",
          "metadata": {},
          "data": {
            "application/vnd.jupyter.widget-view+json": {
              "model_id": "25ecb7b8454545f9bda86729f4de2fef",
              "version_major": 2,
              "version_minor": 0
            }
          }
        },
        {
          "output_type": "display_data",
          "metadata": {},
          "data": {
            "application/vnd.jupyter.widget-view+json": {
              "model_id": "d17d1c9a1f3b4b129fb0954abc9aa2b4",
              "version_major": 2,
              "version_minor": 0
            }
          }
        },
        {
          "output_type": "display_data",
          "metadata": {},
          "data": {
            "text/html": [
              "</div>"
            ]
          }
        }
      ],
      "source": [
        "pos_sameby = [\"Metadata_JCP2022\"] # We want to match perturbations\n",
        "pos_diffby = []\n",
        "neg_sameby = []\n",
        "neg_diffby = [\"pert_type\"]\n",
        "batch_size = 20000\n",
        "\n",
        "metadata_selector = cs.starts_with((\"Metadata\", \"pert_type\"))\n",
        "meta = perts_controls_annotated.select(metadata_selector)\n",
        "features = perts_controls_annotated.select(~metadata_selector)\n",
        "\n",
        "result = average_precision(meta.to_pandas(), features.to_numpy(), pos_sameby, pos_diffby, neg_sameby, neg_diffby, batch_size)\n",
        "result = pl.DataFrame(result) # We convert back to polars because we prefer how it prints dataframes\n",
        "result.head() "
      ],
      "id": "fd02fcaa"
    },
    {
      "cell_type": "markdown",
      "metadata": {},
      "source": [
        "The result of copairs is a dataframe containing, in addition to the\n",
        "original metadata, the average precision with which perturbations were\n",
        "retrieved. Perturbations that look more similar to each other than to\n",
        "the negative controls in the plates present in the same plates will be\n",
        "higher. Perturbations that do not differentiate themselves against\n",
        "negative controls will be closer to zero.\n",
        "\n",
        "To wrap up we pull the standard gene symbol and plot the distribution of\n",
        "average precision."
      ],
      "id": "aba9b478-f201-48a9-bf6e-5a6a01a24443"
    },
    {
      "cell_type": "code",
      "execution_count": 6,
      "metadata": {},
      "outputs": [
        {
          "output_type": "display_data",
          "metadata": {},
          "data": {
            "image/png": "[encoded data removed]"
          }
        }
      ],
      "source": [
        "name_mapper = get_mapper(subsample, input_column=\"JCP2022\", output_columns=\"JCP2022,standard_key\")\n",
        "\n",
        "to_plot = result.filter(pl.col(\"pert_type\")==\"trt\").with_columns(pl.col(\"Metadata_JCP2022\").replace(name_mapper).alias(\"Perturbed gene\"))\n",
        "\n",
        "# Plotting\n",
        "sns.stripplot(data=to_plot.to_pandas(), x=\"average_precision\", y=\"Perturbed gene\")"
      ],
      "id": "80457ba3"
    },
    {
      "cell_type": "markdown",
      "metadata": {},
      "source": [
        "We can see that only some perturbations can be easily retrieved when\n",
        "compared to negative controls, in this case KIF16B and CDK20."
      ],
      "id": "60e71fec-d2f0-4bc1-9543-9cb8566c1c1c"
    }
  ],
  "nbformat": 4,
  "nbformat_minor": 5,
  "metadata": {
    "jupytext": {
      "executable": "/usr/bin/env jupyter",
      "text_representation": {
        "extension": ".qmd",
        "format_name": "quarto",
        "format_version": "1.0",
        "jupytext_version": "1.16.4"
      }
    },
    "kernelspec": {
      "name": "python3",
      "display_name": "Python 3",
      "language": "python"
    },
    "language_info": {
      "name": "python",
      "codemirror_mode": {
        "name": "ipython",
        "version": "3"
      },
      "file_extension": ".py",
      "mimetype": "text/x-python",
      "nbconvert_exporter": "python",
      "pygments_lexer": "ipython3",
      "version": "3.11.9"
    },
    "widgets": {
      "application/vnd.jupyter.widget-state+json": {
        "state": {
          "0420e039e3324e2fa757ffaee77468d6": {
            "model_module": "@jupyter-widgets/controls",
            "model_module_version": "2.0.0",
            "model_name": "HTMLStyleModel",
            "state": {
              "_model_module": "@jupyter-widgets/controls",
              "_model_module_version": "2.0.0",
              "_model_name": "HTMLStyleModel",
              "_view_count": null,
              "_view_module": "@jupyter-widgets/base",
              "_view_module_version": "2.0.0",
              "_view_name": "StyleView",
              "background": null,
              "description_width": "",
              "font_size": null,
              "text_color": null
            }
          },
          "0ab8319ee57147e88f87ca84cf43917c": {
            "model_module": "@jupyter-widgets/controls",
            "model_module_version": "2.0.0",
            "model_name": "FloatProgressModel",
            "state": {
              "_dom_classes": [],
              "_model_module": "@jupyter-widgets/controls",
              "_model_module_version": "2.0.0",
              "_model_name": "FloatProgressModel",
              "_view_count": null,
              "_view_module": "@jupyter-widgets/controls",
              "_view_module_version": "2.0.0",
              "_view_name": "ProgressView",
              "bar_style": "",
              "description": "",
              "description_allow_html": false,
              "layout": "IPY_MODEL_a9926846744a431f8b75999e20c3765b",
              "max": 5,
              "min": 0,
              "orientation": "horizontal",
              "style": "IPY_MODEL_454e778f0ef14f0c8da6b7a998021441",
              "tabbable": null,
              "tooltip": null,
              "value": 5
            }
          },
          "1784f5c4e71840c6be8b2a54f89199c3": {
            "model_module": "@jupyter-widgets/controls",
            "model_module_version": "2.0.0",
            "model_name": "HTMLModel",
            "state": {
              "_dom_classes": [],
              "_model_module": "@jupyter-widgets/controls",
              "_model_module_version": "2.0.0",
              "_model_name": "HTMLModel",
              "_view_count": null,
              "_view_module": "@jupyter-widgets/controls",
              "_view_module_version": "2.0.0",
              "_view_name": "HTMLView",
              "description": "",
              "description_allow_html": false,
              "layout": "IPY_MODEL_92442c7edc314a229e932a28539a74d9",
              "placeholder": "​",
              "style": "IPY_MODEL_5b527c5bf2784cd7aebd405518743344",
              "tabbable": null,
              "tooltip": null,
              "value": "  0%"
            }
          },
          "25ecb7b8454545f9bda86729f4de2fef": {
            "model_module": "@jupyter-widgets/controls",
            "model_module_version": "2.0.0",
            "model_name": "HBoxModel",
            "state": {
              "_dom_classes": [],
              "_model_module": "@jupyter-widgets/controls",
              "_model_module_version": "2.0.0",
              "_model_name": "HBoxModel",
              "_view_count": null,
              "_view_module": "@jupyter-widgets/controls",
              "_view_module_version": "2.0.0",
              "_view_name": "HBoxView",
              "box_style": "",
              "children": [
                "IPY_MODEL_1784f5c4e71840c6be8b2a54f89199c3",
                "IPY_MODEL_0ab8319ee57147e88f87ca84cf43917c",
                "IPY_MODEL_c7bf5e03e93641b08191334f0ecb4312"
              ],
              "layout": "IPY_MODEL_e4d6bea09c93470282e82d5cf0ff9abe",
              "tabbable": null,
              "tooltip": null
            }
          },
          "2d1bc0c40e8c4e818c25dd3cb6b98543": {
            "model_module": "@jupyter-widgets/controls",
            "model_module_version": "2.0.0",
            "model_name": "HTMLStyleModel",
            "state": {
              "_model_module": "@jupyter-widgets/controls",
              "_model_module_version": "2.0.0",
              "_model_name": "HTMLStyleModel",
              "_view_count": null,
              "_view_module": "@jupyter-widgets/base",
              "_view_module_version": "2.0.0",
              "_view_name": "StyleView",
              "background": null,
              "description_width": "",
              "font_size": null,
              "text_color": null
            }
          },
          "32a7ca5023554fea9ec54ca6da10ffa2": {
            "model_module": "@jupyter-widgets/controls",
            "model_module_version": "2.0.0",
            "model_name": "HTMLModel",
            "state": {
              "_dom_classes": [],
              "_model_module": "@jupyter-widgets/controls",
              "_model_module_version": "2.0.0",
              "_model_name": "HTMLModel",
              "_view_count": null,
              "_view_module": "@jupyter-widgets/controls",
              "_view_module_version": "2.0.0",
              "_view_name": "HTMLView",
              "description": "",
              "description_allow_html": false,
              "layout": "IPY_MODEL_802d8b949caa4f35988e66c1a0eee6a2",
              "placeholder": "​",
              "style": "IPY_MODEL_0420e039e3324e2fa757ffaee77468d6",
              "tabbable": null,
              "tooltip": null,
              "value": " 0/2 [00:00&lt;?, ?it/s]"
            }
          },
          "454e778f0ef14f0c8da6b7a998021441": {
            "model_module": "@jupyter-widgets/controls",
            "model_module_version": "2.0.0",
            "model_name": "ProgressStyleModel",
            "state": {
              "_model_module": "@jupyter-widgets/controls",
              "_model_module_version": "2.0.0",
              "_model_name": "ProgressStyleModel",
              "_view_count": null,
              "_view_module": "@jupyter-widgets/base",
              "_view_module_version": "2.0.0",
              "_view_name": "StyleView",
              "bar_color": null,
              "description_width": ""
            }
          },
          "5b527c5bf2784cd7aebd405518743344": {
            "model_module": "@jupyter-widgets/controls",
            "model_module_version": "2.0.0",
            "model_name": "HTMLStyleModel",
            "state": {
              "_model_module": "@jupyter-widgets/controls",
              "_model_module_version": "2.0.0",
              "_model_name": "HTMLStyleModel",
              "_view_count": null,
              "_view_module": "@jupyter-widgets/base",
              "_view_module_version": "2.0.0",
              "_view_name": "StyleView",
              "background": null,
              "description_width": "",
              "font_size": null,
              "text_color": null
            }
          },
          "6013ff67d9174325b37e3ea3eea8799a": {
            "model_module": "@jupyter-widgets/base",
            "model_module_version": "2.0.0",
            "model_name": "LayoutModel",
            "state": {
              "_model_module": "@jupyter-widgets/base",
              "_model_module_version": "2.0.0",
              "_model_name": "LayoutModel",
              "_view_count": null,
              "_view_module": "@jupyter-widgets/base",
              "_view_module_version": "2.0.0",
              "_view_name": "LayoutView",
              "align_content": null,
              "align_items": null,
              "align_self": null,
              "border_bottom": null,
              "border_left": null,
              "border_right": null,
              "border_top": null,
              "bottom": null,
              "display": null,
              "flex": null,
              "flex_flow": null,
              "grid_area": null,
              "grid_auto_columns": null,
              "grid_auto_flow": null,
              "grid_auto_rows": null,
              "grid_column": null,
              "grid_gap": null,
              "grid_row": null,
              "grid_template_areas": null,
              "grid_template_columns": null,
              "grid_template_rows": null,
              "height": null,
              "justify_content": null,
              "justify_items": null,
              "left": null,
              "margin": null,
              "max_height": null,
              "max_width": null,
              "min_height": null,
              "min_width": null,
              "object_fit": null,
              "object_position": null,
              "order": null,
              "overflow": null,
              "padding": null,
              "right": null,
              "top": null,
              "visibility": "hidden",
              "width": null
            }
          },
          "66a1660e4cd846ef8a5531010713aa21": {
            "model_module": "@jupyter-widgets/controls",
            "model_module_version": "2.0.0",
            "model_name": "HTMLStyleModel",
            "state": {
              "_model_module": "@jupyter-widgets/controls",
              "_model_module_version": "2.0.0",
              "_model_name": "HTMLStyleModel",
              "_view_count": null,
              "_view_module": "@jupyter-widgets/base",
              "_view_module_version": "2.0.0",
              "_view_name": "StyleView",
              "background": null,
              "description_width": "",
              "font_size": null,
              "text_color": null
            }
          },
          "73683b44b6864e9083aeb7fab7f727db": {
            "model_module": "@jupyter-widgets/controls",
            "model_module_version": "2.0.0",
            "model_name": "HTMLModel",
            "state": {
              "_dom_classes": [],
              "_model_module": "@jupyter-widgets/controls",
              "_model_module_version": "2.0.0",
              "_model_name": "HTMLModel",
              "_view_count": null,
              "_view_module": "@jupyter-widgets/controls",
              "_view_module_version": "2.0.0",
              "_view_name": "HTMLView",
              "description": "",
              "description_allow_html": false,
              "layout": "IPY_MODEL_fd40e41d400c4565846b07da077a723b",
              "placeholder": "​",
              "style": "IPY_MODEL_66a1660e4cd846ef8a5531010713aa21",
              "tabbable": null,
              "tooltip": null,
              "value": "  0%"
            }
          },
          "802d8b949caa4f35988e66c1a0eee6a2": {
            "model_module": "@jupyter-widgets/base",
            "model_module_version": "2.0.0",
            "model_name": "LayoutModel",
            "state": {
              "_model_module": "@jupyter-widgets/base",
              "_model_module_version": "2.0.0",
              "_model_name": "LayoutModel",
              "_view_count": null,
              "_view_module": "@jupyter-widgets/base",
              "_view_module_version": "2.0.0",
              "_view_name": "LayoutView",
              "align_content": null,
              "align_items": null,
              "align_self": null,
              "border_bottom": null,
              "border_left": null,
              "border_right": null,
              "border_top": null,
              "bottom": null,
              "display": null,
              "flex": null,
              "flex_flow": null,
              "grid_area": null,
              "grid_auto_columns": null,
              "grid_auto_flow": null,
              "grid_auto_rows": null,
              "grid_column": null,
              "grid_gap": null,
              "grid_row": null,
              "grid_template_areas": null,
              "grid_template_columns": null,
              "grid_template_rows": null,
              "height": null,
              "justify_content": null,
              "justify_items": null,
              "left": null,
              "margin": null,
              "max_height": null,
              "max_width": null,
              "min_height": null,
              "min_width": null,
              "object_fit": null,
              "object_position": null,
              "order": null,
              "overflow": null,
              "padding": null,
              "right": null,
              "top": null,
              "visibility": null,
              "width": null
            }
          },
          "92442c7edc314a229e932a28539a74d9": {
            "model_module": "@jupyter-widgets/base",
            "model_module_version": "2.0.0",
            "model_name": "LayoutModel",
            "state": {
              "_model_module": "@jupyter-widgets/base",
              "_model_module_version": "2.0.0",
              "_model_name": "LayoutModel",
              "_view_count": null,
              "_view_module": "@jupyter-widgets/base",
              "_view_module_version": "2.0.0",
              "_view_name": "LayoutView",
              "align_content": null,
              "align_items": null,
              "align_self": null,
              "border_bottom": null,
              "border_left": null,
              "border_right": null,
              "border_top": null,
              "bottom": null,
              "display": null,
              "flex": null,
              "flex_flow": null,
              "grid_area": null,
              "grid_auto_columns": null,
              "grid_auto_flow": null,
              "grid_auto_rows": null,
              "grid_column": null,
              "grid_gap": null,
              "grid_row": null,
              "grid_template_areas": null,
              "grid_template_columns": null,
              "grid_template_rows": null,
              "height": null,
              "justify_content": null,
              "justify_items": null,
              "left": null,
              "margin": null,
              "max_height": null,
              "max_width": null,
              "min_height": null,
              "min_width": null,
              "object_fit": null,
              "object_position": null,
              "order": null,
              "overflow": null,
              "padding": null,
              "right": null,
              "top": null,
              "visibility": null,
              "width": null
            }
          },
          "96a2d75ed5dc46c0b3367efbcf705549": {
            "model_module": "@jupyter-widgets/base",
            "model_module_version": "2.0.0",
            "model_name": "LayoutModel",
            "state": {
              "_model_module": "@jupyter-widgets/base",
              "_model_module_version": "2.0.0",
              "_model_name": "LayoutModel",
              "_view_count": null,
              "_view_module": "@jupyter-widgets/base",
              "_view_module_version": "2.0.0",
              "_view_name": "LayoutView",
              "align_content": null,
              "align_items": null,
              "align_self": null,
              "border_bottom": null,
              "border_left": null,
              "border_right": null,
              "border_top": null,
              "bottom": null,
              "display": null,
              "flex": null,
              "flex_flow": null,
              "grid_area": null,
              "grid_auto_columns": null,
              "grid_auto_flow": null,
              "grid_auto_rows": null,
              "grid_column": null,
              "grid_gap": null,
              "grid_row": null,
              "grid_template_areas": null,
              "grid_template_columns": null,
              "grid_template_rows": null,
              "height": null,
              "justify_content": null,
              "justify_items": null,
              "left": null,
              "margin": null,
              "max_height": null,
              "max_width": null,
              "min_height": null,
              "min_width": null,
              "object_fit": null,
              "object_position": null,
              "order": null,
              "overflow": null,
              "padding": null,
              "right": null,
              "top": null,
              "visibility": null,
              "width": null
            }
          },
          "a9926846744a431f8b75999e20c3765b": {
            "model_module": "@jupyter-widgets/base",
            "model_module_version": "2.0.0",
            "model_name": "LayoutModel",
            "state": {
              "_model_module": "@jupyter-widgets/base",
              "_model_module_version": "2.0.0",
              "_model_name": "LayoutModel",
              "_view_count": null,
              "_view_module": "@jupyter-widgets/base",
              "_view_module_version": "2.0.0",
              "_view_name": "LayoutView",
              "align_content": null,
              "align_items": null,
              "align_self": null,
              "border_bottom": null,
              "border_left": null,
              "border_right": null,
              "border_top": null,
              "bottom": null,
              "display": null,
              "flex": null,
              "flex_flow": null,
              "grid_area": null,
              "grid_auto_columns": null,
              "grid_auto_flow": null,
              "grid_auto_rows": null,
              "grid_column": null,
              "grid_gap": null,
              "grid_row": null,
              "grid_template_areas": null,
              "grid_template_columns": null,
              "grid_template_rows": null,
              "height": null,
              "justify_content": null,
              "justify_items": null,
              "left": null,
              "margin": null,
              "max_height": null,
              "max_width": null,
              "min_height": null,
              "min_width": null,
              "object_fit": null,
              "object_position": null,
              "order": null,
              "overflow": null,
              "padding": null,
              "right": null,
              "top": null,
              "visibility": null,
              "width": null
            }
          },
          "c7bf5e03e93641b08191334f0ecb4312": {
            "model_module": "@jupyter-widgets/controls",
            "model_module_version": "2.0.0",
            "model_name": "HTMLModel",
            "state": {
              "_dom_classes": [],
              "_model_module": "@jupyter-widgets/controls",
              "_model_module_version": "2.0.0",
              "_model_name": "HTMLModel",
              "_view_count": null,
              "_view_module": "@jupyter-widgets/controls",
              "_view_module_version": "2.0.0",
              "_view_name": "HTMLView",
              "description": "",
              "description_allow_html": false,
              "layout": "IPY_MODEL_d9dcee7bd59d491281205cbeebdad7b9",
              "placeholder": "​",
              "style": "IPY_MODEL_2d1bc0c40e8c4e818c25dd3cb6b98543",
              "tabbable": null,
              "tooltip": null,
              "value": " 0/5 [00:00&lt;?, ?it/s]"
            }
          },
          "cccddd8cffdf4fd296b75695d2000016": {
            "model_module": "@jupyter-widgets/controls",
            "model_module_version": "2.0.0",
            "model_name": "FloatProgressModel",
            "state": {
              "_dom_classes": [],
              "_model_module": "@jupyter-widgets/controls",
              "_model_module_version": "2.0.0",
              "_model_name": "FloatProgressModel",
              "_view_count": null,
              "_view_module": "@jupyter-widgets/controls",
              "_view_module_version": "2.0.0",
              "_view_name": "ProgressView",
              "bar_style": "",
              "description": "",
              "description_allow_html": false,
              "layout": "IPY_MODEL_96a2d75ed5dc46c0b3367efbcf705549",
              "max": 2,
              "min": 0,
              "orientation": "horizontal",
              "style": "IPY_MODEL_e0b78aa9d7d34060a3389898e7113f58",
              "tabbable": null,
              "tooltip": null,
              "value": 2
            }
          },
          "d17d1c9a1f3b4b129fb0954abc9aa2b4": {
            "model_module": "@jupyter-widgets/controls",
            "model_module_version": "2.0.0",
            "model_name": "HBoxModel",
            "state": {
              "_dom_classes": [],
              "_model_module": "@jupyter-widgets/controls",
              "_model_module_version": "2.0.0",
              "_model_name": "HBoxModel",
              "_view_count": null,
              "_view_module": "@jupyter-widgets/controls",
              "_view_module_version": "2.0.0",
              "_view_name": "HBoxView",
              "box_style": "",
              "children": [
                "IPY_MODEL_73683b44b6864e9083aeb7fab7f727db",
                "IPY_MODEL_cccddd8cffdf4fd296b75695d2000016",
                "IPY_MODEL_32a7ca5023554fea9ec54ca6da10ffa2"
              ],
              "layout": "IPY_MODEL_6013ff67d9174325b37e3ea3eea8799a",
              "tabbable": null,
              "tooltip": null
            }
          },
          "d9dcee7bd59d491281205cbeebdad7b9": {
            "model_module": "@jupyter-widgets/base",
            "model_module_version": "2.0.0",
            "model_name": "LayoutModel",
            "state": {
              "_model_module": "@jupyter-widgets/base",
              "_model_module_version": "2.0.0",
              "_model_name": "LayoutModel",
              "_view_count": null,
              "_view_module": "@jupyter-widgets/base",
              "_view_module_version": "2.0.0",
              "_view_name": "LayoutView",
              "align_content": null,
              "align_items": null,
              "align_self": null,
              "border_bottom": null,
              "border_left": null,
              "border_right": null,
              "border_top": null,
              "bottom": null,
              "display": null,
              "flex": null,
              "flex_flow": null,
              "grid_area": null,
              "grid_auto_columns": null,
              "grid_auto_flow": null,
              "grid_auto_rows": null,
              "grid_column": null,
              "grid_gap": null,
              "grid_row": null,
              "grid_template_areas": null,
              "grid_template_columns": null,
              "grid_template_rows": null,
              "height": null,
              "justify_content": null,
              "justify_items": null,
              "left": null,
              "margin": null,
              "max_height": null,
              "max_width": null,
              "min_height": null,
              "min_width": null,
              "object_fit": null,
              "object_position": null,
              "order": null,
              "overflow": null,
              "padding": null,
              "right": null,
              "top": null,
              "visibility": null,
              "width": null
            }
          },
          "e0b78aa9d7d34060a3389898e7113f58": {
            "model_module": "@jupyter-widgets/controls",
            "model_module_version": "2.0.0",
            "model_name": "ProgressStyleModel",
            "state": {
              "_model_module": "@jupyter-widgets/controls",
              "_model_module_version": "2.0.0",
              "_model_name": "ProgressStyleModel",
              "_view_count": null,
              "_view_module": "@jupyter-widgets/base",
              "_view_module_version": "2.0.0",
              "_view_name": "StyleView",
              "bar_color": null,
              "description_width": ""
            }
          },
          "e4d6bea09c93470282e82d5cf0ff9abe": {
            "model_module": "@jupyter-widgets/base",
            "model_module_version": "2.0.0",
            "model_name": "LayoutModel",
            "state": {
              "_model_module": "@jupyter-widgets/base",
              "_model_module_version": "2.0.0",
              "_model_name": "LayoutModel",
              "_view_count": null,
              "_view_module": "@jupyter-widgets/base",
              "_view_module_version": "2.0.0",
              "_view_name": "LayoutView",
              "align_content": null,
              "align_items": null,
              "align_self": null,
              "border_bottom": null,
              "border_left": null,
              "border_right": null,
              "border_top": null,
              "bottom": null,
              "display": null,
              "flex": null,
              "flex_flow": null,
              "grid_area": null,
              "grid_auto_columns": null,
              "grid_auto_flow": null,
              "grid_auto_rows": null,
              "grid_column": null,
              "grid_gap": null,
              "grid_row": null,
              "grid_template_areas": null,
              "grid_template_columns": null,
              "grid_template_rows": null,
              "height": null,
              "justify_content": null,
              "justify_items": null,
              "left": null,
              "margin": null,
              "max_height": null,
              "max_width": null,
              "min_height": null,
              "min_width": null,
              "object_fit": null,
              "object_position": null,
              "order": null,
              "overflow": null,
              "padding": null,
              "right": null,
              "top": null,
              "visibility": "hidden",
              "width": null
            }
          },
          "fd40e41d400c4565846b07da077a723b": {
            "model_module": "@jupyter-widgets/base",
            "model_module_version": "2.0.0",
            "model_name": "LayoutModel",
            "state": {
              "_model_module": "@jupyter-widgets/base",
              "_model_module_version": "2.0.0",
              "_model_name": "LayoutModel",
              "_view_count": null,
              "_view_module": "@jupyter-widgets/base",
              "_view_module_version": "2.0.0",
              "_view_name": "LayoutView",
              "align_content": null,
              "align_items": null,
              "align_self": null,
              "border_bottom": null,
              "border_left": null,
              "border_right": null,
              "border_top": null,
              "bottom": null,
              "display": null,
              "flex": null,
              "flex_flow": null,
              "grid_area": null,
              "grid_auto_columns": null,
              "grid_auto_flow": null,
              "grid_auto_rows": null,
              "grid_column": null,
              "grid_gap": null,
              "grid_row": null,
              "grid_template_areas": null,
              "grid_template_columns": null,
              "grid_template_rows": null,
              "height": null,
              "justify_content": null,
              "justify_items": null,
              "left": null,
              "margin": null,
              "max_height": null,
              "max_width": null,
              "min_height": null,
              "min_width": null,
              "object_fit": null,
              "object_position": null,
              "order": null,
              "overflow": null,
              "padding": null,
              "right": null,
              "top": null,
              "visibility": null,
              "width": null
            }
          }
        },
        "version_major": 2,
        "version_minor": 0
      }
    }
  }
}