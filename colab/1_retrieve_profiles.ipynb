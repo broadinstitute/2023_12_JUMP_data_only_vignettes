{
 "cells": [
  {
   "cell_type": "markdown",
   "id": "3d0a5d26-88c6-494e-b860-6ca3bfc79b97",
   "metadata": {},
   "source": [
    "# Retrieve JUMP profiles\n",
    "\n",
    "This is a tutorial on how to access profiles from the [JUMP Cell\n",
    "Painting datasets](https://github.com/jump-cellpainting/datasets). We\n",
    "will use polars to fetch the data frames lazily, with the help of `s3fs`\n",
    "and `pyarrow`. We prefer lazy loading because the data can be too big to\n",
    "be handled in memory."
   ]
  },
  {
   "cell_type": "code",
   "execution_count": 0,
   "id": "79b97cfb3ac6-068b-e494-6c88-62d5a0d3",
   "metadata": {},
   "outputs": [],
   "source": [
    "!pip install jump_deps"
   ]
  },
  {
   "cell_type": "code",
   "execution_count": 1,
   "id": "7fcb1595",
   "metadata": {
    "title": "Imports"
   },
   "outputs": [],
   "source": [
    "import polars as pl"
   ]
  },
  {
   "cell_type": "markdown",
   "id": "fd7690f0-ce6d-435b-8c89-74be695d1c60",
   "metadata": {},
   "source": [
    "The shapes of the available datasets are:\n",
    "\n",
    "1.  `cpg0016-jump[crispr]`: CRISPR knockouts genetic perturbations.\n",
    "2.  `cpg0016-jump[orf]`: Overexpression genetic perturbations.\n",
    "3.  `cpg0016-jump[compound]`: Chemical perturbations.\n",
    "\n",
    "Their explicit location is determined by the transformations that\n",
    "produce the datasets. The aws paths of the dataframes are built from a\n",
    "prefix below:"
   ]
  },
  {
   "cell_type": "code",
   "execution_count": 2,
   "id": "c654a206",
   "metadata": {
    "title": "Paths"
   },
   "outputs": [],
   "source": [
    "INDEX_FILE = \"https://raw.githubusercontent.com/jump-cellpainting/datasets/50cd2ab93749ccbdb0919d3adf9277c14b6343dd/manifests/profile_index.csv\""
   ]
  },
  {
   "cell_type": "markdown",
   "id": "8b7e638e-6572-4722-a06f-21e3e6ce9b31",
   "metadata": {},
   "source": [
    "We use a version-controlled csv to release the latest corrected profiles"
   ]
  },
  {
   "cell_type": "code",
   "execution_count": 3,
   "id": "f125d195",
   "metadata": {},
   "outputs": [
    {
     "data": {
      "text/html": [
       "</div>"
      ]
     },
     "metadata": {},
     "output_type": "display_data"
    }
   ],
   "source": [
    "profile_index = pl.read_csv(INDEX_FILE)\n",
    "profile_index.head()"
   ]
  },
  {
   "cell_type": "markdown",
   "id": "94f42b01-3a13-48c5-b63a-8b72beb06284",
   "metadata": {},
   "source": [
    "We do not need the ‘etag’ (used to check file integrity) column nor the\n",
    "‘interpretable’ (i.e., before major modifications)"
   ]
  },
  {
   "cell_type": "code",
   "execution_count": 4,
   "id": "16253789",
   "metadata": {},
   "outputs": [
    {
     "name": "stdout",
     "output_type": "stream",
     "text": [
      "{'orf': 'https://cellpainting-gallery.s3.amazonaws.com/cpg0016-jump-assembled/source_all/workspace/profiles/jump-profiling-recipe_2024_a917fa7/ORF/profiles_wellpos_cc_var_mad_outlier_featselect_sphering_harmony/profiles_wellpos_cc_var_mad_outlier_featselect_sphering_harmony.parquet', 'crispr': 'https://cellpainting-gallery.s3.amazonaws.com/cpg0016-jump-assembled/source_all/workspace/profiles/jump-profiling-recipe_2024_a917fa7/CRISPR/profiles_wellpos_cc_var_mad_outlier_featselect_sphering_harmony_PCA_corrected/profiles_wellpos_cc_var_mad_outlier_featselect_sphering_harmony_PCA_corrected.parquet', 'compound': 'https://cellpainting-gallery.s3.amazonaws.com/cpg0016-jump-assembled/source_all/workspace/profiles/jump-profiling-recipe_2024_a917fa7/COMPOUND/profiles_var_mad_int_featselect_harmony/profiles_var_mad_int_featselect_harmony.parquet'}"
     ]
    }
   ],
   "source": [
    "selected_profiles = profile_index.filter(\n",
    "    pl.col(\"subset\").is_in((\"crispr\", \"orf\", \"compound\"))\n",
    ").select(pl.exclude(\"etag\"))\n",
    "filepaths = dict(selected_profiles.iter_rows())\n",
    "print(filepaths)"
   ]
  },
  {
   "cell_type": "markdown",
   "id": "a26ffb36-5389-4f71-9a6a-5ead24002cd0",
   "metadata": {},
   "source": [
    "We will lazy-load the dataframes and print the number of rows and\n",
    "columns"
   ]
  },
  {
   "cell_type": "code",
   "execution_count": 5,
   "id": "fde61856",
   "metadata": {},
   "outputs": [
    {
     "data": {
      "text/html": [
       "</div>"
      ]
     },
     "metadata": {},
     "output_type": "display_data"
    }
   ],
   "source": [
    "info = {k: [] for k in (\"dataset\", \"#rows\", \"#cols\", \"#Metadata cols\", \"Size (MB)\")}\n",
    "for name, path in filepaths.items():\n",
    "    data = pl.scan_parquet(path)\n",
    "    n_rows = data.select(pl.len()).collect().item()\n",
    "    schema = data.collect_schema()\n",
    "    metadata_cols = [col for col in schema.keys() if col.startswith(\"Metadata\")]\n",
    "    n_cols = schema.len()\n",
    "    n_meta_cols = len(metadata_cols)\n",
    "    estimated_size = int(round(4.03 * n_rows * n_cols / 1e6, 0))  # B -> MB\n",
    "    for k, v in zip(info.keys(), (name, n_rows, n_cols, n_meta_cols, estimated_size)):\n",
    "        info[k].append(v)\n",
    "\n",
    "pl.DataFrame(info)"
   ]
  },
  {
   "cell_type": "markdown",
   "id": "fb4214db-a06e-4da8-9382-0d4b987b6ff8",
   "metadata": {},
   "source": [
    "Let us now focus on the `crispr` dataset and use a regex to select the\n",
    "metadata columns. We will then sample rows and display the overview.\n",
    "Note that the collect() method enforces loading some data into memory."
   ]
  },
  {
   "cell_type": "code",
   "execution_count": 6,
   "id": "73633f47",
   "metadata": {},
   "outputs": [
    {
     "data": {
      "text/html": [
       "</div>"
      ]
     },
     "metadata": {},
     "output_type": "display_data"
    }
   ],
   "source": [
    "data = pl.scan_parquet(filepaths[\"crispr\"])\n",
    "data.select(pl.col(\"^Metadata.*$\").sample(n=5, seed=1)).collect()"
   ]
  },
  {
   "cell_type": "markdown",
   "id": "1e69aca3-e706-4624-b883-12d27410f627",
   "metadata": {},
   "source": [
    "The following line excludes the metadata columns:"
   ]
  },
  {
   "cell_type": "code",
   "execution_count": 7,
   "id": "ff510d14",
   "metadata": {},
   "outputs": [
    {
     "data": {
      "text/html": [
       "</div>"
      ]
     },
     "metadata": {},
     "output_type": "display_data"
    }
   ],
   "source": [
    "data_only = data.select(pl.all().exclude(\"^Metadata.*$\").sample(n=5, seed=1)).collect()\n",
    "data_only"
   ]
  },
  {
   "cell_type": "markdown",
   "id": "a2baa008-881d-49ee-89b7-1d6b76247253",
   "metadata": {},
   "source": [
    "Finally, we can convert this to `pandas` if we want to perform analyses\n",
    "with that tool. Keep in mind that this loads the entire dataframe into\n",
    "memory."
   ]
  },
  {
   "cell_type": "code",
   "execution_count": 8,
   "id": "cf00e620",
   "metadata": {},
   "outputs": [
    {
     "data": {
      "text/html": [
       "\n",
       "<p>5 rows × 259 columns</p>\n",
       "</div>"
      ]
     },
     "metadata": {},
     "output_type": "display_data"
    }
   ],
   "source": [
    "data_only.to_pandas()"
   ]
  }
 ],
 "metadata": {
  "jupytext": {
   "executable": "/usr/bin/env jupyter",
   "text_representation": {
    "extension": ".qmd",
    "format_name": "quarto",
    "format_version": "1.0",
    "jupytext_version": "1.16.4"
   }
  },
  "kernelspec": {
   "display_name": "Python 3",
   "language": "python",
   "name": "python3"
  },
  "language_info": {
   "codemirror_mode": {
    "name": "ipython",
    "version": "3"
   },
   "file_extension": ".py",
   "mimetype": "text/x-python",
   "name": "python",
   "nbconvert_exporter": "python",
   "pygments_lexer": "ipython3",
   "version": "3.11.9"
  }
 },
 "nbformat": 4,
 "nbformat_minor": 5
}
