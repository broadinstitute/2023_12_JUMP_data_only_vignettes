{
  "cells": [
    {
      "cell_type": "markdown",
      "metadata": {},
      "source": [
        "# Incorporate metadata into profiles\n",
        "\n",
        "A very common task when processing morphological profiles is knowing\n",
        "which ones are treatments and which ones are controls. Here we will\n",
        "explore how we can use broad-babel to accomplish this task."
      ],
      "id": "2867dbb4-079d-4d88-b9d9-862a4ccc726f"
    },
    {
      "cell_type": "code",
      "execution_count": 1,
      "metadata": {
        "title": "Imports"
      },
      "outputs": [],
      "source": [
        "import polars as pl\n",
        "from broad_babel.query import get_mapper\n",
        "from pyarrow.dataset import dataset\n",
        "from s3fs import S3FileSystem"
      ],
      "id": "9922a850"
    },
    {
      "cell_type": "markdown",
      "metadata": {},
      "source": [
        "We will be using the CRISPR dataset specificed in our index csv."
      ],
      "id": "28bf5f93-4b66-4566-935f-068e3436f281"
    },
    {
      "cell_type": "code",
      "execution_count": 2,
      "metadata": {
        "title": "Fetch the CRISPR dataset"
      },
      "outputs": [
        {
          "output_type": "stream",
          "name": "stdout",
          "text": [
            "['Metadata_Source', 'Metadata_Plate', 'Metadata_Well', 'Metadata_JCP2022', 'X_1', 'X_2']"
          ]
        }
      ],
      "source": [
        "INDEX_FILE = \"https://raw.githubusercontent.com/jump-cellpainting/datasets/50cd2ab93749ccbdb0919d3adf9277c14b6343dd/manifests/profile_index.csv\"\n",
        "CRISPR_URL = pl.read_csv(INDEX_FILE).filter(pl.col(\"subset\")==\"crispr\").item(0,\"url\")\n",
        "profiles = pl.scan_parquet(CRISPR_URL)\n",
        "print(profiles.collect_schema().names()[:6])"
      ],
      "id": "f04d7bd5"
    },
    {
      "cell_type": "markdown",
      "metadata": {},
      "source": [
        "For simplicity the contents of our processed profiles are minimal: “The\n",
        "profile origin” (source, plate and well) and the unique JUMP identifier\n",
        "for that perturbation. We will use broad-babel to further expand on this\n",
        "metadata, but for simplicity’s sake let us sample subset of data."
      ],
      "id": "1d1ec10d-e25e-4636-9c2c-d8a701458f52"
    },
    {
      "cell_type": "code",
      "execution_count": 3,
      "metadata": {
        "title": "Subset data"
      },
      "outputs": [
        {
          "output_type": "display_data",
          "metadata": {},
          "data": {
            "text/plain": [
              "('JCP2022_800231',\n",
              " 'JCP2022_807718',\n",
              " 'JCP2022_806819',\n",
              " 'JCP2022_805882',\n",
              " 'JCP2022_806249',\n",
              " 'JCP2022_802356',\n",
              " 'JCP2022_802927',\n",
              " 'JCP2022_801650',\n",
              " 'JCP2022_801138',\n",
              " 'JCP2022_801159',\n",
              " 'JCP2022_800002')"
            ]
          }
        }
      ],
      "source": [
        "jcp_ids = profiles.select(pl.col(\"Metadata_JCP2022\")).unique().collect().to_series()\n",
        "subsample = jcp_ids.sample(10, seed=42)\n",
        "# Add a well-known control\n",
        "subsample = (*subsample, \"JCP2022_800002\")\n",
        "subsample"
      ],
      "id": "0d8fc9f0"
    },
    {
      "cell_type": "markdown",
      "metadata": {},
      "source": [
        "We will use these JUMP ids to obtain a mapper that indicates the\n",
        "perturbation type (trt, negcon or, rarely, poscon)"
      ],
      "id": "70ca4d8c-a832-4a1a-aa30-8d39580452b9"
    },
    {
      "cell_type": "code",
      "execution_count": 4,
      "metadata": {
        "title": "Pull mapper"
      },
      "outputs": [
        {
          "output_type": "display_data",
          "metadata": {},
          "data": {
            "text/plain": [
              "{'JCP2022_807718': 'trt',\n",
              " 'JCP2022_806819': 'trt',\n",
              " 'JCP2022_801159': 'trt',\n",
              " 'JCP2022_801650': 'trt',\n",
              " 'JCP2022_800002': 'negcon',\n",
              " 'JCP2022_800231': 'trt',\n",
              " 'JCP2022_806249': 'trt',\n",
              " 'JCP2022_802927': 'trt',\n",
              " 'JCP2022_801138': 'trt',\n",
              " 'JCP2022_802356': 'trt',\n",
              " 'JCP2022_805882': 'trt'}"
            ]
          }
        }
      ],
      "source": [
        "pert_mapper = get_mapper(subsample, input_column=\"JCP2022\", output_columns=\"JCP2022,pert_type\")\n",
        "pert_mapper"
      ],
      "id": "88a8faaa"
    },
    {
      "cell_type": "markdown",
      "metadata": {},
      "source": [
        "A couple of important notes about broad_babel’s get mapper and other\n",
        "functions: - these must be fed tuples, as these are cached and provide\n",
        "significant speed-ups for repeated calls - ‘get-mapper’ works for\n",
        "datasets for up to a few tens of thousands of samples. If you try to use\n",
        "it to get a mapper for the entirety of the ‘compounds’ dataset it is\n",
        "likely to fail. For these cases we suggest the more general function\n",
        "‘run_query’. You can read more on this and other use-cases on Babel’s\n",
        "[readme](https://github.com/broadinstitute/monorepo/tree/main/libs/jump_babel).\n",
        "\n",
        "We will now repeat the process to get their ‘standard’ name"
      ],
      "id": "3ef0f574-18c5-4c9c-b1d9-52a1e003f73d"
    },
    {
      "cell_type": "code",
      "execution_count": 5,
      "metadata": {
        "title": "Fetch standard name"
      },
      "outputs": [
        {
          "output_type": "display_data",
          "metadata": {},
          "data": {
            "text/plain": [
              "{'JCP2022_801650': 'CYP4A22',\n",
              " 'JCP2022_801159': 'CD40',\n",
              " 'JCP2022_807718': 'XRCC3',\n",
              " 'JCP2022_800002': 'non-targeting',\n",
              " 'JCP2022_800231': 'ADGRB2',\n",
              " 'JCP2022_806819': 'STAG2',\n",
              " 'JCP2022_801138': 'CCT4',\n",
              " 'JCP2022_806249': 'SEC24A',\n",
              " 'JCP2022_805882': 'RCOR1',\n",
              " 'JCP2022_802927': 'GSC2',\n",
              " 'JCP2022_802356': 'FDX1'}"
            ]
          }
        }
      ],
      "source": [
        "name_mapper = get_mapper((*subsample, \"JCP2022_800002\"), input_column=\"JCP2022\", output_columns=\"JCP2022,standard_key\")\n",
        "name_mapper"
      ],
      "id": "e09dd399"
    },
    {
      "cell_type": "markdown",
      "metadata": {},
      "source": [
        "To wrap up, we will fetch all the available profiles for these\n",
        "perturbations and use the mappers to add the missing metadata. We also\n",
        "select a few features to showcase how how selection can be performed in\n",
        "polars."
      ],
      "id": "ddc2382b-141d-4190-9387-559c19b33c02"
    },
    {
      "cell_type": "code",
      "execution_count": 6,
      "metadata": {
        "title": "Filter profiles and merge metadata"
      },
      "outputs": [
        {
          "output_type": "display_data",
          "metadata": {},
          "data": {
            "text/html": [
              "</div>"
            ]
          }
        }
      ],
      "source": [
        "subsample_profiles = profiles.filter(pl.col(\"Metadata_JCP2022\").is_in(subsample)).collect()\n",
        "profiles_with_meta = subsample_profiles.with_columns(pl.col(\"Metadata_JCP2022\").replace(pert_mapper).alias(\"pert_type\"),\n",
        "                                pl.col(\"Metadata_JCP2022\").replace(name_mapper).alias(\"name\"))\n",
        "profiles_with_meta.select(pl.col((\"name\",\"pert_type\", \"^Metadata.*$\", \"^X_[0-3]$\"))).sort(by=\"pert_type\")"
      ],
      "id": "88cd7f95"
    }
  ],
  "nbformat": 4,
  "nbformat_minor": 5,
  "metadata": {
    "jupytext": {
      "executable": "/usr/bin/env jupyter",
      "text_representation": {
        "extension": ".qmd",
        "format_name": "quarto",
        "format_version": "1.0",
        "jupytext_version": "1.16.4"
      }
    },
    "kernelspec": {
      "name": "python3",
      "display_name": "Python 3",
      "language": "python"
    },
    "language_info": {
      "name": "python",
      "codemirror_mode": {
        "name": "ipython",
        "version": "3"
      },
      "file_extension": ".py",
      "mimetype": "text/x-python",
      "nbconvert_exporter": "python",
      "pygments_lexer": "ipython3",
      "version": "3.11.8"
    }
  }
}