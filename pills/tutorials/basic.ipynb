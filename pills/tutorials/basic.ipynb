{
  "cells": [
    {
      "cell_type": "markdown",
      "metadata": {},
      "source": [
        "# Basic JUMP data access\n",
        "\n",
        "Alán F. Muñoz  \n",
        "2024-03-19\n",
        "\n",
        "This is a tutorial on how to access We will use polars to fetch the data\n",
        "frame lazily, with the help of s3fs and pyarrow. We prefer lazy loading\n",
        "because the data can be too big to be handled in memory."
      ],
      "id": "b8c8d3d5-6a0b-4296-b751-b7f745fcfc52"
    },
    {
      "cell_type": "code",
      "execution_count": 1,
      "metadata": {
        "title": "Imports"
      },
      "outputs": [],
      "source": [
        "import polars as pl\n",
        "from pyarrow.dataset import dataset\n",
        "from s3fs import S3FileSystem"
      ],
      "id": "ac20d1a0"
    },
    {
      "cell_type": "markdown",
      "metadata": {},
      "source": [
        "The shapes of the available datasets are: - crispr: Knock-out genetic\n",
        "perturbations. - orf: Overexpression genetic perturbations. - compounds:\n",
        "Chemical genetic perturbations.\n",
        "\n",
        "The aws paths of the dataframes are shown below:"
      ],
      "id": "8c2c27f7-0028-46af-b181-d92c2dd8e754"
    },
    {
      "cell_type": "code",
      "execution_count": 2,
      "metadata": {
        "title": "Paths"
      },
      "outputs": [],
      "source": [
        "prefix = (\n",
        "    \"s3://cellpainting-gallery/cpg0016-jump-integrated/source_all/workspace/profiles\"\n",
        ")\n",
        "filepaths = dict(\n",
        "    crispr=f\"{prefix}/chandrasekaran_2024_0000000/crispr/wellpos_cellcount_mad_outlier_nan_featselect_harmony.parquet\",\n",
        "    orf=f\"{prefix}/chandrasekaran_2024_0000000/orf/wellpos_cellcount_mad_outlier_nan_featselect_harmony.parquet\",\n",
        "    compound=f\"{prefix}/arevalo_2023_e834481/compound/mad_int_featselect_harmony.parquet/\",\n",
        ")"
      ],
      "id": "addd8151"
    },
    {
      "cell_type": "markdown",
      "metadata": {},
      "source": [
        "We use a S3FileSystem to avoid the need of credentials."
      ],
      "id": "4fe56463-e942-4142-9985-e8bab5489757"
    },
    {
      "cell_type": "code",
      "execution_count": 3,
      "metadata": {},
      "outputs": [],
      "source": [
        "def lazy_load(path: str) -> pl.DataFrame:\n",
        "    fs = S3FileSystem(anon=True)\n",
        "    myds = dataset(path, filesystem=fs)\n",
        "    df = pl.scan_pyarrow_dataset(myds)\n",
        "    return df"
      ],
      "id": "12b22bc7"
    },
    {
      "cell_type": "markdown",
      "metadata": {},
      "source": [
        "We will lazy load the data to visualise its columns"
      ],
      "id": "cc995014-a3a9-4b65-8671-96be0732a51a"
    },
    {
      "cell_type": "code",
      "execution_count": 4,
      "metadata": {},
      "outputs": [
        {
          "output_type": "stream",
          "name": "stdout",
          "text": [
            "Width, or number of columns.\n",
            "crispr: 1119, containing 8 metadata columns\n",
            "orf: 882, containing 20 metadata columns\n",
            "compound: 979, containing 10 metadata columns"
          ]
        }
      ],
      "source": [
        "print(\"Width, or number of columns.\")\n",
        "for name, path in filepaths.items():\n",
        "    data = lazy_load(path)\n",
        "    metadata_cols = [col for col in data.columns if col.startswith(\"Metadata\")]\n",
        "    print(f\"{name}: {data.width}, containing {len(metadata_cols)} metadata columns\")"
      ],
      "id": "df3f7b5c"
    },
    {
      "cell_type": "markdown",
      "metadata": {},
      "source": [
        "Let us now focus on the crispr dataset and print its first few lines."
      ],
      "id": "663aa540-12ab-4070-967d-3336737ec7d0"
    },
    {
      "cell_type": "code",
      "execution_count": 5,
      "metadata": {},
      "outputs": [
        {
          "output_type": "display_data",
          "metadata": {},
          "data": {
            "text/html": [
              "<i>naive plan: (run <b>LazyFrame.explain(optimized=True)</b> to see the optimized plan)</i>\n",
              "    <p></p>\n",
              "    <div>SLICE[offset: 0, len: 5]<p></p><p></p>    PYTHON SCAN <p></p>    PROJECT */1119 COLUMNS</div>"
            ]
          }
        }
      ],
      "source": [
        "data = lazy_load(filepaths[\"crispr\"])\n",
        "data.head()"
      ],
      "id": "5180ce19"
    }
  ],
  "nbformat": 4,
  "nbformat_minor": 5,
  "metadata": {
    "jupytext": {
      "executable": "/usr/bin/env jupyter",
      "text_representation": {
        "extension": ".qmd",
        "format_name": "quarto",
        "format_version": "1.0",
        "jupytext_version": "1.16.1"
      }
    },
    "kernelspec": {
      "name": "python3",
      "display_name": "Python 3",
      "language": "python"
    }
  }
}