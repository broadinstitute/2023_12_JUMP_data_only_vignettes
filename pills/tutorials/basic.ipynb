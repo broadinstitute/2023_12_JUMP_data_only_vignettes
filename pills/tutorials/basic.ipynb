{
  "cells": [
    {
      "cell_type": "markdown",
      "metadata": {},
      "source": [
        "# Basic JUMP data access\n",
        "\n",
        "Alán F. Muñoz  \n",
        "2024-03-20\n",
        "\n",
        "This is a tutorial on how to access We will use polars to fetch the data\n",
        "frame lazily, with the help of s3fs and pyarrow. We prefer lazy loading\n",
        "because the data can be too big to be handled in memory."
      ],
      "id": "99c01d9e-840c-457d-bbe3-f29299e8e39b"
    },
    {
      "cell_type": "code",
      "execution_count": 1,
      "metadata": {
        "title": "Imports"
      },
      "outputs": [],
      "source": [
        "import polars as pl\n",
        "from pyarrow.dataset import dataset\n",
        "from s3fs import S3FileSystem"
      ],
      "id": "240a85b0"
    },
    {
      "cell_type": "markdown",
      "metadata": {},
      "source": [
        "The shapes of the available datasets are: a) crispr: Knock-out genetic\n",
        "perturbations. a) orf: Overexpression genetic perturbations. a)\n",
        "compounds: Chemical genetic perturbations.\n",
        "\n",
        "The aws paths of the dataframes are shown below:"
      ],
      "id": "af951593-94d4-4d3a-9dc1-4dfe7034efce"
    },
    {
      "cell_type": "code",
      "execution_count": 2,
      "metadata": {
        "title": "Paths"
      },
      "outputs": [],
      "source": [
        "prefix = (\n",
        "    \"s3://cellpainting-gallery/cpg0016-jump-integrated/source_all/workspace/profiles\"\n",
        ")\n",
        "filepaths = dict(\n",
        "    crispr=f\"{prefix}/chandrasekaran_2024_0000000/crispr/wellpos_cellcount_mad_outlier_nan_featselect_harmony.parquet\",\n",
        "    orf=f\"{prefix}/chandrasekaran_2024_0000000/orf/wellpos_cellcount_mad_outlier_nan_featselect_harmony.parquet\",\n",
        "    compound=f\"{prefix}/arevalo_2023_e834481/compound/mad_int_featselect_harmony.parquet/\",\n",
        ")"
      ],
      "id": "85630f66"
    },
    {
      "cell_type": "markdown",
      "metadata": {},
      "source": [
        "We use a S3FileSystem to avoid the need of credentials."
      ],
      "id": "56a16e1d-90a7-4081-9da5-6fcb16d560b5"
    },
    {
      "cell_type": "code",
      "execution_count": 3,
      "metadata": {},
      "outputs": [],
      "source": [
        "def lazy_load(path: str) -> pl.DataFrame:\n",
        "    fs = S3FileSystem(anon=True)\n",
        "    myds = dataset(path, filesystem=fs)\n",
        "    df = pl.scan_pyarrow_dataset(myds)\n",
        "    return df"
      ],
      "id": "7f243bb6"
    },
    {
      "cell_type": "markdown",
      "metadata": {},
      "source": [
        "We will lazy-load the dataframes and print the number of rows and clumns"
      ],
      "id": "582955c1-a540-4b78-b8e5-7b9733e2dd26"
    },
    {
      "cell_type": "code",
      "execution_count": 4,
      "metadata": {},
      "outputs": [
        {
          "output_type": "display_data",
          "metadata": {},
          "data": {
            "text/html": [
              "</div>"
            ]
          }
        }
      ],
      "source": [
        "info = {k: [] for k in (\"dataset\", \"#rows\", \"#cols\", \"#Metadata cols\", \"Size (MB)\")}\n",
        "for name, path in filepaths.items():\n",
        "    data = lazy_load(path)\n",
        "    n_rows = data.select(pl.count()).collect().item()\n",
        "    metadata_cols = data.select(pl.col(\"^Metadata.*$\")).columns\n",
        "    n_cols = data.width\n",
        "    n_meta_cols = len(metadata_cols)\n",
        "    estimated_size = int(round(4.03 * n_rows * n_cols / 1e6, 0))  # B -> MB\n",
        "    for k, v in zip(info.keys(), (name, n_rows, n_cols, n_meta_cols, estimated_size)):\n",
        "        info[k].append(v)\n",
        "\n",
        "pl.DataFrame(info)"
      ],
      "id": "1f75aec3"
    },
    {
      "cell_type": "markdown",
      "metadata": {},
      "source": [
        "Let us now focus on the crispr dataset and use a regex to select the\n",
        "metadata columns. We will then sample rows and display the overview.\n",
        "Note that the collect() method enforces loading some data into memory."
      ],
      "id": "357a5bda-5856-4c61-bd85-630d525a2c4b"
    },
    {
      "cell_type": "code",
      "execution_count": 5,
      "metadata": {},
      "outputs": [
        {
          "output_type": "display_data",
          "metadata": {},
          "data": {
            "text/html": [
              "</div>"
            ]
          }
        }
      ],
      "source": [
        "data = lazy_load(filepaths[\"crispr\"])\n",
        "data.select(pl.col(\"^Metadata.*$\").sample(n=5, seed=1)).collect()"
      ],
      "id": "4c5fb678"
    },
    {
      "cell_type": "markdown",
      "metadata": {},
      "source": [
        "The following line excludes the metadata columns:"
      ],
      "id": "4ceaba7e-1ce5-4d8d-acdf-926e21ca3029"
    },
    {
      "cell_type": "code",
      "execution_count": 6,
      "metadata": {},
      "outputs": [
        {
          "output_type": "display_data",
          "metadata": {},
          "data": {
            "text/html": [
              "</div>"
            ]
          }
        }
      ],
      "source": [
        "data_only = data.select(pl.all().exclude(\"^Metadata.*$\").sample(n=5, seed=1)).collect()\n",
        "data_only"
      ],
      "id": "d787865d"
    },
    {
      "cell_type": "markdown",
      "metadata": {},
      "source": [
        "Finally, we can convert this to pandas if we want to perform analyses\n",
        "with that tool. Keep in mind that this loads the entire dataframe into\n",
        "memory."
      ],
      "id": "d2c2a607-4a2f-4804-b33c-11637481771f"
    },
    {
      "cell_type": "code",
      "execution_count": 7,
      "metadata": {},
      "outputs": [
        {
          "output_type": "display_data",
          "metadata": {},
          "data": {
            "text/html": [
              "\n",
              "<p>5 rows × 1111 columns</p>\n",
              "</div>"
            ]
          }
        }
      ],
      "source": [
        "data_only.to_pandas()"
      ],
      "id": "7f431faa"
    }
  ],
  "nbformat": 4,
  "nbformat_minor": 5,
  "metadata": {
    "jupytext": {
      "executable": "/usr/bin/env jupyter",
      "text_representation": {
        "extension": ".qmd",
        "format_name": "quarto",
        "format_version": "1.0",
        "jupytext_version": "1.16.1"
      }
    },
    "kernelspec": {
      "name": "python3",
      "display_name": "Python 3",
      "language": "python"
    }
  }
}