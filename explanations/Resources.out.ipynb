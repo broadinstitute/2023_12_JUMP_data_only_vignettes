{
  "cells": [
    {
      "cell_type": "markdown",
      "metadata": {},
      "source": [
        "# Available resources\n",
        "\n",
        "-   [Available resources](#Available%20resources)\n",
        "\n",
        "<a id=\"Available%20resources\"></a>\n",
        "\n",
        "-   Home [website](https://jump-cellpainting.broadinstitute.org/):\n",
        "    Access news and related publications.\n",
        "\n",
        "-   We provide Open Source Web “JUMPer” interfaces for all three\n",
        "    datasets (CRISPR, ORF and Compound). For more details follow\n",
        "    [this](https://github.com/broadinstitute/monorepo/tree/main/libs/jump_rr)\n",
        "    link.\n",
        "\n",
        "-   Ardigen provides a\n",
        "    [website](https://phenaid.ardigen.com/jumpcpexplorer/) to explore a\n",
        "    representation (requires creating a free account).\n",
        "\n",
        "-   Spring Science also provides a\n",
        "    [website](https://www.springscience.com/jump-cp) for data\n",
        "    exploration (account needed)."
      ],
      "id": "13fa19f3-220a-408e-a96c-825c9b195e96"
    }
  ],
  "nbformat": 4,
  "nbformat_minor": 5,
  "metadata": {
    "kernelspec": {
      "name": "python3",
      "display_name": "Python 3",
      "language": "python"
    }
  }
}