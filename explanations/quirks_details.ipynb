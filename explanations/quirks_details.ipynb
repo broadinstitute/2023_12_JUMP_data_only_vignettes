{
  "cells": [
    {
      "cell_type": "markdown",
      "metadata": {},
      "source": [
        "# \n",
        "\n",
        "## Quirks and details\n",
        "\n",
        "There are additional details that are not commonly asked but it is\n",
        "important to retain on record. This is a compendium of those.\n",
        "\n",
        "-   Source 2 and 9 use larger plates (1536 vs the standard 384)  \n",
        "-   Source 7 and 13 are the same  \n",
        "-   In JUMP-Target there is an InChIKey that maps to 2 different\n",
        "    perturbations: ‘LOUPRKONTZGTKE-UHFFFAOYSA-N’ maps to both quinidine\n",
        "    and quinine.  \n",
        "-   The definition of controls, specially positive controls, can be\n",
        "    tricky: Some are hard-coded in\n",
        "    [broad_babel](https://github.com/broadinstitute/monorepo/blob/febe56c27e490c110d8b5a871de974a4293176c6/libs/jump_babel/tools/gen_database.py#L70-L87),\n",
        "    based on internal knowledge that was not recorded at the time of\n",
        "    assembling the datasets. In certain datasets, such as ORF, there are\n",
        "    additional types of positive controls: poscon_orf, poscon_cp\n",
        "    (compound probe), and poscon_diverse."
      ],
      "id": "776906d6-b698-42dd-8b34-120fe9cc0166"
    }
  ],
  "nbformat": 4,
  "nbformat_minor": 5,
  "metadata": {
    "kernelspec": {
      "display_name": "Python 3",
      "language": "python",
      "name": "python3"
    }
  }
}