{
  "cells": [
    {
      "cell_type": "markdown",
      "metadata": {},
      "source": [
        "# \n",
        "\n",
        "-   [Additional uses](#orgea584c6)\n",
        "\n",
        "Focal point for JUMP information and data analysis pipelines.\n",
        "\n",
        "<a id=\"orgea584c6\"></a>\n",
        "\n",
        "# Additional uses\n",
        "\n",
        "This repository can be used as a way to install essential dependencies\n",
        "for an exploratory analysis of JUMP morphological data."
      ],
      "id": "67e54baf-8b77-49c4-b007-7d145673aa6a"
    }
  ],
  "nbformat": 4,
  "nbformat_minor": 5,
  "metadata": {
    "kernelspec": {
      "display_name": "Python 3",
      "language": "python",
      "name": "python3"
    }
  }
}