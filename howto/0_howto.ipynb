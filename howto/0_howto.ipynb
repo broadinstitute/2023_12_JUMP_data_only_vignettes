{
  "cells": [
    {
      "cell_type": "markdown",
      "metadata": {},
      "source": [
        "# \n",
        "\n",
        "# How-to Guides\n",
        "\n",
        "You can use the sidebar on the left to find the most common analyses.\n",
        "They are sorted in the usual order in which data is processed.\n",
        "\n",
        "## Accessing a live coding environment\n",
        "\n",
        "This table provides direct links to run the guides on your browser (as\n",
        "Jupyter notebooks).\n",
        "\n",
        "| Google Collab                                                                                                                                                                |\n",
        "|------------------------------------------------------------------------|\n",
        "| [Retrieve JUMP profiles](https://colab.research.google.com/github/broadinstitute/2023_12_JUMP_data_only_vignettes/blob/colab/colab/1_retrieve_profiles.ipynb)                |\n",
        "| [Add metadata to profiles](https://colab.research.google.com/github/broadinstitute/2023_12_JUMP_data_only_vignettes/blob/colab/colab/2_add_metadata.ipynb)                   |\n",
        "| [Calculate phenotypic activity](https://colab.research.google.com/github/broadinstitute/2023_12_JUMP_data_only_vignettes/blob/colab/colab/3_calculate_activity.ipynb)        |\n",
        "| [Display perturbation images](https://colab.research.google.com/github/broadinstitute/2023_12_JUMP_data_only_vignettes/blob/colab/colab/4_display_perturbation_images.ipynb) |\n",
        "| [Explore perturbation clusters](https://colab.research.google.com/github/broadinstitute/2023_12_JUMP_data_only_vignettes/blob/colab/colab/5_explore_distance_clusters.ipynb) |\n",
        "| [Query genes for more info](https://colab.research.google.com/github/broadinstitute/2023_12_JUMP_data_only_vignettes/blob/colab/colab/6_query_genes_externally.ipynb)        |\n",
        "\n",
        "Alternatively, you can download the notebooks from their respective\n",
        "pages and run them in your local Python environment. We have published a\n",
        "package containing all dependencies, you need only install in your\n",
        "environment using `pip install jump_deps` (Python 3.10 or 3.11)."
      ],
      "id": "1b45118d-88e4-4399-9952-859d5bb9057c"
    }
  ],
  "nbformat": 4,
  "nbformat_minor": 5,
  "metadata": {
    "kernelspec": {
      "display_name": "Python 3",
      "language": "python",
      "name": "python3"
    }
  }
}