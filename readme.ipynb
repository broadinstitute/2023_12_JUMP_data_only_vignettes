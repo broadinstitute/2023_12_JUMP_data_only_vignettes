{
  "cells": [
    {
      "cell_type": "markdown",
      "metadata": {},
      "source": [
        "# \n",
        "\n",
        "-   [Additional uses](#orgea584c6)\n",
        "\n",
        "Focal point for JUMP information and data analysis pipelines.\n",
        "\n",
        "<a id=\"orgea584c6\"></a>\n",
        "\n",
        "# Additional uses\n",
        "\n",
        "This repository can be used as a way to install essential dependencies\n",
        "for an exploratory analysis of JUMP morphological data."
      ],
      "id": "c2e10d6a-e3e2-41c7-85fa-5e2c10cc5925"
    }
  ],
  "nbformat": 4,
  "nbformat_minor": 5,
  "metadata": {
    "kernelspec": {
      "display_name": "Python 3",
      "language": "python",
      "name": "python3"
    }
  }
}