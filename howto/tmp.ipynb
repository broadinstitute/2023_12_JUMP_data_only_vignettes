{
  "cells": [
    {
      "cell_type": "markdown",
      "metadata": {},
      "source": [
        "# Basic JUMP data access\n",
        "\n",
        "This is a tutorial on how to access profiles from the [JUMP Cell\n",
        "Painting datasets](https://github.com/jump-cellpainting/datasets). We\n",
        "will use polars to fetch the data frames lazily, with the help of `s3fs`\n",
        "and `pyarrow`. We prefer lazy loading because the data can be too big to\n",
        "be handled in memory."
      ],
      "id": "94520523-d49d-4f2d-93ec-9b2affdd42c2"
    },
    {
      "cell_type": "code",
      "execution_count": 1,
      "metadata": {
        "title": "Imports"
      },
      "outputs": [
        {
          "output_type": "display_data",
          "metadata": {},
          "data": {
            "text/plain": [
              "\"\\n{'Texture': 0.6055900621118012,\\n 'RadialDistribution': 0.13043478260869565,\\n 'Granularity': 0.062111801242236024,\\n 'Neighbors': 0.016304347826086956,\\n 'Correlation': 0.062111801242236024,\\n 'AreaShape': 0.04192546583850932,\\n 'Location': 0.017080745341614908,\\n 'ObjectSkeleton': 0.003105590062111801,\\n 'Intensity': 0.05822981366459627}\\n\""
            ]
          }
        }
      ],
      "source": [
        "from collections import Counter\n",
        "\n",
        "import polars as pl\n",
        "from pyarrow.dataset import dataset\n",
        "from s3fs import S3FileSystem\n",
        "\n",
        "INDEX_FILE = \"https://raw.githubusercontent.com/jump-cellpainting/datasets/50cd2ab93749ccbdb0919d3adf9277c14b6343dd/manifests/profile_index.csv\"\n",
        "profile_index = pl.read_csv(INDEX_FILE)\n",
        "url = profile_index.filter(pl.col(\"subset\") == \"crispr_interpretable\").get_column(\n",
        "    \"url\"\n",
        ")[0]\n",
        "cols = tuple(pl.scan_parquet(url).collect_schema())\n",
        "no_objects = list(\n",
        "    set(tuple(x.split(\"_\")[1:]) for x in cols if not x.startswith(\"Metadata\"))\n",
        ")\n",
        "counters = dict(Counter(x[0] for x in no_objects))\n",
        "total = sum([v for v in counters.values()])\n",
        "{k: v / total for k, v in counters.items() if v > 1}\n",
        "\"\"\"\n",
        "{'Texture': 0.6055900621118012,\n",
        " 'RadialDistribution': 0.13043478260869565,\n",
        " 'Granularity': 0.062111801242236024,\n",
        " 'Neighbors': 0.016304347826086956,\n",
        " 'Correlation': 0.062111801242236024,\n",
        " 'AreaShape': 0.04192546583850932,\n",
        " 'Location': 0.017080745341614908,\n",
        " 'ObjectSkeleton': 0.003105590062111801,\n",
        " 'Intensity': 0.05822981366459627}\n",
        "\"\"\""
      ],
      "id": "c13e8872"
    }
  ],
  "nbformat": 4,
  "nbformat_minor": 5,
  "metadata": {
    "jupytext": {
      "executable": "/usr/bin/env jupyter",
      "text_representation": {
        "extension": ".qmd",
        "format_name": "quarto",
        "format_version": "1.0",
        "jupytext_version": "1.16.4"
      }
    },
    "kernelspec": {
      "name": "python3",
      "display_name": "Python 3",
      "language": "python"
    },
    "language_info": {
      "name": "python",
      "codemirror_mode": {
        "name": "ipython",
        "version": "3"
      },
      "file_extension": ".py",
      "mimetype": "text/x-python",
      "nbconvert_exporter": "python",
      "pygments_lexer": "ipython3",
      "version": "3.11.8"
    }
  }
}