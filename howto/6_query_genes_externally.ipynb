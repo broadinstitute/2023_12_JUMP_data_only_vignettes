{
  "cells": [
    {
      "cell_type": "markdown",
      "metadata": {},
      "source": [
        "# Query information of genes\n",
        "\n",
        "## Overview\n",
        "\n",
        "This how-to focuses on linking gene names from the NCBI databases.\n",
        "Whilst not JUMP-specific, it is useful to fetch more information on\n",
        "perturbations that our analysis deem important without having to\n",
        "manually search them. We will use [Biopython](https://biopython.org/),\n",
        "this only explores a subset of the options, the full Entrez\n",
        "[documentation](https://www.ncbi.nlm.nih.gov/books/NBK25501/), which\n",
        "contains all the options, is a useful reference to bookmark. \\##\n",
        "Procedure"
      ],
      "id": "21d172c9-9b5a-4f1d-9950-13ea9cca2c60"
    },
    {
      "cell_type": "code",
      "execution_count": 1,
      "metadata": {
        "title": "Imports"
      },
      "outputs": [],
      "source": [
        "import polars as pl\n",
        "from Bio import Entrez\n",
        "from broad_babel.query import get_mapper"
      ],
      "id": "6a61e86f"
    },
    {
      "cell_type": "markdown",
      "metadata": {},
      "source": [
        "We define the fields that we need and an email to provide to the server\n",
        "we will query."
      ],
      "id": "ed8e15e5-5a96-476a-914a-da8cbafe2858"
    },
    {
      "cell_type": "code",
      "execution_count": 2,
      "metadata": {},
      "outputs": [],
      "source": [
        "Entrez.email = \"example@email.com\"\n",
        "fields = (\n",
        "    \"Name\",\n",
        "    \"Description\",\n",
        "    \"Summary\",\n",
        "    \"OtherDesignations\",  # This gives us synonyms\n",
        ")"
      ],
      "id": "9914c17a"
    },
    {
      "cell_type": "markdown",
      "metadata": {},
      "source": [
        "As an example, we will use a set of genes that we found in a JUMP\n",
        "cluster."
      ],
      "id": "f9fe1d7c-5d35-4d14-84ad-3a1591ec8c1d"
    },
    {
      "cell_type": "code",
      "execution_count": 3,
      "metadata": {},
      "outputs": [],
      "source": [
        "genes = (\"CHRM4\", \"SCAPER\", \"GPR176\", \"LY6K\")"
      ],
      "id": "1f19b11e"
    },
    {
      "cell_type": "markdown",
      "metadata": {},
      "source": [
        "Get a dictionary that maps Gene symbols to Entrez IDs"
      ],
      "id": "6d82c9ac-a502-4bba-86f4-1a7f35925a89"
    },
    {
      "cell_type": "code",
      "execution_count": 4,
      "metadata": {},
      "outputs": [],
      "source": [
        "ids = get_mapper(\n",
        "    query=genes,\n",
        "    input_column=\"standard_key\",\n",
        "    output_columns=\"standard_key,NCBI_Gene_ID\",\n",
        ")\n",
        "\n",
        "# Fetch the summaries for these genes\n",
        "entries = []\n",
        "for id_ in ids.values():\n",
        "    stream = Entrez.esummary(db=\"gene\", id=id_)\n",
        "    record = Entrez.read(stream)\n",
        "\n",
        "    entries.append(\n",
        "        {k: record[\"DocumentSummarySet\"][\"DocumentSummary\"][0][k] for k in fields}\n",
        "    )"
      ],
      "id": "873650a8"
    },
    {
      "cell_type": "code",
      "execution_count": 5,
      "metadata": {},
      "outputs": [],
      "source": [
        "# Show the resultant information in a human-readable format"
      ],
      "id": "31915a57"
    },
    {
      "cell_type": "code",
      "execution_count": 6,
      "metadata": {},
      "outputs": [
        {
          "output_type": "stream",
          "name": "stdout",
          "text": [
            "shape: (4, 4)\n",
            "┌────────┬─────────────────────────────┬─────────────────────────────┬─────────────────────────────┐\n",
            "│ Name   ┆ Description                 ┆ Summary                     ┆ OtherDesignations           │\n",
            "│ ---    ┆ ---                         ┆ ---                         ┆ ---                         │\n",
            "│ str    ┆ str                         ┆ str                         ┆ str                         │\n",
            "╞════════╪═════════════════════════════╪═════════════════════════════╪═════════════════════════════╡\n",
            "│ GPR176 ┆ G protein-coupled receptor  ┆ Members of the G            ┆ G-protein coupled receptor  │\n",
            "│        ┆ 176                         ┆ protein-coupled receptor    ┆ 176|probable G-protein      │\n",
            "│        ┆                             ┆ family, such as GPR176, are ┆ coupled receptor 176        │\n",
            "│        ┆                             ┆ cell surface receptors      ┆                             │\n",
            "│        ┆                             ┆ involved in responses to    ┆                             │\n",
            "│        ┆                             ┆ hormones, growth factors,   ┆                             │\n",
            "│        ┆                             ┆ and neurotransmitters (Hata ┆                             │\n",
            "│        ┆                             ┆ et al., 1995 [PubMed        ┆                             │\n",
            "│        ┆                             ┆ 7893747]).[supplied by      ┆                             │\n",
            "│        ┆                             ┆ OMIM, Jul 2008]             ┆                             │\n",
            "│ CHRM4  ┆ cholinergic receptor        ┆ The muscarinic cholinergic  ┆ muscarinic acetylcholine    │\n",
            "│        ┆ muscarinic 4                ┆ receptors belong to a       ┆ receptor M4|acetylcholine   │\n",
            "│        ┆                             ┆ larger family of G          ┆ receptor, muscarinic 4      │\n",
            "│        ┆                             ┆ protein-coupled receptors.  ┆                             │\n",
            "│        ┆                             ┆ The functional diversity of ┆                             │\n",
            "│        ┆                             ┆ these receptors is defined  ┆                             │\n",
            "│        ┆                             ┆ by the binding of           ┆                             │\n",
            "│        ┆                             ┆ acetylcholine and includes  ┆                             │\n",
            "│        ┆                             ┆ cellular responses such as  ┆                             │\n",
            "│        ┆                             ┆ adenylate cyclase           ┆                             │\n",
            "│        ┆                             ┆ inhibition,                 ┆                             │\n",
            "│        ┆                             ┆ phosphoinositide            ┆                             │\n",
            "│        ┆                             ┆ degeneration, and potassium ┆                             │\n",
            "│        ┆                             ┆ channel mediation.          ┆                             │\n",
            "│        ┆                             ┆ Muscarinic receptors        ┆                             │\n",
            "│        ┆                             ┆ influence many effects of   ┆                             │\n",
            "│        ┆                             ┆ acetylcholine in the        ┆                             │\n",
            "│        ┆                             ┆ central and peripheral      ┆                             │\n",
            "│        ┆                             ┆ nervous system. The         ┆                             │\n",
            "│        ┆                             ┆ clinical implications of    ┆                             │\n",
            "│        ┆                             ┆ this receptor are unknown;  ┆                             │\n",
            "│        ┆                             ┆ however, mouse studies link ┆                             │\n",
            "│        ┆                             ┆ its function to adenylyl    ┆                             │\n",
            "│        ┆                             ┆ cyclase inhibition.         ┆                             │\n",
            "│        ┆                             ┆ [provided by RefSeq, Jul    ┆                             │\n",
            "│        ┆                             ┆ 2008]                       ┆                             │\n",
            "│ LY6K   ┆ lymphocyte antigen 6 family ┆ Predicted to be involved in ┆ lymphocyte antigen          │\n",
            "│        ┆ member K                    ┆ binding activity of sperm   ┆ 6K|cancer/testis antigen    │\n",
            "│        ┆                             ┆ to zona pellucida.          ┆ 97|lymphocyte antigen 6     │\n",
            "│        ┆                             ┆ Predicted to act upstream   ┆ complex, locus              │\n",
            "│        ┆                             ┆ of or within flagellated    ┆ K|up-regulated in lung      │\n",
            "│        ┆                             ┆ sperm motility. Predicted   ┆ cancer 10                   │\n",
            "│        ┆                             ┆ to be located in cell       ┆                             │\n",
            "│        ┆                             ┆ surface; cytoplasm; and     ┆                             │\n",
            "│        ┆                             ┆ plasma membrane. Predicted  ┆                             │\n",
            "│        ┆                             ┆ to be active in acrosomal   ┆                             │\n",
            "│        ┆                             ┆ vesicle. [provided by       ┆                             │\n",
            "│        ┆                             ┆ Alliance of Genome          ┆                             │\n",
            "│        ┆                             ┆ Resources, Apr 2022]        ┆                             │\n",
            "│ SCAPER ┆ S-phase cyclin A associated ┆ Predicted to enable nucleic ┆ S phase cyclin A-associated │\n",
            "│        ┆ protein in the ER           ┆ acid binding activity and   ┆ protein in the endoplasmic  │\n",
            "│        ┆                             ┆ zinc ion binding activity.  ┆ reticulum|zinc finger       │\n",
            "│        ┆                             ┆ Located in cytosol and      ┆ protein 291                 │\n",
            "│        ┆                             ┆ nuclear speck. [provided by ┆                             │\n",
            "│        ┆                             ┆ Alliance of Genome          ┆                             │\n",
            "│        ┆                             ┆ Resources, Apr 2022]        ┆                             │\n",
            "└────────┴─────────────────────────────┴─────────────────────────────┴─────────────────────────────┘"
          ]
        }
      ],
      "source": [
        "with pl.Config(fmt_str_lengths=1000):\n",
        "    print(pl.DataFrame(entries))"
      ],
      "id": "96c612e1"
    }
  ],
  "nbformat": 4,
  "nbformat_minor": 5,
  "metadata": {
    "jupytext": {
      "executable": "/usr/bin/env jupyter",
      "text_representation": {
        "extension": ".qmd",
        "format_name": "quarto",
        "format_version": "1.0",
        "jupytext_version": "1.16.4"
      }
    },
    "kernelspec": {
      "name": "python3",
      "display_name": "Python 3",
      "language": "python"
    },
    "language_info": {
      "name": "python",
      "codemirror_mode": {
        "name": "ipython",
        "version": "3"
      },
      "file_extension": ".py",
      "mimetype": "text/x-python",
      "nbconvert_exporter": "python",
      "pygments_lexer": "ipython3",
      "version": "3.11.9"
    }
  }
}