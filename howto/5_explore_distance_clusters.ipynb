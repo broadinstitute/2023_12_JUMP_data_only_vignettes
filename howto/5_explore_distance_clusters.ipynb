{
  "cells": [
    {
      "cell_type": "markdown",
      "metadata": {},
      "source": [
        "# Query external resources\n",
        "\n",
        "A common question we aim to ask is “What other perturbations look like\n",
        "mine?” The easiest way to get the answer for this question is using our\n",
        "[browsable\n",
        "datasets](https://github.com/broadinstitute/monorepo/tree/main/libs/jump_rr#quick-data-access).\n",
        "In this case we would like to use the ‘Matches’ databases, which provide\n",
        "cosines similarities between perturbations within a dataset, obtained\n",
        "from all-vs-all calculations.\n",
        "\n",
        "The limitation of this approach is that the size of JUMP results in two\n",
        "challenges: - Calculating the distances across all pairs of\n",
        "perturbations is intractable for most computers without a GPU (Graphics\n",
        "Processing Unit). - The resultant similarity matrix is too big for web\n",
        "browser-based exploration, so we limit the browsable similarity dataset\n",
        "to tthe op 100 most correlated/anticorrelated pairs of perturbations.\n",
        "\n",
        "Despite the aforementioned problems, we provide the full matrix of\n",
        "perturbation distances in case it is of use to data analysts. You can\n",
        "find this and other datasets on\n",
        "[Zenodo](https://zenodo.org/records/13259495/latest). The data files of\n",
        "interest for this exercise are “{org,crispr}\\_cosinesim_full.parquet”.\n",
        "\n",
        "The following analysis focuses on showcasing how to query one of these\n",
        "distance matrices to find all the distances between any given\n",
        "perturbation and all others. One use-case of this is testing how similar\n",
        "perturbation A and B are relative to perturbation C’s similarity to A.\n",
        "\n",
        "------------------------------------------------------------------------"
      ],
      "id": "303d98f9-8d1c-448a-aa88-0dbdf2d915ac"
    },
    {
      "cell_type": "code",
      "execution_count": 1,
      "metadata": {
        "title": "Imports"
      },
      "outputs": [],
      "source": [
        "from random import choices, seed\n",
        "\n",
        "import matplotlib.pyplot as plt\n",
        "import polars as pl\n",
        "import seaborn as sns"
      ],
      "id": "c26af3ba"
    },
    {
      "cell_type": "markdown",
      "metadata": {},
      "source": [
        "We select the CRISPR dataset for this example. As with previous\n",
        "examples, this is a lazy-loaded data frame. This enables us to download\n",
        "very big datasets without worrying about whether or not they will fill\n",
        "into memory. In these datasets, the values range between 0 and 2, where\n",
        "0 means that two profiles are the same, 1 means that they are orthogonal\n",
        "(completely uncorrelated) and 2 means that they are completely\n",
        "anticorrelated."
      ],
      "id": "6c577c0e-99a4-4ad0-8c9f-4187cbee85dc"
    },
    {
      "cell_type": "code",
      "execution_count": 2,
      "metadata": {},
      "outputs": [
        {
          "output_type": "stream",
          "name": "stdout",
          "text": [
            "naive plan: (run LazyFrame.explain(optimized=True) to see the optimized plan)\n",
            "\n",
            "SLICE[offset: 0, len: 5]\n",
            "  Parquet SCAN [https://zenodo.org/api/records/13259495/files/crispr_cosinesim_full.parquet/content]\n",
            "  PROJECT */7977 COLUMNS"
          ]
        }
      ],
      "source": [
        "distances = pl.scan_parquet(\n",
        "    \"https://zenodo.org/api/records/13259495/files/crispr_cosinesim_full.parquet/content\"\n",
        ")\n",
        "print(distances.head())"
      ],
      "id": "444d51a8"
    },
    {
      "cell_type": "markdown",
      "metadata": {},
      "source": [
        "Note that the only metadata information in this matrix are the column\n",
        "names as JUMP IDs (JCP2022_X), meaning that we will need to use a mapper\n",
        "from these JUMP ids to conventional names; feel free to look at the\n",
        "previous how-to that demonstrates that. We will now select three\n",
        "features at random and look at their correlation matrix"
      ],
      "id": "fdb84c4a-fd55-41eb-9035-80edeb12a1bb"
    },
    {
      "cell_type": "code",
      "execution_count": 3,
      "metadata": {},
      "outputs": [],
      "source": [
        "seed(42)\n",
        "cols = distances.collect_schema().names()\n",
        "ncols = len(cols)\n",
        "sampled_col_idx = sorted(choices(range(ncols), k=3))\n",
        "sampled_cols = [cols[ix] for ix in sampled_col_idx]\n",
        "\n",
        "sampled_distances = (\n",
        "    distances.with_row_index()\n",
        "    .filter(pl.col(\"index\").is_in(sampled_col_idx))\n",
        "    .select(pl.col(sampled_cols))\n",
        "    .collect()\n",
        ")"
      ],
      "id": "aa04e3f2"
    },
    {
      "cell_type": "markdown",
      "metadata": {},
      "source": [
        "Finally, we plot them in a heatmap for easier visualisation"
      ],
      "id": "740f088d-e78a-47e7-9803-e36139587db1"
    },
    {
      "cell_type": "code",
      "execution_count": 4,
      "metadata": {},
      "outputs": [],
      "source": [
        "pandas_correlation = sampled_distances.to_pandas()\n",
        "pandas_correlation.index = pandas_correlation.columns\n",
        "sns.heatmap(\n",
        "    pandas_correlation,\n",
        "    annot=True,\n",
        "    fmt=\".3f\",\n",
        "    vmin=0,\n",
        "    vmax=2,\n",
        "    cmap=sns.color_palette(\"vlag\", as_cmap=True),\n",
        ")\n",
        "plt.yticks(rotation=30)\n",
        "plt.tight_layout()\n",
        "plt.savefig(\"tmp2.png\")\n",
        "plt.close()"
      ],
      "id": "c8d05b43"
    },
    {
      "cell_type": "markdown",
      "metadata": {},
      "source": [
        "Whilst in this case it is not a terribly interesting result, this shows\n",
        "that we see no correlation between three randomly selected perturbation."
      ],
      "id": "dc3bd472-d4f1-42ae-ab3c-a0c45fd3f912"
    }
  ],
  "nbformat": 4,
  "nbformat_minor": 5,
  "metadata": {
    "jupytext": {
      "executable": "/usr/bin/env jupyter",
      "text_representation": {
        "extension": ".qmd",
        "format_name": "quarto",
        "format_version": "1.0",
        "jupytext_version": "1.16.4"
      }
    },
    "kernelspec": {
      "name": "python3",
      "display_name": "Python 3",
      "language": "python"
    },
    "language_info": {
      "name": "python",
      "codemirror_mode": {
        "name": "ipython",
        "version": "3"
      },
      "file_extension": ".py",
      "mimetype": "text/x-python",
      "nbconvert_exporter": "python",
      "pygments_lexer": "ipython3",
      "version": "3.11.9"
    }
  }
}