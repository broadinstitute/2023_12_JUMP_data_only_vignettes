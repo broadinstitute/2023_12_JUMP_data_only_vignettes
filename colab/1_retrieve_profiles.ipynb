{
 "cells": [
  {
   "cell_type": "markdown",
   "id": "7156d36a-7d19-420c-9d4e-5f6534320c5e",
   "metadata": {},
   "source": [
    "# Retrieve JUMP profiles\n",
    "\n",
    "This is a tutorial on how to access profiles from the [JUMP Cell\n",
    "Painting datasets](https://github.com/jump-cellpainting/datasets). We\n",
    "will use polars to fetch the data frames lazily, with the help of `s3fs`\n",
    "and `pyarrow`. We prefer lazy loading because the data can be too big to\n",
    "be handled in memory."
   ]
  },
  {
   "cell_type": "code",
   "execution_count": 0,
   "id": "e5c0234356f5-e4d9-c024-91d7-a63d6517",
   "metadata": {},
   "outputs": [],
   "source": [
    "!pip install jump_deps"
   ]
  },
  {
   "cell_type": "code",
   "execution_count": 1,
   "id": "a85bef94",
   "metadata": {
    "title": "Imports"
   },
   "outputs": [],
   "source": [
    "import polars as pl"
   ]
  },
  {
   "cell_type": "markdown",
   "id": "5e5896b1-ab3c-46b4-b3d1-2dcff2465b3d",
   "metadata": {},
   "source": [
    "The shapes of the available datasets are:\n",
    "\n",
    "1.  `cpg0016-jump[crispr]`: CRISPR knockouts genetic perturbations.\n",
    "2.  `cpg0016-jump[orf]`: Overexpression genetic perturbations.\n",
    "3.  `cpg0016-jump[compound]`: Chemical perturbations.\n",
    "\n",
    "Their explicit location is determined by the transformations that\n",
    "produce the datasets. The aws paths of the dataframes are built from a\n",
    "prefix below:"
   ]
  },
  {
   "cell_type": "code",
   "execution_count": 2,
   "id": "13c5ed6e",
   "metadata": {
    "title": "Paths"
   },
   "outputs": [],
   "source": [
    "INDEX_FILE = \"https://raw.githubusercontent.com/jump-cellpainting/datasets/50cd2ab93749ccbdb0919d3adf9277c14b6343dd/manifests/profile_index.csv\""
   ]
  },
  {
   "cell_type": "markdown",
   "id": "d8b80e6e-adee-45e5-aa40-f0065f4738e6",
   "metadata": {},
   "source": [
    "We use a version-controlled csv to release the latest corrected profiles"
   ]
  },
  {
   "cell_type": "code",
   "execution_count": 3,
   "id": "21849f3b",
   "metadata": {},
   "outputs": [
    {
     "data": {
      "text/html": [
       "</div>"
      ]
     },
     "metadata": {},
     "output_type": "display_data"
    }
   ],
   "source": [
    "profile_index = pl.read_csv(INDEX_FILE)\n",
    "profile_index.head()"
   ]
  },
  {
   "cell_type": "markdown",
   "id": "5021d029-bc9b-448c-a302-a2a1b5f2e1c8",
   "metadata": {},
   "source": [
    "We do not need the ‘etag’ (used to check file integrity) column nor the\n",
    "‘interpretable’ (i.e., before major modifications)"
   ]
  },
  {
   "cell_type": "code",
   "execution_count": 4,
   "id": "a61c4c2a",
   "metadata": {},
   "outputs": [
    {
     "name": "stdout",
     "output_type": "stream",
     "text": [
      "{'orf': 'https://cellpainting-gallery.s3.amazonaws.com/cpg0016-jump-assembled/source_all/workspace/profiles/jump-profiling-recipe_2024_a917fa7/ORF/profiles_wellpos_cc_var_mad_outlier_featselect_sphering_harmony/profiles_wellpos_cc_var_mad_outlier_featselect_sphering_harmony.parquet', 'crispr': 'https://cellpainting-gallery.s3.amazonaws.com/cpg0016-jump-assembled/source_all/workspace/profiles/jump-profiling-recipe_2024_a917fa7/CRISPR/profiles_wellpos_cc_var_mad_outlier_featselect_sphering_harmony_PCA_corrected/profiles_wellpos_cc_var_mad_outlier_featselect_sphering_harmony_PCA_corrected.parquet', 'compound': 'https://cellpainting-gallery.s3.amazonaws.com/cpg0016-jump-assembled/source_all/workspace/profiles/jump-profiling-recipe_2024_a917fa7/COMPOUND/profiles_var_mad_int_featselect_harmony/profiles_var_mad_int_featselect_harmony.parquet'}"
     ]
    }
   ],
   "source": [
    "selected_profiles = profile_index.filter(\n",
    "    pl.col(\"subset\").is_in((\"crispr\", \"orf\", \"compound\"))\n",
    ").select(pl.exclude(\"etag\"))\n",
    "filepaths = dict(selected_profiles.iter_rows())\n",
    "print(filepaths)"
   ]
  },
  {
   "cell_type": "markdown",
   "id": "8b9b76a7-520c-49fe-99be-606c9115bfb6",
   "metadata": {},
   "source": [
    "We will lazy-load the dataframes and print the number of rows and\n",
    "columns"
   ]
  },
  {
   "cell_type": "code",
   "execution_count": 5,
   "id": "05a0cb85",
   "metadata": {},
   "outputs": [
    {
     "data": {
      "text/html": [
       "</div>"
      ]
     },
     "metadata": {},
     "output_type": "display_data"
    }
   ],
   "source": [
    "info = {k: [] for k in (\"dataset\", \"#rows\", \"#cols\", \"#Metadata cols\", \"Size (MB)\")}\n",
    "for name, path in filepaths.items():\n",
    "    data = pl.scan_parquet(path)\n",
    "    n_rows = data.select(pl.len()).collect().item()\n",
    "    schema = data.collect_schema()\n",
    "    metadata_cols = [col for col in schema.keys() if col.startswith(\"Metadata\")]\n",
    "    n_cols = schema.len()\n",
    "    n_meta_cols = len(metadata_cols)\n",
    "    estimated_size = int(round(4.03 * n_rows * n_cols / 1e6, 0))  # B -> MB\n",
    "    for k, v in zip(info.keys(), (name, n_rows, n_cols, n_meta_cols, estimated_size)):\n",
    "        info[k].append(v)\n",
    "\n",
    "pl.DataFrame(info)"
   ]
  },
  {
   "cell_type": "markdown",
   "id": "698b9423-9028-4f41-9f89-3e0e204dbbbf",
   "metadata": {},
   "source": [
    "Let us now focus on the `crispr` dataset and use a regex to select the\n",
    "metadata columns. We will then sample rows and display the overview.\n",
    "Note that the collect() method enforces loading some data into memory."
   ]
  },
  {
   "cell_type": "code",
   "execution_count": 6,
   "id": "e1417bdc",
   "metadata": {},
   "outputs": [
    {
     "data": {
      "text/html": [
       "</div>"
      ]
     },
     "metadata": {},
     "output_type": "display_data"
    }
   ],
   "source": [
    "data = pl.scan_parquet(filepaths[\"crispr\"])\n",
    "data.select(pl.col(\"^Metadata.*$\").sample(n=5, seed=1)).collect()"
   ]
  },
  {
   "cell_type": "markdown",
   "id": "0cefb772-b42b-4aaa-92ae-ac9fa793736a",
   "metadata": {},
   "source": [
    "The following line excludes the metadata columns:"
   ]
  },
  {
   "cell_type": "code",
   "execution_count": 7,
   "id": "f915a327",
   "metadata": {},
   "outputs": [
    {
     "data": {
      "text/html": [
       "</div>"
      ]
     },
     "metadata": {},
     "output_type": "display_data"
    }
   ],
   "source": [
    "data_only = data.select(pl.all().exclude(\"^Metadata.*$\").sample(n=5, seed=1)).collect()\n",
    "data_only"
   ]
  },
  {
   "cell_type": "markdown",
   "id": "5c8b7a4b-1864-4d42-9827-7146be486654",
   "metadata": {},
   "source": [
    "Finally, we can convert this to `pandas` if we want to perform analyses\n",
    "with that tool. Keep in mind that this loads the entire dataframe into\n",
    "memory."
   ]
  },
  {
   "cell_type": "code",
   "execution_count": 8,
   "id": "8cd74661",
   "metadata": {},
   "outputs": [
    {
     "data": {
      "text/html": [
       "\n",
       "<p>5 rows × 259 columns</p>\n",
       "</div>"
      ]
     },
     "metadata": {},
     "output_type": "display_data"
    }
   ],
   "source": [
    "data_only.to_pandas()"
   ]
  }
 ],
 "metadata": {
  "jupytext": {
   "executable": "/usr/bin/env jupyter",
   "text_representation": {
    "extension": ".qmd",
    "format_name": "quarto",
    "format_version": "1.0",
    "jupytext_version": "1.16.4"
   }
  },
  "kernelspec": {
   "display_name": "Python 3",
   "language": "python",
   "name": "python3"
  },
  "language_info": {
   "codemirror_mode": {
    "name": "ipython",
    "version": "3"
   },
   "file_extension": ".py",
   "mimetype": "text/x-python",
   "name": "python",
   "nbconvert_exporter": "python",
   "pygments_lexer": "ipython3",
   "version": "3.11.9"
  }
 },
 "nbformat": 4,
 "nbformat_minor": 5
}
