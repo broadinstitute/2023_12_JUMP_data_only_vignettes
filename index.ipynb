{
  "cells": [
    {
      "cell_type": "markdown",
      "metadata": {},
      "source": [
        "# \n",
        "\n",
        "# Getting Started with JUMP\n",
        "\n",
        "What is the purpose of this website? To provide up-to-date info on\n",
        "everything JUMP-related. We aim to minimize friction for developers,\n",
        "technical writers and biologists to produce and access novel insights\n",
        "and tools. We aim to make this the one-stop shop for the vast majority\n",
        "of JUMP questions, be it computational or biological.\n",
        "\n",
        "## Choose Your Own Path\n",
        "\n",
        "[Here](https://github.com/broadinstitute/monorepo/blob/main/libs/jump_rr/README.md#Quick%20data%20access)\n",
        "you can find the up-to-date web tools to explore JUMP from your browser.\n",
        "These are very useful for querying perturbations without needing\n",
        "experience in data analysis or programming. They are also very\n",
        "convenient for a one-off query of the dataset.\n",
        "\n",
        "### How can I access the How-To guides in a live coding environment?\n",
        "\n",
        "This table provides direct link to run the guides on your browser.\n",
        "Google Colab is the only supported live-coding web interface.\n",
        "\n",
        "| Google Collab                                                                                                                                                                |\n",
        "|------------------------------------------------------------------------|\n",
        "| [Retrieve JUMP profiles](https://colab.research.google.com/github/broadinstitute/2023_12_JUMP_data_only_vignettes/blob/colab/colab/1_retrieve_profiles.ipynb)                |\n",
        "| [Add metadata to profiles](https://colab.research.google.com/github/broadinstitute/2023_12_JUMP_data_only_vignettes/blob/colab/colab/2_add_metadata.ipynb)                   |\n",
        "| [Calculate phenotypic activity](https://colab.research.google.com/github/broadinstitute/2023_12_JUMP_data_only_vignettes/blob/colab/colab/3_calculate_activity.ipynb)        |\n",
        "| [Display perturbation images](https://colab.research.google.com/github/broadinstitute/2023_12_JUMP_data_only_vignettes/blob/colab/colab/4_display_perturbation_images.ipynb) |\n",
        "| [Explore perturbation clusters](https://colab.research.google.com/github/broadinstitute/2023_12_JUMP_data_only_vignettes/blob/colab/colab/5_explore_distance_clusters.ipynb) |\n",
        "| [Query genes for more info](https://colab.research.google.com/github/broadinstitute/2023_12_JUMP_data_only_vignettes/blob/colab/colab/6_query_genes_externally.ipynb)        |\n",
        "\n",
        "Alternatively, you can download the notebooks from their respective\n",
        "pages and run them in your local Python environment. We have published a\n",
        "package containing all dependencies, you need only install in your\n",
        "environment using `pip install jump_deps` (Python 3.10 or 3.11)."
      ],
      "id": "45d1a18e-8c97-43be-92d4-e0880e229912"
    }
  ],
  "nbformat": 4,
  "nbformat_minor": 5,
  "metadata": {
    "kernelspec": {
      "display_name": "Python 3",
      "language": "python",
      "name": "python3"
    }
  }
}