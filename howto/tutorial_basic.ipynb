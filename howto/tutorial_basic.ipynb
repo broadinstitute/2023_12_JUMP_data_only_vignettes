{
  "cells": [
    {
      "cell_type": "markdown",
      "metadata": {},
      "source": [
        "# Basic JUMP data access\n",
        "\n",
        "This is a tutorial on how to access profiles from the [JUMP Cell\n",
        "Painting datasets](https://github.com/jump-cellpainting/datasets). We\n",
        "will use polars to fetch the data frames lazily, with the help of `s3fs`\n",
        "and `pyarrow`. We prefer lazy loading because the data can be too big to\n",
        "be handled in memory."
      ],
      "id": "3b55dfa9-d142-427a-8eaa-9d6d2b043f3e"
    },
    {
      "cell_type": "code",
      "execution_count": 1,
      "metadata": {
        "title": "Imports"
      },
      "outputs": [],
      "source": [
        "import polars as pl\n",
        "from pyarrow.dataset import dataset\n",
        "from s3fs import S3FileSystem"
      ],
      "id": "61cca5ee"
    },
    {
      "cell_type": "markdown",
      "metadata": {},
      "source": [
        "The shapes of the available datasets are:\n",
        "\n",
        "1.  `cpg0016-jump[crispr]`: CRISPR knockouts genetic perturbations.\n",
        "2.  `cpg0016-jump[orf]`: Overexpression genetic perturbations.\n",
        "3.  `cpg0016-jump[compound]`: Chemical perturbations.\n",
        "\n",
        "Their explicit location is determined by the transformations that\n",
        "produce the datasets. The aws paths of the dataframes are built from a\n",
        "prefix below:"
      ],
      "id": "33802498-27a3-4ca4-853a-49324b7458c9"
    },
    {
      "cell_type": "code",
      "execution_count": 2,
      "metadata": {
        "title": "Paths"
      },
      "outputs": [],
      "source": [
        "_PREFIX = (\n",
        "    \"s3://cellpainting-gallery/cpg0016-jump-assembled/source_all/workspace/profiles\"\n",
        ")\n",
        "_RECIPE = \"jump-profiling-recipe_2024_a917fa7\"\n",
        "\n",
        "transforms = (\n",
        "    (\n",
        "        \"CRISPR\",\n",
        "        \"profiles_wellpos_cc_var_mad_outlier_featselect_sphering_harmony_PCA_corrected\",\n",
        "    ),\n",
        "    (\"ORF\", \"profiles_wellpos_cc_var_mad_outlier_featselect_sphering_harmony\"),\n",
        "    (\"COMPOUND\", \"profiles_var_mad_int_featselect_harmony\"),\n",
        ")\n",
        "\n",
        "filepaths = {\n",
        "    dset: f\"{_PREFIX}/{_RECIPE}/{dset}/{transform}/profiles.parquet\"\n",
        "    for dset, transform in transforms\n",
        "}"
      ],
      "id": "704b4c45"
    },
    {
      "cell_type": "markdown",
      "metadata": {},
      "source": [
        "We use a S3FileSystem to avoid the need of credentials."
      ],
      "id": "39cefbf2-f335-4b46-981d-844759d0c1b4"
    },
    {
      "cell_type": "code",
      "execution_count": 3,
      "metadata": {},
      "outputs": [],
      "source": [
        "def lazy_load(path: str) -> pl.LazyFrame:\n",
        "    fs = S3FileSystem(anon=True)\n",
        "    myds = dataset(path, filesystem=fs)\n",
        "    df = pl.scan_pyarrow_dataset(myds)\n",
        "    return df"
      ],
      "id": "9d7b33b0"
    },
    {
      "cell_type": "markdown",
      "metadata": {},
      "source": [
        "We will lazy-load the dataframes and print the number of rows and\n",
        "columns"
      ],
      "id": "16582e93-be9c-42f2-9679-9597e2f1b24d"
    },
    {
      "cell_type": "code",
      "execution_count": 4,
      "metadata": {},
      "outputs": [
        {
          "output_type": "display_data",
          "metadata": {},
          "data": {
            "text/html": [
              "</div>"
            ]
          }
        }
      ],
      "source": [
        "info = {k: [] for k in (\"dataset\", \"#rows\", \"#cols\", \"#Metadata cols\", \"Size (MB)\")}\n",
        "for name, path in filepaths.items():\n",
        "    data = lazy_load(path)\n",
        "    n_rows = data.select(pl.count()).collect().item()\n",
        "    metadata_cols = data.select(pl.col(\"^Metadata.*$\")).columns\n",
        "    n_cols = data.width\n",
        "    n_meta_cols = len(metadata_cols)\n",
        "    estimated_size = int(round(4.03 * n_rows * n_cols / 1e6, 0))  # B -> MB\n",
        "    for k, v in zip(info.keys(), (name, n_rows, n_cols, n_meta_cols, estimated_size)):\n",
        "        info[k].append(v)\n",
        "\n",
        "pl.DataFrame(info)"
      ],
      "id": "309ec71e"
    },
    {
      "cell_type": "markdown",
      "metadata": {},
      "source": [
        "Let us now focus on the `crispr` dataset and use a regex to select the\n",
        "metadata columns. We will then sample rows and display the overview.\n",
        "Note that the collect() method enforces loading some data into memory."
      ],
      "id": "4fdc21f6-be40-410d-a6d6-cc0815455d4d"
    },
    {
      "cell_type": "code",
      "execution_count": 5,
      "metadata": {},
      "outputs": [
        {
          "output_type": "display_data",
          "metadata": {},
          "data": {
            "text/html": [
              "</div>"
            ]
          }
        }
      ],
      "source": [
        "data = lazy_load(filepaths[\"CRISPR\"])\n",
        "data.select(pl.col(\"^Metadata.*$\").sample(n=5, seed=1)).collect()"
      ],
      "id": "94eb66bf"
    },
    {
      "cell_type": "markdown",
      "metadata": {},
      "source": [
        "The following line excludes the metadata columns:"
      ],
      "id": "aa75134a-6149-42fa-9f1c-c1edb76f4ae9"
    },
    {
      "cell_type": "code",
      "execution_count": 6,
      "metadata": {},
      "outputs": [
        {
          "output_type": "display_data",
          "metadata": {},
          "data": {
            "text/html": [
              "</div>"
            ]
          }
        }
      ],
      "source": [
        "data_only = data.select(pl.all().exclude(\"^Metadata.*$\").sample(n=5, seed=1)).collect()\n",
        "data_only"
      ],
      "id": "5fda205d"
    },
    {
      "cell_type": "markdown",
      "metadata": {},
      "source": [
        "Finally, we can convert this to `pandas` if we want to perform analyses\n",
        "with that tool. Keep in mind that this loads the entire dataframe into\n",
        "memory."
      ],
      "id": "de6611ed-c519-4997-82af-f5c68cb17ca8"
    },
    {
      "cell_type": "code",
      "execution_count": 7,
      "metadata": {},
      "outputs": [
        {
          "output_type": "display_data",
          "metadata": {},
          "data": {
            "text/html": [
              "\n",
              "<p>5 rows × 3673 columns</p>\n",
              "</div>"
            ]
          }
        }
      ],
      "source": [
        "data_only.to_pandas()"
      ],
      "id": "f4926d35"
    }
  ],
  "nbformat": 4,
  "nbformat_minor": 5,
  "metadata": {
    "jupytext": {
      "executable": "/usr/bin/env jupyter",
      "text_representation": {
        "extension": ".qmd",
        "format_name": "quarto",
        "format_version": "1.0",
        "jupytext_version": "1.16.1"
      }
    },
    "kernelspec": {
      "name": "python3",
      "display_name": "Python 3",
      "language": "python"
    },
    "language_info": {
      "name": "python",
      "codemirror_mode": {
        "name": "ipython",
        "version": "3"
      },
      "file_extension": ".py",
      "mimetype": "text/x-python",
      "nbconvert_exporter": "python",
      "pygments_lexer": "ipython3",
      "version": "3.11.9"
    }
  }
}