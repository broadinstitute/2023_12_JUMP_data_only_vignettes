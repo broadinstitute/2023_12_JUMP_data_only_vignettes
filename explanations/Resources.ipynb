{
  "cells": [
    {
      "cell_type": "markdown",
      "metadata": {},
      "source": [
        "# \n",
        "\n",
        "-   [Available resources](#Available-resources)\n",
        "    -   [More information](#More-information)\n",
        "    -   [Data](#Data)\n",
        "    -   [Tools](#Tools)\n",
        "\n",
        "<a id=\"Available-resources\"></a>\n",
        "\n",
        "# Available resources\n",
        "\n",
        "<a id=\"More-information\"></a>\n",
        "\n",
        "## More information\n",
        "\n",
        "-   Home [website](https://jump-cellpainting.broadinstitute.org/):\n",
        "    Access news and related publications.\n",
        "\n",
        "<a id=\"Data\"></a>\n",
        "\n",
        "## Data\n",
        "\n",
        "-   We provide Open Source Web “JUMPer” interfaces for all three\n",
        "    datasets (CRISPR, ORF and Compound). For more details follow\n",
        "    [this](https://github.com/broadinstitute/monorepo/tree/main/libs/jump_rr)\n",
        "    link.\n",
        "-   You can find the metadata of JUMP\n",
        "    [here](https://github.com/jump-cellpainting/datasets/tree/main/metadata),\n",
        "    alongside the schema of all columns and including Target-2.\n",
        "\n",
        "<a id=\"Tools\"></a>\n",
        "\n",
        "## Tools\n",
        "\n",
        "-   Ardigen provides a\n",
        "    [website](https://phenaid.ardigen.com/jumpcpexplorer/) to explore a\n",
        "    representation (requires creating a free account).\n",
        "-   Spring Science also provides a\n",
        "    [website](https://www.springscience.com/jump-cp) for data\n",
        "    exploration (account needed)."
      ],
      "id": "2494ec87-6243-497e-b492-ed95b06404f7"
    }
  ],
  "nbformat": 4,
  "nbformat_minor": 5,
  "metadata": {
    "kernelspec": {
      "display_name": "Python 3",
      "language": "python",
      "name": "python3"
    }
  }
}