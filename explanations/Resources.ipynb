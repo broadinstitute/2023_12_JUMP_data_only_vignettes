{
  "cells": [
    {
      "cell_type": "markdown",
      "metadata": {},
      "source": [
        "# \n",
        "\n",
        "-   [Available resources](#Available%20resources)\n",
        "\n",
        "<a id=\"Available%20resources\"></a>\n",
        "\n",
        "# Available resources\n",
        "\n",
        "-   Home [website](https://jump-cellpainting.broadinstitute.org/):\n",
        "    Access news and related publications.\n",
        "\n",
        "-   We provide Open Source Web “JUMPer” interfaces for all three\n",
        "    datasets (CRISPR, ORF and Compound). For more details follow\n",
        "    [this](https://github.com/broadinstitute/monorepo/tree/main/libs/jump_rr)\n",
        "    link.\n",
        "\n",
        "-   Ardigen provides a\n",
        "    [website](https://phenaid.ardigen.com/jumpcpexplorer/) to explore a\n",
        "    representation (requires creating a free account).\n",
        "\n",
        "-   Spring Science also provides a\n",
        "    [website](https://www.springscience.com/jump-cp) for data\n",
        "    exploration (account needed)."
      ],
      "id": "af448390-bfe8-4351-97fa-4bef5fceacb8"
    }
  ],
  "nbformat": 4,
  "nbformat_minor": 5,
  "metadata": {
    "kernelspec": {
      "display_name": "Python 3",
      "language": "python",
      "name": "python3"
    }
  }
}