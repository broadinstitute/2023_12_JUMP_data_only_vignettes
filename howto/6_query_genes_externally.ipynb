{
  "cells": [
    {
      "cell_type": "markdown",
      "metadata": {},
      "source": [
        "# Query information of genes\n",
        "\n",
        "## Overview\n",
        "\n",
        "This how-to focuses on linking gene names from the NCBI databases.\n",
        "Whilst not JUMP-specific, it is useful to fetch more information on\n",
        "perturbations that our analysis deem important without having to\n",
        "manually search them. We will use [Biopython](https://biopython.org/),\n",
        "this only explores a subset of the options, the full Entrez\n",
        "[documentation](https://www.ncbi.nlm.nih.gov/books/NBK25501/), which\n",
        "contains all the options, is a useful reference to bookmark. \\##\n",
        "Procedure"
      ],
      "id": "7d7dfee6-b39c-45f7-afaf-a01c9f56d461"
    },
    {
      "cell_type": "code",
      "execution_count": 1,
      "metadata": {
        "title": "Imports"
      },
      "outputs": [],
      "source": [
        "import polars as pl\n",
        "from Bio import Entrez\n",
        "from broad_babel.query import get_mapper"
      ],
      "id": "cbf07f22"
    },
    {
      "cell_type": "markdown",
      "metadata": {},
      "source": [
        "We define the fields that we need and an email to provide to the server\n",
        "we will query."
      ],
      "id": "235791aa-73fb-4cbd-bd6a-1f82339f874f"
    },
    {
      "cell_type": "code",
      "execution_count": 2,
      "metadata": {},
      "outputs": [],
      "source": [
        "Entrez.email = \"example@email.com\"\n",
        "fields = (\n",
        "    \"Name\",\n",
        "    \"Description\",\n",
        "    \"Summary\",\n",
        "    \"OtherDesignations\",  # This gives us synonyms\n",
        ")"
      ],
      "id": "4ba8af2e"
    },
    {
      "cell_type": "markdown",
      "metadata": {},
      "source": [
        "As an example, we will use a set of genes that we found in a JUMP\n",
        "cluster."
      ],
      "id": "92e0794a-e9fa-4cb8-8c71-fce3caabdffc"
    },
    {
      "cell_type": "code",
      "execution_count": 3,
      "metadata": {},
      "outputs": [],
      "source": [
        "genes = (\"CHRM4\", \"SCAPER\", \"GPR176\", \"LY6K\")"
      ],
      "id": "907e9a42"
    },
    {
      "cell_type": "markdown",
      "metadata": {},
      "source": [
        "Get a dictionary that maps Gene symbols to Entrez IDs"
      ],
      "id": "1a5adef1-1767-4a19-b4d4-e17c630b9d54"
    },
    {
      "cell_type": "code",
      "execution_count": 4,
      "metadata": {},
      "outputs": [],
      "source": [
        "ids = get_mapper(\n",
        "    query=genes,\n",
        "    input_column=\"standard_key\",\n",
        "    output_columns=\"standard_key,NCBI_Gene_ID\",\n",
        ")\n",
        "\n",
        "# Fetch the summaries for these genes\n",
        "entries = []\n",
        "for id_ in ids.values():\n",
        "    stream = Entrez.esummary(db=\"gene\", id=id_)\n",
        "    record = Entrez.read(stream)\n",
        "\n",
        "    entries.append(\n",
        "        {k: record[\"DocumentSummarySet\"][\"DocumentSummary\"][0][k] for k in fields}\n",
        "    )"
      ],
      "id": "e6daf2df"
    },
    {
      "cell_type": "code",
      "execution_count": 5,
      "metadata": {},
      "outputs": [],
      "source": [
        "# Show the resultant information in a human-readable format"
      ],
      "id": "2cc3d4ca"
    },
    {
      "cell_type": "code",
      "execution_count": 6,
      "metadata": {},
      "outputs": [
        {
          "output_type": "stream",
          "name": "stdout",
          "text": [
            "shape: (4, 4)\n",
            "┌────────┬─────────────────────────────┬─────────────────────────────┬─────────────────────────────┐\n",
            "│ Name   ┆ Description                 ┆ Summary                     ┆ OtherDesignations           │\n",
            "│ ---    ┆ ---                         ┆ ---                         ┆ ---                         │\n",
            "│ str    ┆ str                         ┆ str                         ┆ str                         │\n",
            "╞════════╪═════════════════════════════╪═════════════════════════════╪═════════════════════════════╡\n",
            "│ GPR176 ┆ G protein-coupled receptor  ┆ Members of the G            ┆ G-protein coupled receptor  │\n",
            "│        ┆ 176                         ┆ protein-coupled receptor    ┆ 176|probable G-protein      │\n",
            "│        ┆                             ┆ family, such as GPR176, are ┆ coupled receptor 176        │\n",
            "│        ┆                             ┆ cell surface receptors      ┆                             │\n",
            "│        ┆                             ┆ involved in responses to    ┆                             │\n",
            "│        ┆                             ┆ hormones, growth factors,   ┆                             │\n",
            "│        ┆                             ┆ and neurotransmitters (Hata ┆                             │\n",
            "│        ┆                             ┆ et al., 1995 [PubMed        ┆                             │\n",
            "│        ┆                             ┆ 7893747]).[supplied by      ┆                             │\n",
            "│        ┆                             ┆ OMIM, Jul 2008]             ┆                             │\n",
            "│ CHRM4  ┆ cholinergic receptor        ┆ The muscarinic cholinergic  ┆ muscarinic acetylcholine    │\n",
            "│        ┆ muscarinic 4                ┆ receptors belong to a       ┆ receptor M4|acetylcholine   │\n",
            "│        ┆                             ┆ larger family of G          ┆ receptor, muscarinic 4      │\n",
            "│        ┆                             ┆ protein-coupled receptors.  ┆                             │\n",
            "│        ┆                             ┆ The functional diversity of ┆                             │\n",
            "│        ┆                             ┆ these receptors is defined  ┆                             │\n",
            "│        ┆                             ┆ by the binding of           ┆                             │\n",
            "│        ┆                             ┆ acetylcholine and includes  ┆                             │\n",
            "│        ┆                             ┆ cellular responses such as  ┆                             │\n",
            "│        ┆                             ┆ adenylate cyclase           ┆                             │\n",
            "│        ┆                             ┆ inhibition,                 ┆                             │\n",
            "│        ┆                             ┆ phosphoinositide            ┆                             │\n",
            "│        ┆                             ┆ degeneration, and potassium ┆                             │\n",
            "│        ┆                             ┆ channel mediation.          ┆                             │\n",
            "│        ┆                             ┆ Muscarinic receptors        ┆                             │\n",
            "│        ┆                             ┆ influence many effects of   ┆                             │\n",
            "│        ┆                             ┆ acetylcholine in the        ┆                             │\n",
            "│        ┆                             ┆ central and peripheral      ┆                             │\n",
            "│        ┆                             ┆ nervous system. The         ┆                             │\n",
            "│        ┆                             ┆ clinical implications of    ┆                             │\n",
            "│        ┆                             ┆ this receptor are unknown;  ┆                             │\n",
            "│        ┆                             ┆ however, mouse studies link ┆                             │\n",
            "│        ┆                             ┆ its function to adenylyl    ┆                             │\n",
            "│        ┆                             ┆ cyclase inhibition.         ┆                             │\n",
            "│        ┆                             ┆ [provided by RefSeq, Jul    ┆                             │\n",
            "│        ┆                             ┆ 2008]                       ┆                             │\n",
            "│ LY6K   ┆ lymphocyte antigen 6 family ┆ Predicted to be involved in ┆ lymphocyte antigen          │\n",
            "│        ┆ member K                    ┆ binding activity of sperm   ┆ 6K|cancer/testis antigen    │\n",
            "│        ┆                             ┆ to zona pellucida.          ┆ 97|lymphocyte antigen 6     │\n",
            "│        ┆                             ┆ Predicted to act upstream   ┆ complex, locus              │\n",
            "│        ┆                             ┆ of or within flagellated    ┆ K|up-regulated in lung      │\n",
            "│        ┆                             ┆ sperm motility. Predicted   ┆ cancer 10                   │\n",
            "│        ┆                             ┆ to be located in cell       ┆                             │\n",
            "│        ┆                             ┆ surface and plasma          ┆                             │\n",
            "│        ┆                             ┆ membrane. Predicted to be   ┆                             │\n",
            "│        ┆                             ┆ active in acrosomal         ┆                             │\n",
            "│        ┆                             ┆ vesicle. [provided by       ┆                             │\n",
            "│        ┆                             ┆ Alliance of Genome          ┆                             │\n",
            "│        ┆                             ┆ Resources, Nov 2024]        ┆                             │\n",
            "│ SCAPER ┆ S-phase cyclin A associated ┆ Predicted to enable nucleic ┆ S phase cyclin A-associated │\n",
            "│        ┆ protein in the ER           ┆ acid binding activity and   ┆ protein in the endoplasmic  │\n",
            "│        ┆                             ┆ zinc ion binding activity.  ┆ reticulum|zinc finger       │\n",
            "│        ┆                             ┆ Acts upstream of or within  ┆ protein 291                 │\n",
            "│        ┆                             ┆ retina development in       ┆                             │\n",
            "│        ┆                             ┆ camera-type eye. Located in ┆                             │\n",
            "│        ┆                             ┆ cytosol and nuclear speck.  ┆                             │\n",
            "│        ┆                             ┆ [provided by Alliance of    ┆                             │\n",
            "│        ┆                             ┆ Genome Resources, Nov 2024] ┆                             │\n",
            "└────────┴─────────────────────────────┴─────────────────────────────┴─────────────────────────────┘"
          ]
        }
      ],
      "source": [
        "with pl.Config(fmt_str_lengths=1000):\n",
        "    print(pl.DataFrame(entries))"
      ],
      "id": "39685179"
    }
  ],
  "nbformat": 4,
  "nbformat_minor": 5,
  "metadata": {
    "jupytext": {
      "executable": "/usr/bin/env jupyter",
      "text_representation": {
        "extension": ".qmd",
        "format_name": "quarto",
        "format_version": "1.0",
        "jupytext_version": "1.16.4"
      }
    },
    "kernelspec": {
      "name": "python3",
      "display_name": "Python 3",
      "language": "python"
    },
    "language_info": {
      "name": "python",
      "codemirror_mode": {
        "name": "ipython",
        "version": "3"
      },
      "file_extension": ".py",
      "mimetype": "text/x-python",
      "nbconvert_exporter": "python",
      "pygments_lexer": "ipython3",
      "version": "3.11.9"
    }
  }
}