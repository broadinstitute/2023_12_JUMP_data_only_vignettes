{
 "cells": [
  {
   "cell_type": "markdown",
   "id": "391c2962-e936-4c47-b034-f20f29724e5d",
   "metadata": {},
   "source": [
    "# \n",
    "\n",
    "# How-to Guides\n",
    "\n",
    "| You can use the sidebar on the left to find tutorials demoing the most common analyses, or click the links in the list below to run the guides directly on your browser in a Google Colab live coding environment. |\n",
    "|------------------------------------------------------------------------|\n",
    "| [Retrieve JUMP profiles](https://colab.research.google.com/github/broadinstitute/2023_12_JUMP_data_only_vignettes/blob/colab/colab/1_retrieve_profiles.ipynb)                                                      |\n",
    "| [Add metadata to profiles](https://colab.research.google.com/github/broadinstitute/2023_12_JUMP_data_only_vignettes/blob/colab/colab/2_add_metadata.ipynb)                                                         |\n",
    "| [Calculate phenotypic activity](https://colab.research.google.com/github/broadinstitute/2023_12_JUMP_data_only_vignettes/blob/colab/colab/3_calculate_activity.ipynb)                                              |\n",
    "| [Display perturbation images](https://colab.research.google.com/github/broadinstitute/2023_12_JUMP_data_only_vignettes/blob/colab/colab/4_display_perturbation_images.ipynb)                                       |\n",
    "| [Explore perturbation clusters](https://colab.research.google.com/github/broadinstitute/2023_12_JUMP_data_only_vignettes/blob/colab/colab/5_explore_distance_clusters.ipynb)                                       |\n",
    "| [Query genes for more info](https://colab.research.google.com/github/broadinstitute/2023_12_JUMP_data_only_vignettes/blob/colab/colab/6_query_genes_externally.ipynb)                                              |\n",
    "\n",
    "If you are running the analyses on your computer, we have published a\n",
    "package containing all dependencies, you need only install in your\n",
    "environment using `pip install jump_deps` (Python 3.10 or 3.11)."
   ]
  },
  {
   "cell_type": "code",
   "execution_count": 0,
   "id": "d5e42792f02f-430b-74c4-639e-2692c193",
   "metadata": {},
   "outputs": [],
   "source": [
    "!pip install jump_deps"
   ]
  }
 ],
 "metadata": {
  "kernelspec": {
   "display_name": "Python 3",
   "language": "python",
   "name": "python3"
  }
 },
 "nbformat": 4,
 "nbformat_minor": 5
}
