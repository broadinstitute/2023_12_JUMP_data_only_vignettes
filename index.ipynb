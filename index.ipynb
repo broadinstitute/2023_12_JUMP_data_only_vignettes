{
  "cells": [
    {
      "cell_type": "markdown",
      "metadata": {},
      "source": [
        "# \n",
        "\n",
        "# Overview\n",
        "\n",
        "This is work in progress. The purpose of this resource is to concentrate\n",
        "all the useful and up-to-date information necessary to make use of\n",
        "[JUMP](https://jump-cellpainting.broadinstitute.org/). It aims to\n",
        "summarise the most useful information, including examples, guides,\n",
        "know-hows and links to more material for deeper dives into data\n",
        "acquisition, processing, sharing and visualisation.\n",
        "\n",
        "# Why yet another resource?\n",
        "\n",
        "Its secondary (yet highly important purpose) is to minimise friction for\n",
        "developers, technical writers and biologists to produce and access novel\n",
        "insights and tools. We believe complexity is one of the biggest\n",
        "challenges in challenge, hampering collaboration and novel biological\n",
        "insights. We aim to make this the one-stop shop for the vast majority of\n",
        "JUMP questions, be it computational or biological."
      ],
      "id": "4a241242-49e5-4d87-bca5-c0f0939aba9d"
    }
  ],
  "nbformat": 4,
  "nbformat_minor": 5,
  "metadata": {
    "kernelspec": {
      "display_name": "Python 3",
      "language": "python",
      "name": "python3"
    }
  }
}