{
  "cells": [
    {
      "cell_type": "markdown",
      "metadata": {},
      "source": [
        "# Calculate phenotypic consistency\n",
        "\n",
        "A common first analysis for morphological datasets is the consistency of\n",
        "the cells’ phenotypes. We will use the\n",
        "[copairs](https://github.com/cytomining/copairs) package, which makes\n",
        "use of [mean average\n",
        "precision](https://www.ncbi.nlm.nih.gov/pmc/articles/PMC11014546/) to\n",
        "obtain a metric of replicability for any set of morphological profiles.\n",
        "In other words, it indicates how similar a given set of compounds are,\n",
        "relative to their negative controls, which is usually cells that have\n",
        "experienced no perturbation."
      ],
      "id": "0aa34769-9d90-4b4d-aa5d-a633bd2387ab"
    },
    {
      "cell_type": "code",
      "execution_count": 1,
      "metadata": {
        "title": "Imports"
      },
      "outputs": [],
      "source": [
        "import polars as pl\n",
        "import polars.selectors as cs\n",
        "import seaborn as sns\n",
        "from broad_babel.query import get_mapper\n",
        "from copairs.map import average_precision"
      ],
      "id": "c4464369"
    },
    {
      "cell_type": "markdown",
      "metadata": {},
      "source": [
        "We will be using the CRISPR dataset specificed in our index csv, but we\n",
        "will select a subset of perturbations and the controls present."
      ],
      "id": "4e00df6e-5537-493f-834c-afa9c136a39b"
    },
    {
      "cell_type": "code",
      "execution_count": 2,
      "metadata": {
        "title": "Fetch the CRISPR dataset"
      },
      "outputs": [],
      "source": [
        "INDEX_FILE = \"https://raw.githubusercontent.com/jump-cellpainting/datasets/50cd2ab93749ccbdb0919d3adf9277c14b6343dd/manifests/profile_index.csv\"\n",
        "CRISPR_URL = pl.read_csv(INDEX_FILE).filter(pl.col(\"subset\")==\"crispr\").item(0,\"url\")\n",
        "profiles = pl.scan_parquet(CRISPR_URL)"
      ],
      "id": "4d203605"
    },
    {
      "cell_type": "markdown",
      "metadata": {},
      "source": [
        "Sample perturbations and"
      ],
      "id": "3fbc37ec-a38b-4f36-83fb-ce9f0ad81f98"
    },
    {
      "cell_type": "code",
      "execution_count": 3,
      "metadata": {},
      "outputs": [
        {
          "output_type": "stream",
          "name": "stdout",
          "text": [
            "Shape: (472, 263)"
          ]
        }
      ],
      "source": [
        "jcp_ids = profiles.select(pl.col(\"Metadata_JCP2022\")).unique().collect().to_series().sort()\n",
        "subsample = jcp_ids.sample(10, seed=42)\n",
        "subsample = (*subsample, \"JCP2022_800002\") # Add the only control in CRISPR data\n",
        "profiles_subset = profiles.filter(pl.col(\"Metadata_JCP2022\").is_in(subsample)).collect()\n",
        "unique_plates = profiles_subset.filter(pl.col(\"Metadata_JCP2022\")!=subsample[-1])[\"Metadata_Plate\"].unique()\n",
        "perts_controls = profiles_subset.filter(pl.col(\"Metadata_Plate\").is_in(unique_plates))\n",
        "with pl.Config() as cfg:\n",
        "    cfg.set_tbl_cols(7) # Limit the number of columns printed\n",
        "    print(f\"Shape: {perts_controls.shape}\")\n",
        "    perts_controls.head()"
      ],
      "id": "df3b9d6b"
    },
    {
      "cell_type": "markdown",
      "metadata": {},
      "source": [
        "Now we create a mapper to label treatments and controls. See the\n",
        "previous tutorial for details on fetching metadata."
      ],
      "id": "1dce8b8c-bb68-4630-8c79-a8caada37e7f"
    },
    {
      "cell_type": "code",
      "execution_count": 4,
      "metadata": {},
      "outputs": [],
      "source": [
        "pert_mapper = get_mapper(subsample, input_column=\"JCP2022\", output_columns=\"JCP2022,pert_type\")\n",
        "perts_controls_annotated = perts_controls.with_columns(pl.col(\"Metadata_JCP2022\").replace(pert_mapper).alias(\"pert_type\"))"
      ],
      "id": "c0cbfcaf"
    },
    {
      "cell_type": "markdown",
      "metadata": {},
      "source": [
        "Finally we use the parameters from . See the [copairs\n",
        "wiki](https://github.com/cytomining/copairs/wiki/Defining-parameters)\n",
        "for more details on the parameters that copairs requires."
      ],
      "id": "1f2e811d-611f-49ff-95bd-a9e90e2cd6c9"
    },
    {
      "cell_type": "code",
      "execution_count": 5,
      "metadata": {},
      "outputs": [
        {
          "output_type": "display_data",
          "metadata": {},
          "data": {
            "application/vnd.jupyter.widget-view+json": {
              "model_id": "33d417775d684180a8b3f64982294831",
              "version_major": 2,
              "version_minor": 0
            }
          }
        },
        {
          "output_type": "display_data",
          "metadata": {},
          "data": {
            "application/vnd.jupyter.widget-view+json": {
              "model_id": "bf6864bde1e6447488fd141ce75d67b3",
              "version_major": 2,
              "version_minor": 0
            }
          }
        },
        {
          "output_type": "display_data",
          "metadata": {},
          "data": {
            "text/html": [
              "</div>"
            ]
          }
        }
      ],
      "source": [
        "pos_sameby = [\"Metadata_JCP2022\"] # We want to match perturbations\n",
        "pos_diffby = []\n",
        "neg_sameby = []\n",
        "neg_diffby = [\"pert_type\"]\n",
        "batch_size = 20000\n",
        "\n",
        "metadata_selector = cs.starts_with((\"Metadata\", \"pert_type\"))\n",
        "meta = perts_controls_annotated.select(metadata_selector)\n",
        "features = perts_controls_annotated.select(~metadata_selector)\n",
        "\n",
        "result = average_precision(meta.to_pandas(), features.to_numpy(), pos_sameby, pos_diffby, neg_sameby, neg_diffby, batch_size)\n",
        "result = pl.DataFrame(result) # We convert back to polars because we prefer how it prints dataframes\n",
        "result.head() "
      ],
      "id": "fb8765ce"
    },
    {
      "cell_type": "markdown",
      "metadata": {},
      "source": [
        "The result of copairs is a dataframe containing, in addition to the\n",
        "original metadata, the average precision with which perturbations were\n",
        "retrieved. Perturbations that look more similar to each other than to\n",
        "the negative controls in the plates present in the same plates will be\n",
        "higher. Perturbations that do not differentiate themselves against\n",
        "negative controls will be closer to zero.\n",
        "\n",
        "To wrap up we pull the standard gene symbol and plot the distribution of\n",
        "average precision."
      ],
      "id": "b270f4bc-4f6c-426e-8915-5aa6be47e86d"
    },
    {
      "cell_type": "code",
      "execution_count": 6,
      "metadata": {},
      "outputs": [
        {
          "output_type": "display_data",
          "metadata": {},
          "data": {
            "image/png": "[encoded data removed]"
          }
        }
      ],
      "source": [
        "name_mapper = get_mapper(subsample, input_column=\"JCP2022\", output_columns=\"JCP2022,standard_key\")\n",
        "\n",
        "to_plot = result.filter(pl.col(\"pert_type\")==\"trt\").with_columns(pl.col(\"Metadata_JCP2022\").replace(name_mapper).alias(\"Perturbed gene\"))\n",
        "\n",
        "# Plotting\n",
        "sns.stripplot(data=to_plot.to_pandas(), x=\"average_precision\", y=\"Perturbed gene\")"
      ],
      "id": "0d1da7a6"
    },
    {
      "cell_type": "markdown",
      "metadata": {},
      "source": [
        "We can see that only some perturbations can be easily retrieved when\n",
        "compared to negative controls, in this case KIF16B and CDK20."
      ],
      "id": "841b52a7-7a7d-4113-8457-d23366cf5559"
    }
  ],
  "nbformat": 4,
  "nbformat_minor": 5,
  "metadata": {
    "jupytext": {
      "executable": "/usr/bin/env jupyter",
      "text_representation": {
        "extension": ".qmd",
        "format_name": "quarto",
        "format_version": "1.0",
        "jupytext_version": "1.16.4"
      }
    },
    "kernelspec": {
      "name": "python3",
      "display_name": "Python 3",
      "language": "python"
    },
    "language_info": {
      "name": "python",
      "codemirror_mode": {
        "name": "ipython",
        "version": "3"
      },
      "file_extension": ".py",
      "mimetype": "text/x-python",
      "nbconvert_exporter": "python",
      "pygments_lexer": "ipython3",
      "version": "3.11.9"
    },
    "widgets": {
      "application/vnd.jupyter.widget-state+json": {
        "state": {
          "15a7ab0aa2724df8ab1f4cf8868f85e4": {
            "model_module": "@jupyter-widgets/base",
            "model_module_version": "2.0.0",
            "model_name": "LayoutModel",
            "state": {
              "_model_module": "@jupyter-widgets/base",
              "_model_module_version": "2.0.0",
              "_model_name": "LayoutModel",
              "_view_count": null,
              "_view_module": "@jupyter-widgets/base",
              "_view_module_version": "2.0.0",
              "_view_name": "LayoutView",
              "align_content": null,
              "align_items": null,
              "align_self": null,
              "border_bottom": null,
              "border_left": null,
              "border_right": null,
              "border_top": null,
              "bottom": null,
              "display": null,
              "flex": null,
              "flex_flow": null,
              "grid_area": null,
              "grid_auto_columns": null,
              "grid_auto_flow": null,
              "grid_auto_rows": null,
              "grid_column": null,
              "grid_gap": null,
              "grid_row": null,
              "grid_template_areas": null,
              "grid_template_columns": null,
              "grid_template_rows": null,
              "height": null,
              "justify_content": null,
              "justify_items": null,
              "left": null,
              "margin": null,
              "max_height": null,
              "max_width": null,
              "min_height": null,
              "min_width": null,
              "object_fit": null,
              "object_position": null,
              "order": null,
              "overflow": null,
              "padding": null,
              "right": null,
              "top": null,
              "visibility": null,
              "width": null
            }
          },
          "21be7f60d35d4de2a04c69308e282333": {
            "model_module": "@jupyter-widgets/base",
            "model_module_version": "2.0.0",
            "model_name": "LayoutModel",
            "state": {
              "_model_module": "@jupyter-widgets/base",
              "_model_module_version": "2.0.0",
              "_model_name": "LayoutModel",
              "_view_count": null,
              "_view_module": "@jupyter-widgets/base",
              "_view_module_version": "2.0.0",
              "_view_name": "LayoutView",
              "align_content": null,
              "align_items": null,
              "align_self": null,
              "border_bottom": null,
              "border_left": null,
              "border_right": null,
              "border_top": null,
              "bottom": null,
              "display": null,
              "flex": null,
              "flex_flow": null,
              "grid_area": null,
              "grid_auto_columns": null,
              "grid_auto_flow": null,
              "grid_auto_rows": null,
              "grid_column": null,
              "grid_gap": null,
              "grid_row": null,
              "grid_template_areas": null,
              "grid_template_columns": null,
              "grid_template_rows": null,
              "height": null,
              "justify_content": null,
              "justify_items": null,
              "left": null,
              "margin": null,
              "max_height": null,
              "max_width": null,
              "min_height": null,
              "min_width": null,
              "object_fit": null,
              "object_position": null,
              "order": null,
              "overflow": null,
              "padding": null,
              "right": null,
              "top": null,
              "visibility": null,
              "width": null
            }
          },
          "2488baba706e4b3b90f27fe5e6b35bd2": {
            "model_module": "@jupyter-widgets/controls",
            "model_module_version": "2.0.0",
            "model_name": "HTMLModel",
            "state": {
              "_dom_classes": [],
              "_model_module": "@jupyter-widgets/controls",
              "_model_module_version": "2.0.0",
              "_model_name": "HTMLModel",
              "_view_count": null,
              "_view_module": "@jupyter-widgets/controls",
              "_view_module_version": "2.0.0",
              "_view_name": "HTMLView",
              "description": "",
              "description_allow_html": false,
              "layout": "IPY_MODEL_21be7f60d35d4de2a04c69308e282333",
              "placeholder": "​",
              "style": "IPY_MODEL_94d732e2fcdd4e25afcae5744215e76d",
              "tabbable": null,
              "tooltip": null,
              "value": " 0/5 [00:00&lt;?, ?it/s]"
            }
          },
          "33416feee6cf4167a55aba0c3b3971c8": {
            "model_module": "@jupyter-widgets/controls",
            "model_module_version": "2.0.0",
            "model_name": "ProgressStyleModel",
            "state": {
              "_model_module": "@jupyter-widgets/controls",
              "_model_module_version": "2.0.0",
              "_model_name": "ProgressStyleModel",
              "_view_count": null,
              "_view_module": "@jupyter-widgets/base",
              "_view_module_version": "2.0.0",
              "_view_name": "StyleView",
              "bar_color": null,
              "description_width": ""
            }
          },
          "33d417775d684180a8b3f64982294831": {
            "model_module": "@jupyter-widgets/controls",
            "model_module_version": "2.0.0",
            "model_name": "HBoxModel",
            "state": {
              "_dom_classes": [],
              "_model_module": "@jupyter-widgets/controls",
              "_model_module_version": "2.0.0",
              "_model_name": "HBoxModel",
              "_view_count": null,
              "_view_module": "@jupyter-widgets/controls",
              "_view_module_version": "2.0.0",
              "_view_name": "HBoxView",
              "box_style": "",
              "children": [
                "IPY_MODEL_bf2e0d43428640f09028b2eb789c86af",
                "IPY_MODEL_83248e9e8f17444fb788b7cfb1b39b85",
                "IPY_MODEL_2488baba706e4b3b90f27fe5e6b35bd2"
              ],
              "layout": "IPY_MODEL_81f7c16d9eb84f8a9561d6eccd8b8601",
              "tabbable": null,
              "tooltip": null
            }
          },
          "41b0c95868af42d3af672d9c8be770c5": {
            "model_module": "@jupyter-widgets/base",
            "model_module_version": "2.0.0",
            "model_name": "LayoutModel",
            "state": {
              "_model_module": "@jupyter-widgets/base",
              "_model_module_version": "2.0.0",
              "_model_name": "LayoutModel",
              "_view_count": null,
              "_view_module": "@jupyter-widgets/base",
              "_view_module_version": "2.0.0",
              "_view_name": "LayoutView",
              "align_content": null,
              "align_items": null,
              "align_self": null,
              "border_bottom": null,
              "border_left": null,
              "border_right": null,
              "border_top": null,
              "bottom": null,
              "display": null,
              "flex": null,
              "flex_flow": null,
              "grid_area": null,
              "grid_auto_columns": null,
              "grid_auto_flow": null,
              "grid_auto_rows": null,
              "grid_column": null,
              "grid_gap": null,
              "grid_row": null,
              "grid_template_areas": null,
              "grid_template_columns": null,
              "grid_template_rows": null,
              "height": null,
              "justify_content": null,
              "justify_items": null,
              "left": null,
              "margin": null,
              "max_height": null,
              "max_width": null,
              "min_height": null,
              "min_width": null,
              "object_fit": null,
              "object_position": null,
              "order": null,
              "overflow": null,
              "padding": null,
              "right": null,
              "top": null,
              "visibility": "hidden",
              "width": null
            }
          },
          "56db07f2593d492ca04ff3c5601abfdf": {
            "model_module": "@jupyter-widgets/controls",
            "model_module_version": "2.0.0",
            "model_name": "ProgressStyleModel",
            "state": {
              "_model_module": "@jupyter-widgets/controls",
              "_model_module_version": "2.0.0",
              "_model_name": "ProgressStyleModel",
              "_view_count": null,
              "_view_module": "@jupyter-widgets/base",
              "_view_module_version": "2.0.0",
              "_view_name": "StyleView",
              "bar_color": null,
              "description_width": ""
            }
          },
          "57c2dd04444f46ca962bc1a2a3429f6f": {
            "model_module": "@jupyter-widgets/controls",
            "model_module_version": "2.0.0",
            "model_name": "HTMLStyleModel",
            "state": {
              "_model_module": "@jupyter-widgets/controls",
              "_model_module_version": "2.0.0",
              "_model_name": "HTMLStyleModel",
              "_view_count": null,
              "_view_module": "@jupyter-widgets/base",
              "_view_module_version": "2.0.0",
              "_view_name": "StyleView",
              "background": null,
              "description_width": "",
              "font_size": null,
              "text_color": null
            }
          },
          "6ef5b64d927c4688abac00ca65932628": {
            "model_module": "@jupyter-widgets/base",
            "model_module_version": "2.0.0",
            "model_name": "LayoutModel",
            "state": {
              "_model_module": "@jupyter-widgets/base",
              "_model_module_version": "2.0.0",
              "_model_name": "LayoutModel",
              "_view_count": null,
              "_view_module": "@jupyter-widgets/base",
              "_view_module_version": "2.0.0",
              "_view_name": "LayoutView",
              "align_content": null,
              "align_items": null,
              "align_self": null,
              "border_bottom": null,
              "border_left": null,
              "border_right": null,
              "border_top": null,
              "bottom": null,
              "display": null,
              "flex": null,
              "flex_flow": null,
              "grid_area": null,
              "grid_auto_columns": null,
              "grid_auto_flow": null,
              "grid_auto_rows": null,
              "grid_column": null,
              "grid_gap": null,
              "grid_row": null,
              "grid_template_areas": null,
              "grid_template_columns": null,
              "grid_template_rows": null,
              "height": null,
              "justify_content": null,
              "justify_items": null,
              "left": null,
              "margin": null,
              "max_height": null,
              "max_width": null,
              "min_height": null,
              "min_width": null,
              "object_fit": null,
              "object_position": null,
              "order": null,
              "overflow": null,
              "padding": null,
              "right": null,
              "top": null,
              "visibility": null,
              "width": null
            }
          },
          "75420925770e4f5590a217fcb585cc15": {
            "model_module": "@jupyter-widgets/controls",
            "model_module_version": "2.0.0",
            "model_name": "HTMLModel",
            "state": {
              "_dom_classes": [],
              "_model_module": "@jupyter-widgets/controls",
              "_model_module_version": "2.0.0",
              "_model_name": "HTMLModel",
              "_view_count": null,
              "_view_module": "@jupyter-widgets/controls",
              "_view_module_version": "2.0.0",
              "_view_name": "HTMLView",
              "description": "",
              "description_allow_html": false,
              "layout": "IPY_MODEL_ae47c72beedd4d3bbf08cf51001dd682",
              "placeholder": "​",
              "style": "IPY_MODEL_dfe94bb88e564eb58abbbfa8f0dc34f3",
              "tabbable": null,
              "tooltip": null,
              "value": " 0/2 [00:00&lt;?, ?it/s]"
            }
          },
          "81f7c16d9eb84f8a9561d6eccd8b8601": {
            "model_module": "@jupyter-widgets/base",
            "model_module_version": "2.0.0",
            "model_name": "LayoutModel",
            "state": {
              "_model_module": "@jupyter-widgets/base",
              "_model_module_version": "2.0.0",
              "_model_name": "LayoutModel",
              "_view_count": null,
              "_view_module": "@jupyter-widgets/base",
              "_view_module_version": "2.0.0",
              "_view_name": "LayoutView",
              "align_content": null,
              "align_items": null,
              "align_self": null,
              "border_bottom": null,
              "border_left": null,
              "border_right": null,
              "border_top": null,
              "bottom": null,
              "display": null,
              "flex": null,
              "flex_flow": null,
              "grid_area": null,
              "grid_auto_columns": null,
              "grid_auto_flow": null,
              "grid_auto_rows": null,
              "grid_column": null,
              "grid_gap": null,
              "grid_row": null,
              "grid_template_areas": null,
              "grid_template_columns": null,
              "grid_template_rows": null,
              "height": null,
              "justify_content": null,
              "justify_items": null,
              "left": null,
              "margin": null,
              "max_height": null,
              "max_width": null,
              "min_height": null,
              "min_width": null,
              "object_fit": null,
              "object_position": null,
              "order": null,
              "overflow": null,
              "padding": null,
              "right": null,
              "top": null,
              "visibility": "hidden",
              "width": null
            }
          },
          "83248e9e8f17444fb788b7cfb1b39b85": {
            "model_module": "@jupyter-widgets/controls",
            "model_module_version": "2.0.0",
            "model_name": "FloatProgressModel",
            "state": {
              "_dom_classes": [],
              "_model_module": "@jupyter-widgets/controls",
              "_model_module_version": "2.0.0",
              "_model_name": "FloatProgressModel",
              "_view_count": null,
              "_view_module": "@jupyter-widgets/controls",
              "_view_module_version": "2.0.0",
              "_view_name": "ProgressView",
              "bar_style": "",
              "description": "",
              "description_allow_html": false,
              "layout": "IPY_MODEL_6ef5b64d927c4688abac00ca65932628",
              "max": 5,
              "min": 0,
              "orientation": "horizontal",
              "style": "IPY_MODEL_56db07f2593d492ca04ff3c5601abfdf",
              "tabbable": null,
              "tooltip": null,
              "value": 5
            }
          },
          "8e610a1c11b44b83a1507ca7efbf949e": {
            "model_module": "@jupyter-widgets/base",
            "model_module_version": "2.0.0",
            "model_name": "LayoutModel",
            "state": {
              "_model_module": "@jupyter-widgets/base",
              "_model_module_version": "2.0.0",
              "_model_name": "LayoutModel",
              "_view_count": null,
              "_view_module": "@jupyter-widgets/base",
              "_view_module_version": "2.0.0",
              "_view_name": "LayoutView",
              "align_content": null,
              "align_items": null,
              "align_self": null,
              "border_bottom": null,
              "border_left": null,
              "border_right": null,
              "border_top": null,
              "bottom": null,
              "display": null,
              "flex": null,
              "flex_flow": null,
              "grid_area": null,
              "grid_auto_columns": null,
              "grid_auto_flow": null,
              "grid_auto_rows": null,
              "grid_column": null,
              "grid_gap": null,
              "grid_row": null,
              "grid_template_areas": null,
              "grid_template_columns": null,
              "grid_template_rows": null,
              "height": null,
              "justify_content": null,
              "justify_items": null,
              "left": null,
              "margin": null,
              "max_height": null,
              "max_width": null,
              "min_height": null,
              "min_width": null,
              "object_fit": null,
              "object_position": null,
              "order": null,
              "overflow": null,
              "padding": null,
              "right": null,
              "top": null,
              "visibility": null,
              "width": null
            }
          },
          "94d732e2fcdd4e25afcae5744215e76d": {
            "model_module": "@jupyter-widgets/controls",
            "model_module_version": "2.0.0",
            "model_name": "HTMLStyleModel",
            "state": {
              "_model_module": "@jupyter-widgets/controls",
              "_model_module_version": "2.0.0",
              "_model_name": "HTMLStyleModel",
              "_view_count": null,
              "_view_module": "@jupyter-widgets/base",
              "_view_module_version": "2.0.0",
              "_view_name": "StyleView",
              "background": null,
              "description_width": "",
              "font_size": null,
              "text_color": null
            }
          },
          "a1b5e23fcf154030b2577cc33067d35f": {
            "model_module": "@jupyter-widgets/base",
            "model_module_version": "2.0.0",
            "model_name": "LayoutModel",
            "state": {
              "_model_module": "@jupyter-widgets/base",
              "_model_module_version": "2.0.0",
              "_model_name": "LayoutModel",
              "_view_count": null,
              "_view_module": "@jupyter-widgets/base",
              "_view_module_version": "2.0.0",
              "_view_name": "LayoutView",
              "align_content": null,
              "align_items": null,
              "align_self": null,
              "border_bottom": null,
              "border_left": null,
              "border_right": null,
              "border_top": null,
              "bottom": null,
              "display": null,
              "flex": null,
              "flex_flow": null,
              "grid_area": null,
              "grid_auto_columns": null,
              "grid_auto_flow": null,
              "grid_auto_rows": null,
              "grid_column": null,
              "grid_gap": null,
              "grid_row": null,
              "grid_template_areas": null,
              "grid_template_columns": null,
              "grid_template_rows": null,
              "height": null,
              "justify_content": null,
              "justify_items": null,
              "left": null,
              "margin": null,
              "max_height": null,
              "max_width": null,
              "min_height": null,
              "min_width": null,
              "object_fit": null,
              "object_position": null,
              "order": null,
              "overflow": null,
              "padding": null,
              "right": null,
              "top": null,
              "visibility": null,
              "width": null
            }
          },
          "ae47c72beedd4d3bbf08cf51001dd682": {
            "model_module": "@jupyter-widgets/base",
            "model_module_version": "2.0.0",
            "model_name": "LayoutModel",
            "state": {
              "_model_module": "@jupyter-widgets/base",
              "_model_module_version": "2.0.0",
              "_model_name": "LayoutModel",
              "_view_count": null,
              "_view_module": "@jupyter-widgets/base",
              "_view_module_version": "2.0.0",
              "_view_name": "LayoutView",
              "align_content": null,
              "align_items": null,
              "align_self": null,
              "border_bottom": null,
              "border_left": null,
              "border_right": null,
              "border_top": null,
              "bottom": null,
              "display": null,
              "flex": null,
              "flex_flow": null,
              "grid_area": null,
              "grid_auto_columns": null,
              "grid_auto_flow": null,
              "grid_auto_rows": null,
              "grid_column": null,
              "grid_gap": null,
              "grid_row": null,
              "grid_template_areas": null,
              "grid_template_columns": null,
              "grid_template_rows": null,
              "height": null,
              "justify_content": null,
              "justify_items": null,
              "left": null,
              "margin": null,
              "max_height": null,
              "max_width": null,
              "min_height": null,
              "min_width": null,
              "object_fit": null,
              "object_position": null,
              "order": null,
              "overflow": null,
              "padding": null,
              "right": null,
              "top": null,
              "visibility": null,
              "width": null
            }
          },
          "bf2e0d43428640f09028b2eb789c86af": {
            "model_module": "@jupyter-widgets/controls",
            "model_module_version": "2.0.0",
            "model_name": "HTMLModel",
            "state": {
              "_dom_classes": [],
              "_model_module": "@jupyter-widgets/controls",
              "_model_module_version": "2.0.0",
              "_model_name": "HTMLModel",
              "_view_count": null,
              "_view_module": "@jupyter-widgets/controls",
              "_view_module_version": "2.0.0",
              "_view_name": "HTMLView",
              "description": "",
              "description_allow_html": false,
              "layout": "IPY_MODEL_8e610a1c11b44b83a1507ca7efbf949e",
              "placeholder": "​",
              "style": "IPY_MODEL_f1edf6f0e3274fd286d6adbb1b5e98be",
              "tabbable": null,
              "tooltip": null,
              "value": "  0%"
            }
          },
          "bf6864bde1e6447488fd141ce75d67b3": {
            "model_module": "@jupyter-widgets/controls",
            "model_module_version": "2.0.0",
            "model_name": "HBoxModel",
            "state": {
              "_dom_classes": [],
              "_model_module": "@jupyter-widgets/controls",
              "_model_module_version": "2.0.0",
              "_model_name": "HBoxModel",
              "_view_count": null,
              "_view_module": "@jupyter-widgets/controls",
              "_view_module_version": "2.0.0",
              "_view_name": "HBoxView",
              "box_style": "",
              "children": [
                "IPY_MODEL_f148cc091df84b07a632efad66a81977",
                "IPY_MODEL_e060cf6216d04bf9ab65b2b6110d0fdd",
                "IPY_MODEL_75420925770e4f5590a217fcb585cc15"
              ],
              "layout": "IPY_MODEL_41b0c95868af42d3af672d9c8be770c5",
              "tabbable": null,
              "tooltip": null
            }
          },
          "dfe94bb88e564eb58abbbfa8f0dc34f3": {
            "model_module": "@jupyter-widgets/controls",
            "model_module_version": "2.0.0",
            "model_name": "HTMLStyleModel",
            "state": {
              "_model_module": "@jupyter-widgets/controls",
              "_model_module_version": "2.0.0",
              "_model_name": "HTMLStyleModel",
              "_view_count": null,
              "_view_module": "@jupyter-widgets/base",
              "_view_module_version": "2.0.0",
              "_view_name": "StyleView",
              "background": null,
              "description_width": "",
              "font_size": null,
              "text_color": null
            }
          },
          "e060cf6216d04bf9ab65b2b6110d0fdd": {
            "model_module": "@jupyter-widgets/controls",
            "model_module_version": "2.0.0",
            "model_name": "FloatProgressModel",
            "state": {
              "_dom_classes": [],
              "_model_module": "@jupyter-widgets/controls",
              "_model_module_version": "2.0.0",
              "_model_name": "FloatProgressModel",
              "_view_count": null,
              "_view_module": "@jupyter-widgets/controls",
              "_view_module_version": "2.0.0",
              "_view_name": "ProgressView",
              "bar_style": "",
              "description": "",
              "description_allow_html": false,
              "layout": "IPY_MODEL_a1b5e23fcf154030b2577cc33067d35f",
              "max": 2,
              "min": 0,
              "orientation": "horizontal",
              "style": "IPY_MODEL_33416feee6cf4167a55aba0c3b3971c8",
              "tabbable": null,
              "tooltip": null,
              "value": 2
            }
          },
          "f148cc091df84b07a632efad66a81977": {
            "model_module": "@jupyter-widgets/controls",
            "model_module_version": "2.0.0",
            "model_name": "HTMLModel",
            "state": {
              "_dom_classes": [],
              "_model_module": "@jupyter-widgets/controls",
              "_model_module_version": "2.0.0",
              "_model_name": "HTMLModel",
              "_view_count": null,
              "_view_module": "@jupyter-widgets/controls",
              "_view_module_version": "2.0.0",
              "_view_name": "HTMLView",
              "description": "",
              "description_allow_html": false,
              "layout": "IPY_MODEL_15a7ab0aa2724df8ab1f4cf8868f85e4",
              "placeholder": "​",
              "style": "IPY_MODEL_57c2dd04444f46ca962bc1a2a3429f6f",
              "tabbable": null,
              "tooltip": null,
              "value": "  0%"
            }
          },
          "f1edf6f0e3274fd286d6adbb1b5e98be": {
            "model_module": "@jupyter-widgets/controls",
            "model_module_version": "2.0.0",
            "model_name": "HTMLStyleModel",
            "state": {
              "_model_module": "@jupyter-widgets/controls",
              "_model_module_version": "2.0.0",
              "_model_name": "HTMLStyleModel",
              "_view_count": null,
              "_view_module": "@jupyter-widgets/base",
              "_view_module_version": "2.0.0",
              "_view_name": "StyleView",
              "background": null,
              "description_width": "",
              "font_size": null,
              "text_color": null
            }
          }
        },
        "version_major": 2,
        "version_minor": 0
      }
    }
  }
}