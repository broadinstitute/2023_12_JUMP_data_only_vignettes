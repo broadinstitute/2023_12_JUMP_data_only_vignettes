{
 "cells": [
  {
   "cell_type": "markdown",
   "id": "5fdd3e77-7881-4c27-8c6f-2300b4168e42",
   "metadata": {},
   "source": [
    "# Incorporate metadata into profiles\n",
    "\n",
    "A very common task when processing morphological profiles is knowing\n",
    "which ones are treatments and which ones are controls. Here we will\n",
    "explore how we can use broad-babel to accomplish this task."
   ]
  },
  {
   "cell_type": "code",
   "execution_count": 0,
   "id": "24e8614b0032-f6c8-72c4-1887-77e3ddf5",
   "metadata": {},
   "outputs": [],
   "source": [
    "!pip install jump_deps"
   ]
  },
  {
   "cell_type": "code",
   "execution_count": 1,
   "id": "49e2f643",
   "metadata": {
    "title": "Imports"
   },
   "outputs": [],
   "source": [
    "import polars as pl\n",
    "from broad_babel.query import get_mapper"
   ]
  },
  {
   "cell_type": "markdown",
   "id": "2bdbc7ba-2536-407d-b7be-b8939059e3d9",
   "metadata": {},
   "source": [
    "We will be using the CRISPR dataset specificed in our index csv."
   ]
  },
  {
   "cell_type": "code",
   "execution_count": 2,
   "id": "3e88151c",
   "metadata": {
    "title": "Fetch the CRISPR dataset"
   },
   "outputs": [
    {
     "name": "stdout",
     "output_type": "stream",
     "text": [
      "['Metadata_Source', 'Metadata_Plate', 'Metadata_Well', 'Metadata_JCP2022', 'X_1', 'X_2']"
     ]
    }
   ],
   "source": [
    "INDEX_FILE = \"https://raw.githubusercontent.com/jump-cellpainting/datasets/50cd2ab93749ccbdb0919d3adf9277c14b6343dd/manifests/profile_index.csv\"\n",
    "CRISPR_URL = pl.read_csv(INDEX_FILE).filter(pl.col(\"subset\") == \"crispr\").item(0, \"url\")\n",
    "profiles = pl.scan_parquet(CRISPR_URL)\n",
    "print(profiles.collect_schema().names()[:6])"
   ]
  },
  {
   "cell_type": "markdown",
   "id": "2e7f2074-20ef-4e89-ab56-82e98bed40d1",
   "metadata": {},
   "source": [
    "For simplicity the contents of our processed profiles are minimal: “The\n",
    "profile origin” (source, plate and well) and the unique JUMP identifier\n",
    "for that perturbation. We will use broad-babel to further expand on this\n",
    "metadata, but for simplicity’s sake let us sample subset of data."
   ]
  },
  {
   "cell_type": "code",
   "execution_count": 3,
   "id": "7f583e39",
   "metadata": {
    "title": "Subset data"
   },
   "outputs": [
    {
     "data": {
      "text/plain": [
       "('JCP2022_801270',\n",
       " 'JCP2022_802425',\n",
       " 'JCP2022_802356',\n",
       " 'JCP2022_805808',\n",
       " 'JCP2022_804300',\n",
       " 'JCP2022_801205',\n",
       " 'JCP2022_802539',\n",
       " 'JCP2022_803663',\n",
       " 'JCP2022_800116',\n",
       " 'JCP2022_801847',\n",
       " 'JCP2022_800002')"
      ]
     },
     "metadata": {},
     "output_type": "display_data"
    }
   ],
   "source": [
    "jcp_ids = (\n",
    "    profiles.select(pl.col(\"Metadata_JCP2022\")).unique().collect().to_series().sort()\n",
    ")\n",
    "subsample = jcp_ids.sample(10, seed=42)\n",
    "# Add a well-known control\n",
    "subsample = (*subsample, \"JCP2022_800002\")\n",
    "subsample"
   ]
  },
  {
   "cell_type": "markdown",
   "id": "2e64406f-cf11-43da-afce-1c11f560eb7e",
   "metadata": {},
   "source": [
    "We will use these JUMP ids to obtain a mapper that indicates the\n",
    "perturbation type (trt, negcon or, rarely, poscon)"
   ]
  },
  {
   "cell_type": "code",
   "execution_count": 4,
   "id": "d097d1ae",
   "metadata": {
    "title": "Pull mapper"
   },
   "outputs": [
    {
     "data": {
      "text/plain": [
       "{'JCP2022_800116': 'trt',\n",
       " 'JCP2022_805808': 'trt',\n",
       " 'JCP2022_802425': 'trt',\n",
       " 'JCP2022_803663': 'trt',\n",
       " 'JCP2022_802539': 'trt',\n",
       " 'JCP2022_801847': 'trt',\n",
       " 'JCP2022_800002': 'negcon',\n",
       " 'JCP2022_804300': 'trt',\n",
       " 'JCP2022_802356': 'trt',\n",
       " 'JCP2022_801270': 'trt',\n",
       " 'JCP2022_801205': 'trt'}"
      ]
     },
     "metadata": {},
     "output_type": "display_data"
    }
   ],
   "source": [
    "pert_mapper = get_mapper(\n",
    "    subsample, input_column=\"JCP2022\", output_columns=\"JCP2022,pert_type\"\n",
    ")\n",
    "pert_mapper"
   ]
  },
  {
   "cell_type": "markdown",
   "id": "808a4307-0294-462f-98b9-ca51887658f5",
   "metadata": {},
   "source": [
    "A couple of important notes about broad_babel’s get mapper and other\n",
    "functions: - these must be fed tuples, as these are cached and provide\n",
    "significant speed-ups for repeated calls - ‘get-mapper’ works for\n",
    "datasets for up to a few tens of thousands of samples. If you try to use\n",
    "it to get a mapper for the entirety of the ‘compounds’ dataset it is\n",
    "likely to fail. For these cases we suggest the more general function\n",
    "‘run_query’. You can read more on this and other use-cases on Babel’s\n",
    "[readme](https://github.com/broadinstitute/monorepo/tree/main/libs/jump_babel).\n",
    "\n",
    "We will now repeat the process to get their ‘standard’ name"
   ]
  },
  {
   "cell_type": "code",
   "execution_count": 5,
   "id": "9a80b4be",
   "metadata": {
    "title": "Fetch standard name"
   },
   "outputs": [
    {
     "data": {
      "text/plain": [
       "{'JCP2022_803663': 'KIF16B',\n",
       " 'JCP2022_804300': 'MSX1',\n",
       " 'JCP2022_800002': 'non-targeting',\n",
       " 'JCP2022_805808': 'RAD51B',\n",
       " 'JCP2022_801847': 'DMRT2',\n",
       " 'JCP2022_802425': 'FLNC',\n",
       " 'JCP2022_802539': 'G6PC',\n",
       " 'JCP2022_801205': 'CDK20',\n",
       " 'JCP2022_800116': 'ACOT11',\n",
       " 'JCP2022_801270': 'CFB',\n",
       " 'JCP2022_802356': 'FDX1'}"
      ]
     },
     "metadata": {},
     "output_type": "display_data"
    }
   ],
   "source": [
    "name_mapper = get_mapper(\n",
    "    (*subsample, \"JCP2022_800002\"),\n",
    "    input_column=\"JCP2022\",\n",
    "    output_columns=\"JCP2022,standard_key\",\n",
    ")\n",
    "name_mapper"
   ]
  },
  {
   "cell_type": "markdown",
   "id": "8c8da092-49b3-411d-82d2-1d2f46867fd8",
   "metadata": {},
   "source": [
    "To wrap up, we will fetch all the available profiles for these\n",
    "perturbations and use the mappers to add the missing metadata. We also\n",
    "select a few features to showcase how how selection can be performed in\n",
    "polars."
   ]
  },
  {
   "cell_type": "code",
   "execution_count": 6,
   "id": "d161a7c9",
   "metadata": {
    "title": "Filter profiles and merge metadata"
   },
   "outputs": [
    {
     "data": {
      "text/html": [
       "</div>"
      ]
     },
     "metadata": {},
     "output_type": "display_data"
    }
   ],
   "source": [
    "subsample_profiles = profiles.filter(\n",
    "    pl.col(\"Metadata_JCP2022\").is_in(subsample)\n",
    ").collect()\n",
    "profiles_with_meta = subsample_profiles.with_columns(\n",
    "    pl.col(\"Metadata_JCP2022\").replace(pert_mapper).alias(\"pert_type\"),\n",
    "    pl.col(\"Metadata_JCP2022\").replace(name_mapper).alias(\"name\"),\n",
    ")\n",
    "profiles_with_meta.select(\n",
    "    pl.col((\"name\", \"pert_type\", \"^Metadata.*$\", \"^X_[0-3]$\"))\n",
    ").sort(by=\"pert_type\")"
   ]
  }
 ],
 "metadata": {
  "jupytext": {
   "executable": "/usr/bin/env jupyter",
   "text_representation": {
    "extension": ".qmd",
    "format_name": "quarto",
    "format_version": "1.0",
    "jupytext_version": "1.16.4"
   }
  },
  "kernelspec": {
   "display_name": "Python 3",
   "language": "python",
   "name": "python3"
  },
  "language_info": {
   "codemirror_mode": {
    "name": "ipython",
    "version": "3"
   },
   "file_extension": ".py",
   "mimetype": "text/x-python",
   "name": "python",
   "nbconvert_exporter": "python",
   "pygments_lexer": "ipython3",
   "version": "3.11.9"
  }
 },
 "nbformat": 4,
 "nbformat_minor": 5
}
