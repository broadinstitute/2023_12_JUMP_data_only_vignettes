{
  "cells": [
    {
      "cell_type": "markdown",
      "metadata": {},
      "source": [
        "# \n",
        "\n",
        "-   [Available resources](#Available%20resources)\n",
        "\n",
        "<a id=\"Available%20resources\"></a>\n",
        "\n",
        "# Available resources\n",
        "\n",
        "-   Home [website](https://jump-cellpainting.broadinstitute.org/):\n",
        "    Access news and related publications.\n",
        "-   We provide Open Source Web “JUMPer” interfaces for all three\n",
        "    datasets:\n",
        "    -   Explore all images with an available morphological profile:\n",
        "        [CRISPR](https://broad.io/crispr_gallery),\n",
        "        [ORF](https://broad.io/orf_gallery),\n",
        "        [Compounds](https://broad.io/compounds_gallery).\n",
        "    -   Explore the most similar matches for any given perturbation:\n",
        "        [CRISPR](https://broad.io/crispr), [ORF](https://broad.io/orf)\n",
        "    -   Explore the most distinctive features for any given gene:\n",
        "        [ORF](https://broad.io/orf_feature)\n",
        "\n",
        "Pending interfaces are work in progress. More details can be found\n",
        "[here](https://github.com/broadinstitute/monorepo/tree/main/libs/jump_rr).\n",
        "\n",
        "-   Ardigen provides a\n",
        "    [website](https://phenaid.ardigen.com/jumpcpexplorer/) to explore a\n",
        "    representation (requires creating a free account)."
      ],
      "id": "3ed9e0be-2335-4d12-a14b-6c792a24a5cd"
    }
  ],
  "nbformat": 4,
  "nbformat_minor": 5,
  "metadata": {
    "kernelspec": {
      "display_name": "Python 3",
      "language": "python",
      "name": "python3"
    }
  }
}