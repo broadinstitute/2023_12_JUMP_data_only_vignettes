{
  "cells": [
    {
      "cell_type": "markdown",
      "metadata": {},
      "source": [
        "# Query information of genes\n",
        "\n",
        "This how-to focuses on linking gene names outside. Whilst not\n",
        "JUMP-specific, it is useful to fetch more information on perturbations\n",
        "that our analysis deem important without having to manually search them.\n",
        "We will use [Biopython](https://biopython.org/), this only explores a\n",
        "subset of the options, the full Entrez\n",
        "[documentation](https://www.ncbi.nlm.nih.gov/books/NBK25501/), which\n",
        "contains all the options, is a useful reference to keep in hand.."
      ],
      "id": "472b5963-3350-4a01-8917-e7d51bd3c2e7"
    },
    {
      "cell_type": "code",
      "execution_count": 1,
      "metadata": {
        "title": "Imports"
      },
      "outputs": [],
      "source": [
        "import polars as pl\n",
        "from Bio import Entrez\n",
        "from broad_babel.query import get_mapper"
      ],
      "id": "29f4e07c"
    },
    {
      "cell_type": "markdown",
      "metadata": {},
      "source": [
        "We define"
      ],
      "id": "fcfdc1e6-c9c3-4af5-9013-bf8baa37e2a2"
    },
    {
      "cell_type": "code",
      "execution_count": 2,
      "metadata": {},
      "outputs": [],
      "source": [
        "Entrez.email = \"example@email.com\"\n",
        "fields = (\n",
        "    \"Name\",\n",
        "    \"Description\",\n",
        "    \"Summary\",\n",
        "    \"OtherDesignations\",  # This gives us synonyms\n",
        ")"
      ],
      "id": "ad5e16b4"
    },
    {
      "cell_type": "markdown",
      "metadata": {},
      "source": [
        "We will use a set of genes that we found in a JUMP cluster as an\n",
        "example."
      ],
      "id": "23ba3414-19ec-4d40-a605-16d54a723af0"
    },
    {
      "cell_type": "code",
      "execution_count": 3,
      "metadata": {},
      "outputs": [],
      "source": [
        "genes = (\"CHRM4\", \"SCAPER\", \"GPR176\", \"LY6K\")"
      ],
      "id": "3b9b193f"
    },
    {
      "cell_type": "markdown",
      "metadata": {},
      "source": [
        "Get the"
      ],
      "id": "fdfa1bdb-4f24-4fc8-975d-76a9eefc2481"
    },
    {
      "cell_type": "code",
      "execution_count": 4,
      "metadata": {},
      "outputs": [],
      "source": [
        "# Get a dictionary that maps Gene symbols to Entrez IDs\n",
        "ids = get_mapper(\n",
        "    query=genes,\n",
        "    input_column=\"standard_key\",\n",
        "    output_columns=\"standard_key,NCBI_Gene_ID\",\n",
        ")\n",
        "\n",
        "# Fetch the summaries for these genes\n",
        "entries = []\n",
        "for id_ in ids.values():\n",
        "    stream = Entrez.esummary(db=\"gene\", id=id_)\n",
        "    record = Entrez.read(stream)\n",
        "\n",
        "    entries.append(\n",
        "        {k: record[\"DocumentSummarySet\"][\"DocumentSummary\"][0][k] for k in fields}\n",
        "    )"
      ],
      "id": "86c44040"
    },
    {
      "cell_type": "code",
      "execution_count": 5,
      "metadata": {
        "title": "Show the columns in a nice way"
      },
      "outputs": [
        {
          "output_type": "display_data",
          "metadata": {},
          "data": {
            "text/html": [
              "</div>"
            ]
          }
        }
      ],
      "source": [
        "pl.DataFrame(entries)"
      ],
      "id": "c178738a"
    }
  ],
  "nbformat": 4,
  "nbformat_minor": 5,
  "metadata": {
    "jupytext": {
      "executable": "/usr/bin/env jupyter",
      "text_representation": {
        "extension": ".qmd",
        "format_name": "quarto",
        "format_version": "1.0",
        "jupytext_version": "1.16.4"
      }
    },
    "kernelspec": {
      "name": "python3",
      "display_name": "Python 3",
      "language": "python"
    },
    "language_info": {
      "name": "python",
      "codemirror_mode": {
        "name": "ipython",
        "version": "3"
      },
      "file_extension": ".py",
      "mimetype": "text/x-python",
      "nbconvert_exporter": "python",
      "pygments_lexer": "ipython3",
      "version": "3.11.9"
    }
  }
}