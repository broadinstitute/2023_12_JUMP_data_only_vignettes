{
  "cells": [
    {
      "cell_type": "markdown",
      "metadata": {},
      "source": [
        "# \n",
        "\n",
        "# Accessing a live coding environment\n",
        "\n",
        "This table provides direct link to run the guides on your browser.\n",
        "Google Colab is the only supported live-coding web interface.\n",
        "\n",
        "| Google Collab                                                                                                                                                                |\n",
        "|------------------------------------------------------------------------|\n",
        "| [Retrieve JUMP profiles](https://colab.research.google.com/github/broadinstitute/2023_12_JUMP_data_only_vignettes/blob/colab/colab/1_retrieve_profiles.ipynb)                |\n",
        "| [Add metadata to profiles](https://colab.research.google.com/github/broadinstitute/2023_12_JUMP_data_only_vignettes/blob/colab/colab/2_add_metadata.ipynb)                   |\n",
        "| [Calculate phenotypic activity](https://colab.research.google.com/github/broadinstitute/2023_12_JUMP_data_only_vignettes/blob/colab/colab/3_calculate_activity.ipynb)        |\n",
        "| [Display perturbation images](https://colab.research.google.com/github/broadinstitute/2023_12_JUMP_data_only_vignettes/blob/colab/colab/4_display_perturbation_images.ipynb) |\n",
        "| [Explore perturbation clusters](https://colab.research.google.com/github/broadinstitute/2023_12_JUMP_data_only_vignettes/blob/colab/colab/5_explore_distance_clusters.ipynb) |\n",
        "| [Query genes for more info](https://colab.research.google.com/github/broadinstitute/2023_12_JUMP_data_only_vignettes/blob/colab/colab/6_query_genes_externally.ipynb)        |\n",
        "\n",
        "Alternatively, you can download the notebooks from their respective\n",
        "pages and run them in your local Python environment. We have published a\n",
        "package containing all dependencies, you need only install in your\n",
        "environment using `pip install jump_deps` (Python 3.10 or 3.11)."
      ],
      "id": "efb01f68-e3b3-49ea-84b8-e233bb93dff3"
    }
  ],
  "nbformat": 4,
  "nbformat_minor": 5,
  "metadata": {
    "kernelspec": {
      "display_name": "Python 3",
      "language": "python",
      "name": "python3"
    }
  }
}