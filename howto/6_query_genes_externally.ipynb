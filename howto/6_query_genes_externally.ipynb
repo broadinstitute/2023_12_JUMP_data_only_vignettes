{
  "cells": [
    {
      "cell_type": "markdown",
      "metadata": {},
      "source": [
        "# Query information of genes\n",
        "\n",
        "This how-to focuses on linking gene names outside. Whilst not\n",
        "JUMP-specific, it is useful to fetch more information on perturbations\n",
        "that our analysis deem important without having to manually search them.\n",
        "We will use [Biopython](https://biopython.org/), this only explores a\n",
        "subset of the options, the full Entrez\n",
        "[documentation](https://www.ncbi.nlm.nih.gov/books/NBK25501/), which\n",
        "contains all the options, is a useful reference to keep in hand.."
      ],
      "id": "bc23d75e-ae7f-4ea7-866f-7788c8724860"
    },
    {
      "cell_type": "code",
      "execution_count": 1,
      "metadata": {
        "title": "Imports"
      },
      "outputs": [],
      "source": [
        "import polars as pl\n",
        "from Bio import Entrez\n",
        "from broad_babel.query import get_mapper"
      ],
      "id": "2d0ea7e6"
    },
    {
      "cell_type": "markdown",
      "metadata": {},
      "source": [
        "We define"
      ],
      "id": "7c25292f-5173-4157-9235-e5e6c7dc6475"
    },
    {
      "cell_type": "code",
      "execution_count": 2,
      "metadata": {},
      "outputs": [],
      "source": [
        "Entrez.email = \"example@email.com\"\n",
        "fields = (\n",
        "    \"Name\",\n",
        "    \"Description\",\n",
        "    \"Summary\",\n",
        "    \"OtherDesignations\",  # This gives us synonyms\n",
        ")"
      ],
      "id": "7f8ddd41"
    },
    {
      "cell_type": "markdown",
      "metadata": {},
      "source": [
        "We will use a set of genes that we found in a JUMP cluster as an\n",
        "example."
      ],
      "id": "3a52c3b0-c474-458a-bb44-060e3490fba0"
    },
    {
      "cell_type": "code",
      "execution_count": 3,
      "metadata": {},
      "outputs": [],
      "source": [
        "genes = (\"CHRM4\", \"SCAPER\", \"GPR176\", \"LY6K\")"
      ],
      "id": "e11ddb76"
    },
    {
      "cell_type": "markdown",
      "metadata": {},
      "source": [
        "Get the"
      ],
      "id": "7fad1b5d-44b2-4a81-aca3-9406ae667cb4"
    },
    {
      "cell_type": "code",
      "execution_count": 4,
      "metadata": {},
      "outputs": [],
      "source": [
        "# Get a dictionary that maps Gene symbols to Entrez IDs\n",
        "ids = get_mapper(\n",
        "    query=genes,\n",
        "    input_column=\"standard_key\",\n",
        "    output_columns=\"standard_key,NCBI_Gene_ID\",\n",
        ")\n",
        "\n",
        "# Fetch the summaries for these genes\n",
        "entries = []\n",
        "for id_ in ids.values():\n",
        "    stream = Entrez.esummary(db=\"gene\", id=id_)\n",
        "    record = Entrez.read(stream)\n",
        "\n",
        "    entries.append(\n",
        "        {k: record[\"DocumentSummarySet\"][\"DocumentSummary\"][0][k] for k in fields}\n",
        "    )"
      ],
      "id": "f0d7d712"
    },
    {
      "cell_type": "code",
      "execution_count": 5,
      "metadata": {
        "title": "Show the columns in a nice way"
      },
      "outputs": [
        {
          "output_type": "display_data",
          "metadata": {},
          "data": {
            "text/html": [
              "</div>"
            ]
          }
        }
      ],
      "source": [
        "pl.DataFrame(entries)"
      ],
      "id": "47b62749"
    }
  ],
  "nbformat": 4,
  "nbformat_minor": 5,
  "metadata": {
    "jupytext": {
      "executable": "/usr/bin/env jupyter",
      "text_representation": {
        "extension": ".qmd",
        "format_name": "quarto",
        "format_version": "1.0",
        "jupytext_version": "1.16.4"
      }
    },
    "kernelspec": {
      "name": "python3",
      "display_name": "Python 3",
      "language": "python"
    },
    "language_info": {
      "name": "python",
      "codemirror_mode": {
        "name": "ipython",
        "version": "3"
      },
      "file_extension": ".py",
      "mimetype": "text/x-python",
      "nbconvert_exporter": "python",
      "pygments_lexer": "ipython3",
      "version": "3.11.9"
    }
  }
}