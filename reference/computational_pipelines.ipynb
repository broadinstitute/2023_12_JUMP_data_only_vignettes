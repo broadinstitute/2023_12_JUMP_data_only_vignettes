{
  "cells": [
    {
      "cell_type": "markdown",
      "metadata": {},
      "source": [
        "# \n",
        "\n",
        "# Computational Pipelines\n",
        "\n",
        "## Image Processing Pipeline\n",
        "\n",
        "CellProfiler pipelines for segmentation and feature extraction as well\n",
        "as QC and illumination correction can be found on Github\n",
        "[here](https://github.com/broadinstitute/imaging-platform-pipelines/tree/master/JUMP_production).\n",
        "\n",
        "## Profile Generation\n",
        "\n",
        "The complete workflow for processing CellProfiler features (including\n",
        "annotation, normalization, and feature selection) is documented in the\n",
        "[`jump-profiling-recipe`](https://github.com/broadinstitute/jump-profiling-recipe)\n",
        "repository. Version\n",
        "[v0.1.0](https://github.com/broadinstitute/jump-profiling-recipe/releases/tag/v0.1.0)\n",
        "was used to generate the processed profiles available in the JUMP\n",
        "datasets."
      ],
      "id": "7e7e965b-4bd2-4860-872a-e315a36c5d6b"
    }
  ],
  "nbformat": 4,
  "nbformat_minor": 5,
  "metadata": {
    "kernelspec": {
      "display_name": "Python 3",
      "language": "python",
      "name": "python3"
    }
  }
}